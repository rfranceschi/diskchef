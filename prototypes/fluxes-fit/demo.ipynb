{
 "cells": [
  {
   "cell_type": "code",
   "execution_count": 1,
   "outputs": [
    {
     "name": "stdout",
     "output_type": "stream",
     "text": [
      "2021-07-05 10:37:50,927 | INFO : Starting demo\n"
     ]
    }
   ],
   "source": [
    "import logging\n",
    "import sys\n",
    "import time\n",
    "from diskchef.model.model import Model\n",
    "from pathlib import Path\n",
    "import astropy.table\n",
    "from diskchef.lamda.line import Line\n",
    "from diskchef.physics.yorke_bodenheimer import YorkeBodenheimer2008\n",
    "from diskchef.uv.uvfits_to_visibilities_ascii import UVFits\n",
    "from astropy import units as u\n",
    "import numpy as np\n",
    "import emcee\n",
    "from multiprocessing import Pool\n",
    "import tempfile\n",
    "import spectral_cube\n",
    "from matplotlib import pyplot as plt\n",
    "import ipywidgets\n",
    "\n",
    "logging.basicConfig(format='%(asctime)s | %(levelname)s : %(message)s',\n",
    "                    level=logging.INFO, stream=sys.stdout)\n",
    "\n",
    "logging.info(\"Starting demo\")"
   ],
   "metadata": {
    "collapsed": false,
    "pycharm": {
     "name": "#%%\n"
    }
   }
  },
  {
   "cell_type": "code",
   "execution_count": 3,
   "outputs": [
    {
     "name": "stdout",
     "output_type": "stream",
     "text": [
      "2021-07-02 16:24:20,501 | INFO : Creating an instance of Line\n",
      "2021-07-02 16:24:20,507 | INFO : Found LAMDA file: /mnt/d/astrowork/diskchef/diskchef/lamda/files/co.dat\n"
     ]
    }
   ],
   "source": [
    "lines = [\n",
    "    # Line(name='HCN J=3-2', transition=3, molecule='HCN'),\n",
    "    # Line(name='HCO+ J=3-2', transition=3, molecule='HCO+'),\n",
    "    # Line(name='N2H+ J=3-2', transition=3, molecule='N2H+'),\n",
    "    Line(name='CO J=2-1', transition=2, molecule='CO'),\n",
    "]\n",
    "\n",
    "yb = YorkeBodenheimer2008()"
   ],
   "metadata": {
    "collapsed": false,
    "pycharm": {
     "name": "#%%\n"
    }
   }
  },
  {
   "cell_type": "markdown",
   "source": [
    "## Play with different models"
   ],
   "metadata": {
    "collapsed": false
   }
  },
  {
   "cell_type": "code",
   "execution_count": 4,
   "outputs": [],
   "source": [
    "def plot_model(mass, gas_mass, bins, temperature_range_1au,\n",
    "               tapering_radius, tapering_gamma,\n",
    "               temperature_slope,\n",
    "               mmw, inner_radius,\n",
    "               rminmax):\n",
    "    mass = mass * u.M_sun\n",
    "    gas_mass = gas_mass * u.M_sun\n",
    "    print(f\"mass: {mass}\")\n",
    "    print(f\"gas mass: {gas_mass}\")\n",
    "    logging.info(f\"mass: {mass}\\ngas mass: {gas_mass}\")\n",
    "    folder = Path(tempfile.mkdtemp(prefix=\"fit_\", dir=\"play\"))\n",
    "    try:\n",
    "        demo_model = Model(\n",
    "            disk=\"Fit\",\n",
    "            line_list=lines,\n",
    "            params=dict(\n",
    "                r_min=rminmax[0] * u.au, r_max=rminmax[1] * u.au, radial_bins=bins, vertical_bins=bins,\n",
    "                gas_mass=gas_mass,\n",
    "                midplane_temperature_1au=temperature_range_1au[0] * u.K,\n",
    "                atmosphere_temperature_1au=temperature_range_1au[1] * u.K,\n",
    "                tapering_radius=tapering_radius * u.au,\n",
    "                tapering_gamma=tapering_gamma,\n",
    "                inner_radius=inner_radius * u.au,\n",
    "                mean_molecular_mass=mmw * u.g / u.mol,\n",
    "                temperature_slope=temperature_slope,\n",
    "            ),\n",
    "            rstar=yb.radius(mass),\n",
    "            tstar=yb.effective_temperature(mass),\n",
    "            inc=0 * u.deg,\n",
    "            PA=0 * u.deg,\n",
    "            distance=0 * u.pc,\n",
    "            # nphot_therm=3e5,\n",
    "            npix=120,\n",
    "            channels=21,\n",
    "            folder=folder,\n",
    "            run_mctherm=False,\n",
    "            run=False\n",
    "        )\n",
    "        demo_model.chemistry()\n",
    "        fig = demo_model.plot(save=False)\n",
    "    except Exception as e:\n",
    "        return e"
   ],
   "metadata": {
    "collapsed": false,
    "pycharm": {
     "name": "#%%\n"
    }
   }
  },
  {
   "cell_type": "code",
   "execution_count": 5,
   "outputs": [
    {
     "data": {
      "text/plain": "interactive(children=(FloatLogSlider(value=1.0, description='mass', max=1.0, min=-1.0), FloatLogSlider(value=0…",
      "application/vnd.jupyter.widget-view+json": {
       "version_major": 2,
       "version_minor": 0,
       "model_id": "33d9d031618042d6b3e1f430acb93da9"
      }
     },
     "metadata": {},
     "output_type": "display_data"
    },
    {
     "data": {
      "text/plain": "<function __main__.plot_model(mass, gas_mass, bins, temperature_range_1au, tapering_radius, tapering_gamma, temperature_slope, mmw, inner_radius, rminmax)>"
     },
     "execution_count": 5,
     "metadata": {},
     "output_type": "execute_result"
    }
   ],
   "source": [
    "ipywidgets.interact_manual(\n",
    "    plot_model,\n",
    "    mass=ipywidgets.FloatLogSlider(min=-1, max=1, base=10, value=1),\n",
    "    gas_mass=ipywidgets.FloatLogSlider(min=-3, max=0, base=10, value=1e-2),\n",
    "    bins=ipywidgets.IntSlider(min=5, max=100, value=30),\n",
    "    temperature_range_1au=ipywidgets.FloatRangeSlider(min=50, max=1100, step=10,\n",
    "                                                      value=[200, 1000], readout_format=\"d\"),\n",
    "    rminmax=ipywidgets.FloatRangeSlider(min=0.01, max=1000, step=10, value=[1, 400]),\n",
    "    tapering_radius=ipywidgets.IntSlider(min=10, max=1000, value=100),\n",
    "    tapering_gamma=ipywidgets.FloatSlider(min=0.1, max=2., value=0.75),\n",
    "    temperature_slope=ipywidgets.FloatSlider(min=0.1, max=2., value=0.55),\n",
    "    mmw=ipywidgets.FloatSlider(min=1, max=30, value=2.33),\n",
    "    inner_radius=ipywidgets.FloatSlider(min=0.1, max=10, value=1)\n",
    ")\n"
   ],
   "metadata": {
    "collapsed": false,
    "pycharm": {
     "name": "#%%\n"
    }
   }
  }
 ],
 "metadata": {
  "kernelspec": {
   "display_name": "Python 3",
   "language": "python",
   "name": "python3"
  },
  "language_info": {
   "codemirror_mode": {
    "name": "ipython",
    "version": 2
   },
   "file_extension": ".py",
   "mimetype": "text/x-python",
   "name": "python",
   "nbconvert_exporter": "python",
   "pygments_lexer": "ipython2",
   "version": "2.7.6"
  }
 },
 "nbformat": 4,
 "nbformat_minor": 0
}