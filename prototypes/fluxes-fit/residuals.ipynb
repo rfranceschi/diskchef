{
 "cells": [
  {
   "cell_type": "code",
   "execution_count": 1,
   "metadata": {
    "collapsed": true,
    "pycharm": {
     "name": "#%%\n"
    }
   },
   "outputs": [],
   "source": [
    "import matplotlib.pyplot as plt\n",
    "import time\n",
    "import diskchef.uv.galariochef\n",
    "from diskchef.model.model import Model\n",
    "from pathlib import Path\n",
    "import astropy.table\n",
    "from diskchef.lamda.line import Line\n",
    "from diskchef.physics.yorke_bodenheimer import YorkeBodenheimer2008\n",
    "from diskchef.uv.galariochef import Residual\n",
    "from diskchef.uv.uvfits_to_visibilities_ascii import UVFits\n",
    "from astropy import units as u\n",
    "import numpy as np\n",
    "import emcee\n",
    "from spectral_cube import SpectralCube\n",
    "from matplotlib import pyplot as plt\n",
    "from astropy import constants as c\n",
    "import logging\n",
    "from tqdm import tqdm\n",
    "from galario.double import sampleImage, chi2Image\n",
    "from astropy.visualization import quantity_support\n",
    "\n",
    "quantity_support()\n",
    "\n",
    "logging.basicConfig(level=\"INFO\")"
   ]
  },
  {
   "cell_type": "code",
   "execution_count": 2,
   "outputs": [
    {
     "name": "stdout",
     "output_type": "stream",
     "text": [
      "Default/radmc_gas\n",
      "[PosixPath('fit2/fit_3wxvzbly/radmc_gas'), PosixPath('fit2/fit_5jmejov9/radmc_gas'), PosixPath('fit2/fit_5_qcta_g/radmc_gas'), PosixPath('fit2/fit_7cily2w3/radmc_gas'), PosixPath('fit2/fit_8o0d_5dc/radmc_gas'), PosixPath('fit2/fit_94af5h_f/radmc_gas'), PosixPath('fit2/fit_9ikbtuta/radmc_gas'), PosixPath('fit2/fit_9uf_4pys/radmc_gas'), PosixPath('fit2/fit_bs_hsipx/radmc_gas'), PosixPath('fit2/fit_d2eh2k3d/radmc_gas'), PosixPath('fit2/fit_d_vm6yno/radmc_gas'), PosixPath('fit2/fit_fwulv0ab/radmc_gas'), PosixPath('fit2/fit_g545lkyd/radmc_gas'), PosixPath('fit2/fit_gq6bgq5k/radmc_gas'), PosixPath('fit2/fit_i3089s87/radmc_gas'), PosixPath('fit2/fit_ibm7isg0/radmc_gas'), PosixPath('fit2/fit_ijl0pmw6/radmc_gas'), PosixPath('fit2/fit_jg7vmffu/radmc_gas'), PosixPath('fit2/fit_jv1nezf7/radmc_gas'), PosixPath('fit2/fit_lhfmrc6h/radmc_gas'), PosixPath('fit2/fit_mqfc61a3/radmc_gas'), PosixPath('fit2/fit_m_g2f4v9/radmc_gas'), PosixPath('fit2/fit_n8atoilb/radmc_gas'), PosixPath('fit2/fit_ntq7cg09/radmc_gas'), PosixPath('fit2/fit_oabgb8eo/radmc_gas'), PosixPath('fit2/fit_ohov5ogt/radmc_gas'), PosixPath('fit2/fit_orbo5ilz/radmc_gas'), PosixPath('fit2/fit_our8t7c9/radmc_gas'), PosixPath('fit2/fit_pji3158x/radmc_gas'), PosixPath('fit2/fit_rng_4cah/radmc_gas'), PosixPath('fit2/fit_snn5j91i/radmc_gas'), PosixPath('fit2/fit_srmc1ay_/radmc_gas'), PosixPath('fit2/fit_tvdycway/radmc_gas'), PosixPath('fit2/fit_usc9xls4/radmc_gas'), PosixPath('fit2/fit_uzm_vs8y/radmc_gas'), PosixPath('fit2/fit_v75bjuec/radmc_gas'), PosixPath('fit2/fit_vim00095/radmc_gas'), PosixPath('fit2/fit_vwp0cgzz/radmc_gas'), PosixPath('fit2/fit_zl1607vy/radmc_gas'), PosixPath('fit2/fit_zw6xkv8r/radmc_gas')]\n"
     ]
    }
   ],
   "source": [
    "model_reference_path = Path(\"Default\") / \"radmc_gas\"\n",
    "model_comparison_paths = Path(\"fit2\").glob(\"fit_*/radmc_gas\")\n",
    "\n",
    "print(model_reference_path)\n",
    "print(list(model_comparison_paths))\n",
    "\n",
    "\n",
    "def residual(folder1: Path, folder2: Path):\n",
    "    data1 = Residual(folder1)\n",
    "    data2 = Residual()\n",
    "    return 0\n",
    "\n",
    "# cube = SpectralCube(model_reference_path)\n",
    "# vis = sampleImage(image, dxy, u, v)"
   ],
   "metadata": {
    "collapsed": false,
    "pycharm": {
     "name": "#%%\n"
    }
   }
  },
  {
   "cell_type": "markdown",
   "source": [
    "### Get UV coordinates of a real uvfits file from PRODIGE"
   ],
   "metadata": {
    "collapsed": false,
    "pycharm": {
     "name": "#%% md\n"
    }
   }
  },
  {
   "cell_type": "code",
   "execution_count": 3,
   "outputs": [
    {
     "name": "stderr",
     "output_type": "stream",
     "text": [
      "INFO:diskchef.uv.uvfits_to_visibilities_ascii.UVFits:Creating an instance of UVFits\n"
     ]
    },
    {
     "data": {
      "text/plain": "<Figure size 432x288 with 1 Axes>",
      "image/png": "[encoded data removed]"
     },
     "metadata": {
      "needs_background": "light"
     },
     "output_type": "display_data"
    }
   ],
   "source": [
    "uvdata = UVFits(\"s-Line-22-CO_1+D.uvfits\", 'all', sum=False)\n",
    "uvdata.plot_uvgrid()"
   ],
   "metadata": {
    "collapsed": false,
    "pycharm": {
     "name": "#%%\n"
    }
   }
  },
  {
   "cell_type": "markdown",
   "source": [
    "Optionally, pickle it"
   ],
   "metadata": {
    "collapsed": false,
    "pycharm": {
     "name": "#%% md\n"
    }
   }
  },
  {
   "cell_type": "code",
   "execution_count": 4,
   "outputs": [],
   "source": [
    "uvdata.pickle(\"demo.pkl\")"
   ],
   "metadata": {
    "collapsed": false,
    "pycharm": {
     "name": "#%%\n"
    }
   }
  },
  {
   "cell_type": "markdown",
   "source": [
    "Should be same"
   ],
   "metadata": {
    "collapsed": false,
    "pycharm": {
     "name": "#%% md\n"
    }
   },
   "outputs": [
    {
     "name": "stderr",
     "output_type": "stream",
     "text": [
      "INFO:diskchef.uv.uvfits_to_visibilities_ascii.UVFits:Creating an instance of UVFits\n"
     ]
    },
    {
     "ename": "ValueError",
     "evalue": "The truth value of an array with more than one element is ambiguous. Use a.any() or a.all()",
     "output_type": "error",
     "traceback": [
      "\u001B[0;31m---------------------------------------------------------------------------\u001B[0m",
      "\u001B[0;31mValueError\u001B[0m                                Traceback (most recent call last)",
      "\u001B[0;32m<ipython-input-6-e519e9fd729f>\u001B[0m in \u001B[0;36m<module>\u001B[0;34m\u001B[0m\n\u001B[1;32m      1\u001B[0m \u001B[0;31m##### Should be same\u001B[0m\u001B[0;34m\u001B[0m\u001B[0;34m\u001B[0m\u001B[0;34m\u001B[0m\u001B[0m\n\u001B[1;32m      2\u001B[0m \u001B[0muvdata_from_pickle\u001B[0m \u001B[0;34m=\u001B[0m \u001B[0mUVFits\u001B[0m\u001B[0;34m(\u001B[0m\u001B[0;34m\"demo.pkl\"\u001B[0m\u001B[0;34m)\u001B[0m\u001B[0;34m\u001B[0m\u001B[0;34m\u001B[0m\u001B[0m\n\u001B[0;32m----> 3\u001B[0;31m \u001B[0;32massert\u001B[0m \u001B[0muvdata\u001B[0m\u001B[0;34m.\u001B[0m\u001B[0mu\u001B[0m \u001B[0;34m==\u001B[0m \u001B[0muvdata_from_pickle\u001B[0m\u001B[0;34m.\u001B[0m\u001B[0mu\u001B[0m\u001B[0;34m\u001B[0m\u001B[0;34m\u001B[0m\u001B[0m\n\u001B[0m\u001B[1;32m      4\u001B[0m \u001B[0;32massert\u001B[0m \u001B[0muvdata\u001B[0m\u001B[0;34m.\u001B[0m\u001B[0mv\u001B[0m \u001B[0;34m==\u001B[0m \u001B[0muvdata_from_pickle\u001B[0m\u001B[0;34m.\u001B[0m\u001B[0mv\u001B[0m\u001B[0;34m\u001B[0m\u001B[0;34m\u001B[0m\u001B[0m\n",
      "\u001B[0;31mValueError\u001B[0m: The truth value of an array with more than one element is ambiguous. Use a.any() or a.all()"
     ]
    }
   ],
   "execution_count": 6
  },
  {
   "cell_type": "code",
   "execution_count": 5,
   "outputs": [
    {
     "name": "stderr",
     "output_type": "stream",
     "text": [
      "INFO:diskchef.uv.uvfits_to_visibilities_ascii.UVFits:Creating an instance of UVFits\n"
     ]
    }
   ],
   "source": [
    "uvdata_from_pickle = UVFits(\"demo.pkl\")\n",
    "assert np.all(uvdata.u == uvdata_from_pickle.u)\n",
    "assert np.all(uvdata.v == uvdata_from_pickle.v)"
   ],
   "metadata": {
    "collapsed": false,
    "pycharm": {
     "name": "#%%\n"
    }
   }
  },
  {
   "cell_type": "markdown",
   "source": [
    "By the way, don't use `assert` in your production code to check anything outside of tests! Here it is a test case"
   ],
   "metadata": {
    "collapsed": false,
    "pycharm": {
     "name": "#%% md\n"
    }
   }
  },
  {
   "cell_type": "markdown",
   "source": [
    "### Transform reference model to UV coordinates as in PRODIGE"
   ],
   "metadata": {
    "collapsed": false,
    "pycharm": {
     "name": "#%% md\n"
    }
   }
  },
  {
   "cell_type": "code",
   "execution_count": 6,
   "outputs": [
    {
     "name": "stderr",
     "output_type": "stream",
     "text": [
      "WARNING: PossiblySlowWarning: This function (<function BaseSpectralCube._apply_everywhere at 0x7ff3b3e084c0>) requires loading the entire cube into memory and may therefore be slow. [spectral_cube.utils]\n",
      "WARNING:astropy:PossiblySlowWarning: This function (<function BaseSpectralCube._apply_everywhere at 0x7ff3b3e084c0>) requires loading the entire cube into memory and may therefore be slow.\n",
      "WARNING: PossiblySlowWarning: This function (<function BaseSpectralCube.to at 0x7ff3b3e0a8b0>) requires loading the entire cube into memory and may therefore be slow. [spectral_cube.utils]\n",
      "WARNING:astropy:PossiblySlowWarning: This function (<function BaseSpectralCube.to at 0x7ff3b3e0a8b0>) requires loading the entire cube into memory and may therefore be slow.\n",
      "WARNING: PossiblySlowWarning: This function (<function BaseSpectralCube._apply_everywhere at 0x7ff3b3e084c0>) requires loading the entire cube into memory and may therefore be slow. [spectral_cube.utils]\n",
      "WARNING:astropy:PossiblySlowWarning: This function (<function BaseSpectralCube._apply_everywhere at 0x7ff3b3e084c0>) requires loading the entire cube into memory and may therefore be slow.\n",
      "WARNING: PossiblySlowWarning: This function (<function BaseSpectralCube.to at 0x7ff3b3e0a8b0>) requires loading the entire cube into memory and may therefore be slow. [spectral_cube.utils]\n",
      "WARNING:astropy:PossiblySlowWarning: This function (<function BaseSpectralCube.to at 0x7ff3b3e0a8b0>) requires loading the entire cube into memory and may therefore be slow.\n"
     ]
    }
   ],
   "source": [
    "reference_image = Path(\"Default\") / \"radmc_gas\" / \"CO J=2-1_image.fits\"\n",
    "uvdata.image_to_visibilities(reference_image)\n",
    "uvdata_from_pickle.image_to_visibilities(reference_image)"
   ],
   "metadata": {
    "collapsed": false,
    "pycharm": {
     "name": "#%%\n"
    }
   }
  },
  {
   "cell_type": "markdown",
   "source": [
    "are they same..?"
   ],
   "metadata": {
    "collapsed": false,
    "pycharm": {
     "name": "#%% md\n"
    }
   }
  },
  {
   "cell_type": "code",
   "execution_count": 7,
   "outputs": [
    {
     "data": {
      "text/plain": "(3018, 21)"
     },
     "execution_count": 7,
     "metadata": {},
     "output_type": "execute_result"
    }
   ],
   "source": [
    "uvdata.visibility.shape"
   ],
   "metadata": {
    "collapsed": false,
    "pycharm": {
     "name": "#%%\n"
    }
   }
  },
  {
   "cell_type": "code",
   "execution_count": 8,
   "outputs": [
    {
     "data": {
      "text/plain": "(3018, 21)"
     },
     "execution_count": 8,
     "metadata": {},
     "output_type": "execute_result"
    }
   ],
   "source": [
    "uvdata_from_pickle.visibility.shape\n"
   ],
   "metadata": {
    "collapsed": false,
    "pycharm": {
     "name": "#%%\n"
    }
   }
  },
  {
   "cell_type": "markdown",
   "source": [
    "## Comparisons\n",
    "Model with itself, should be 0"
   ],
   "metadata": {
    "collapsed": false,
    "pycharm": {
     "name": "#%% md\n"
    }
   }
  },
  {
   "cell_type": "code",
   "execution_count": 9,
   "outputs": [
    {
     "name": "stderr",
     "output_type": "stream",
     "text": [
      "WARNING: PossiblySlowWarning: This function (<function BaseSpectralCube._apply_everywhere at 0x7ff3b3e084c0>) requires loading the entire cube into memory and may therefore be slow. [spectral_cube.utils]\n",
      "WARNING:astropy:PossiblySlowWarning: This function (<function BaseSpectralCube._apply_everywhere at 0x7ff3b3e084c0>) requires loading the entire cube into memory and may therefore be slow.\n",
      "WARNING: PossiblySlowWarning: This function (<function BaseSpectralCube.to at 0x7ff3b3e0a8b0>) requires loading the entire cube into memory and may therefore be slow. [spectral_cube.utils]\n",
      "WARNING:astropy:PossiblySlowWarning: This function (<function BaseSpectralCube.to at 0x7ff3b3e0a8b0>) requires loading the entire cube into memory and may therefore be slow.\n"
     ]
    },
    {
     "data": {
      "text/plain": "0.0"
     },
     "execution_count": 9,
     "metadata": {},
     "output_type": "execute_result"
    }
   ],
   "source": [
    "uvdata.chi2_with(model_reference_path / \"CO J=2-1_image.fits\")"
   ],
   "metadata": {
    "collapsed": false,
    "pycharm": {
     "name": "#%%\n"
    }
   }
  },
  {
   "cell_type": "markdown",
   "source": [
    "Model with all other models"
   ],
   "metadata": {
    "collapsed": false,
    "pycharm": {
     "name": "#%% md\n"
    }
   }
  },
  {
   "cell_type": "code",
   "execution_count": 10,
   "outputs": [
    {
     "name": "stderr",
     "output_type": "stream",
     "text": [
      "  0%|          | 0/40 [00:00<?, ?it/s]WARNING: PossiblySlowWarning: This function (<function BaseSpectralCube._apply_everywhere at 0x7ff3b3e084c0>) requires loading the entire cube into memory and may therefore be slow. [spectral_cube.utils]\n",
      "WARNING:astropy:PossiblySlowWarning: This function (<function BaseSpectralCube._apply_everywhere at 0x7ff3b3e084c0>) requires loading the entire cube into memory and may therefore be slow.\n",
      "WARNING: PossiblySlowWarning: This function (<function BaseSpectralCube.to at 0x7ff3b3e0a8b0>) requires loading the entire cube into memory and may therefore be slow. [spectral_cube.utils]\n",
      "WARNING:astropy:PossiblySlowWarning: This function (<function BaseSpectralCube.to at 0x7ff3b3e0a8b0>) requires loading the entire cube into memory and may therefore be slow.\n",
      "  2%|▎         | 1/40 [00:00<00:24,  1.57it/s]WARNING: PossiblySlowWarning: This function (<function BaseSpectralCube._apply_everywhere at 0x7ff3b3e084c0>) requires loading the entire cube into memory and may therefore be slow. [spectral_cube.utils]\n",
      "WARNING:astropy:PossiblySlowWarning: This function (<function BaseSpectralCube._apply_everywhere at 0x7ff3b3e084c0>) requires loading the entire cube into memory and may therefore be slow.\n",
      "WARNING: PossiblySlowWarning: This function (<function BaseSpectralCube.to at 0x7ff3b3e0a8b0>) requires loading the entire cube into memory and may therefore be slow. [spectral_cube.utils]\n",
      "WARNING:astropy:PossiblySlowWarning: This function (<function BaseSpectralCube.to at 0x7ff3b3e0a8b0>) requires loading the entire cube into memory and may therefore be slow.\n",
      "  5%|▌         | 2/40 [00:01<00:26,  1.44it/s]WARNING: PossiblySlowWarning: This function (<function BaseSpectralCube._apply_everywhere at 0x7ff3b3e084c0>) requires loading the entire cube into memory and may therefore be slow. [spectral_cube.utils]\n",
      "WARNING:astropy:PossiblySlowWarning: This function (<function BaseSpectralCube._apply_everywhere at 0x7ff3b3e084c0>) requires loading the entire cube into memory and may therefore be slow.\n",
      "WARNING: PossiblySlowWarning: This function (<function BaseSpectralCube.to at 0x7ff3b3e0a8b0>) requires loading the entire cube into memory and may therefore be slow. [spectral_cube.utils]\n",
      "WARNING:astropy:PossiblySlowWarning: This function (<function BaseSpectralCube.to at 0x7ff3b3e0a8b0>) requires loading the entire cube into memory and may therefore be slow.\n",
      "  8%|▊         | 3/40 [00:02<00:25,  1.44it/s]WARNING: PossiblySlowWarning: This function (<function BaseSpectralCube._apply_everywhere at 0x7ff3b3e084c0>) requires loading the entire cube into memory and may therefore be slow. [spectral_cube.utils]\n",
      "WARNING:astropy:PossiblySlowWarning: This function (<function BaseSpectralCube._apply_everywhere at 0x7ff3b3e084c0>) requires loading the entire cube into memory and may therefore be slow.\n",
      "WARNING: PossiblySlowWarning: This function (<function BaseSpectralCube.to at 0x7ff3b3e0a8b0>) requires loading the entire cube into memory and may therefore be slow. [spectral_cube.utils]\n",
      "WARNING:astropy:PossiblySlowWarning: This function (<function BaseSpectralCube.to at 0x7ff3b3e0a8b0>) requires loading the entire cube into memory and may therefore be slow.\n",
      " 10%|█         | 4/40 [00:02<00:24,  1.49it/s]WARNING: PossiblySlowWarning: This function (<function BaseSpectralCube._apply_everywhere at 0x7ff3b3e084c0>) requires loading the entire cube into memory and may therefore be slow. [spectral_cube.utils]\n",
      "WARNING:astropy:PossiblySlowWarning: This function (<function BaseSpectralCube._apply_everywhere at 0x7ff3b3e084c0>) requires loading the entire cube into memory and may therefore be slow.\n",
      "WARNING: PossiblySlowWarning: This function (<function BaseSpectralCube.to at 0x7ff3b3e0a8b0>) requires loading the entire cube into memory and may therefore be slow. [spectral_cube.utils]\n",
      "WARNING:astropy:PossiblySlowWarning: This function (<function BaseSpectralCube.to at 0x7ff3b3e0a8b0>) requires loading the entire cube into memory and may therefore be slow.\n",
      " 12%|█▎        | 5/40 [00:03<00:23,  1.50it/s]WARNING: PossiblySlowWarning: This function (<function BaseSpectralCube._apply_everywhere at 0x7ff3b3e084c0>) requires loading the entire cube into memory and may therefore be slow. [spectral_cube.utils]\n",
      "WARNING:astropy:PossiblySlowWarning: This function (<function BaseSpectralCube._apply_everywhere at 0x7ff3b3e084c0>) requires loading the entire cube into memory and may therefore be slow.\n",
      "WARNING: PossiblySlowWarning: This function (<function BaseSpectralCube.to at 0x7ff3b3e0a8b0>) requires loading the entire cube into memory and may therefore be slow. [spectral_cube.utils]\n",
      "WARNING:astropy:PossiblySlowWarning: This function (<function BaseSpectralCube.to at 0x7ff3b3e0a8b0>) requires loading the entire cube into memory and may therefore be slow.\n",
      " 15%|█▌        | 6/40 [00:04<00:22,  1.49it/s]WARNING: PossiblySlowWarning: This function (<function BaseSpectralCube._apply_everywhere at 0x7ff3b3e084c0>) requires loading the entire cube into memory and may therefore be slow. [spectral_cube.utils]\n",
      "WARNING:astropy:PossiblySlowWarning: This function (<function BaseSpectralCube._apply_everywhere at 0x7ff3b3e084c0>) requires loading the entire cube into memory and may therefore be slow.\n",
      "WARNING: PossiblySlowWarning: This function (<function BaseSpectralCube.to at 0x7ff3b3e0a8b0>) requires loading the entire cube into memory and may therefore be slow. [spectral_cube.utils]\n",
      "WARNING:astropy:PossiblySlowWarning: This function (<function BaseSpectralCube.to at 0x7ff3b3e0a8b0>) requires loading the entire cube into memory and may therefore be slow.\n",
      " 18%|█▊        | 7/40 [00:04<00:22,  1.46it/s]WARNING: PossiblySlowWarning: This function (<function BaseSpectralCube._apply_everywhere at 0x7ff3b3e084c0>) requires loading the entire cube into memory and may therefore be slow. [spectral_cube.utils]\n",
      "WARNING:astropy:PossiblySlowWarning: This function (<function BaseSpectralCube._apply_everywhere at 0x7ff3b3e084c0>) requires loading the entire cube into memory and may therefore be slow.\n",
      "WARNING: PossiblySlowWarning: This function (<function BaseSpectralCube.to at 0x7ff3b3e0a8b0>) requires loading the entire cube into memory and may therefore be slow. [spectral_cube.utils]\n",
      "WARNING:astropy:PossiblySlowWarning: This function (<function BaseSpectralCube.to at 0x7ff3b3e0a8b0>) requires loading the entire cube into memory and may therefore be slow.\n",
      " 20%|██        | 8/40 [00:05<00:20,  1.54it/s]WARNING: PossiblySlowWarning: This function (<function BaseSpectralCube._apply_everywhere at 0x7ff3b3e084c0>) requires loading the entire cube into memory and may therefore be slow. [spectral_cube.utils]\n",
      "WARNING:astropy:PossiblySlowWarning: This function (<function BaseSpectralCube._apply_everywhere at 0x7ff3b3e084c0>) requires loading the entire cube into memory and may therefore be slow.\n",
      "WARNING: PossiblySlowWarning: This function (<function BaseSpectralCube.to at 0x7ff3b3e0a8b0>) requires loading the entire cube into memory and may therefore be slow. [spectral_cube.utils]\n",
      "WARNING:astropy:PossiblySlowWarning: This function (<function BaseSpectralCube.to at 0x7ff3b3e0a8b0>) requires loading the entire cube into memory and may therefore be slow.\n",
      " 22%|██▎       | 9/40 [00:06<00:20,  1.50it/s]WARNING: PossiblySlowWarning: This function (<function BaseSpectralCube._apply_everywhere at 0x7ff3b3e084c0>) requires loading the entire cube into memory and may therefore be slow. [spectral_cube.utils]\n",
      "WARNING:astropy:PossiblySlowWarning: This function (<function BaseSpectralCube._apply_everywhere at 0x7ff3b3e084c0>) requires loading the entire cube into memory and may therefore be slow.\n",
      "WARNING: PossiblySlowWarning: This function (<function BaseSpectralCube.to at 0x7ff3b3e0a8b0>) requires loading the entire cube into memory and may therefore be slow. [spectral_cube.utils]\n",
      "WARNING:astropy:PossiblySlowWarning: This function (<function BaseSpectralCube.to at 0x7ff3b3e0a8b0>) requires loading the entire cube into memory and may therefore be slow.\n",
      " 25%|██▌       | 10/40 [00:06<00:19,  1.52it/s]WARNING: PossiblySlowWarning: This function (<function BaseSpectralCube._apply_everywhere at 0x7ff3b3e084c0>) requires loading the entire cube into memory and may therefore be slow. [spectral_cube.utils]\n",
      "WARNING:astropy:PossiblySlowWarning: This function (<function BaseSpectralCube._apply_everywhere at 0x7ff3b3e084c0>) requires loading the entire cube into memory and may therefore be slow.\n",
      "WARNING: PossiblySlowWarning: This function (<function BaseSpectralCube.to at 0x7ff3b3e0a8b0>) requires loading the entire cube into memory and may therefore be slow. [spectral_cube.utils]\n",
      "WARNING:astropy:PossiblySlowWarning: This function (<function BaseSpectralCube.to at 0x7ff3b3e0a8b0>) requires loading the entire cube into memory and may therefore be slow.\n",
      " 28%|██▊       | 11/40 [00:07<00:18,  1.54it/s]WARNING: PossiblySlowWarning: This function (<function BaseSpectralCube._apply_everywhere at 0x7ff3b3e084c0>) requires loading the entire cube into memory and may therefore be slow. [spectral_cube.utils]\n",
      "WARNING:astropy:PossiblySlowWarning: This function (<function BaseSpectralCube._apply_everywhere at 0x7ff3b3e084c0>) requires loading the entire cube into memory and may therefore be slow.\n",
      "WARNING: PossiblySlowWarning: This function (<function BaseSpectralCube.to at 0x7ff3b3e0a8b0>) requires loading the entire cube into memory and may therefore be slow. [spectral_cube.utils]\n",
      "WARNING:astropy:PossiblySlowWarning: This function (<function BaseSpectralCube.to at 0x7ff3b3e0a8b0>) requires loading the entire cube into memory and may therefore be slow.\n",
      " 30%|███       | 12/40 [00:07<00:17,  1.58it/s]WARNING: PossiblySlowWarning: This function (<function BaseSpectralCube._apply_everywhere at 0x7ff3b3e084c0>) requires loading the entire cube into memory and may therefore be slow. [spectral_cube.utils]\n",
      "WARNING:astropy:PossiblySlowWarning: This function (<function BaseSpectralCube._apply_everywhere at 0x7ff3b3e084c0>) requires loading the entire cube into memory and may therefore be slow.\n",
      "WARNING: PossiblySlowWarning: This function (<function BaseSpectralCube.to at 0x7ff3b3e0a8b0>) requires loading the entire cube into memory and may therefore be slow. [spectral_cube.utils]\n",
      "WARNING:astropy:PossiblySlowWarning: This function (<function BaseSpectralCube.to at 0x7ff3b3e0a8b0>) requires loading the entire cube into memory and may therefore be slow.\n",
      " 32%|███▎      | 13/40 [00:08<00:16,  1.60it/s]WARNING: PossiblySlowWarning: This function (<function BaseSpectralCube._apply_everywhere at 0x7ff3b3e084c0>) requires loading the entire cube into memory and may therefore be slow. [spectral_cube.utils]\n",
      "WARNING:astropy:PossiblySlowWarning: This function (<function BaseSpectralCube._apply_everywhere at 0x7ff3b3e084c0>) requires loading the entire cube into memory and may therefore be slow.\n",
      "WARNING: PossiblySlowWarning: This function (<function BaseSpectralCube.to at 0x7ff3b3e0a8b0>) requires loading the entire cube into memory and may therefore be slow. [spectral_cube.utils]\n",
      "WARNING:astropy:PossiblySlowWarning: This function (<function BaseSpectralCube.to at 0x7ff3b3e0a8b0>) requires loading the entire cube into memory and may therefore be slow.\n",
      " 35%|███▌      | 14/40 [00:09<00:16,  1.61it/s]WARNING: PossiblySlowWarning: This function (<function BaseSpectralCube._apply_everywhere at 0x7ff3b3e084c0>) requires loading the entire cube into memory and may therefore be slow. [spectral_cube.utils]\n",
      "WARNING:astropy:PossiblySlowWarning: This function (<function BaseSpectralCube._apply_everywhere at 0x7ff3b3e084c0>) requires loading the entire cube into memory and may therefore be slow.\n",
      "WARNING: PossiblySlowWarning: This function (<function BaseSpectralCube.to at 0x7ff3b3e0a8b0>) requires loading the entire cube into memory and may therefore be slow. [spectral_cube.utils]\n",
      "WARNING:astropy:PossiblySlowWarning: This function (<function BaseSpectralCube.to at 0x7ff3b3e0a8b0>) requires loading the entire cube into memory and may therefore be slow.\n",
      " 38%|███▊      | 15/40 [00:09<00:15,  1.64it/s]WARNING: PossiblySlowWarning: This function (<function BaseSpectralCube._apply_everywhere at 0x7ff3b3e084c0>) requires loading the entire cube into memory and may therefore be slow. [spectral_cube.utils]\n",
      "WARNING:astropy:PossiblySlowWarning: This function (<function BaseSpectralCube._apply_everywhere at 0x7ff3b3e084c0>) requires loading the entire cube into memory and may therefore be slow.\n",
      "WARNING: PossiblySlowWarning: This function (<function BaseSpectralCube.to at 0x7ff3b3e0a8b0>) requires loading the entire cube into memory and may therefore be slow. [spectral_cube.utils]\n",
      "WARNING:astropy:PossiblySlowWarning: This function (<function BaseSpectralCube.to at 0x7ff3b3e0a8b0>) requires loading the entire cube into memory and may therefore be slow.\n",
      " 40%|████      | 16/40 [00:10<00:14,  1.68it/s]WARNING: PossiblySlowWarning: This function (<function BaseSpectralCube._apply_everywhere at 0x7ff3b3e084c0>) requires loading the entire cube into memory and may therefore be slow. [spectral_cube.utils]\n",
      "WARNING:astropy:PossiblySlowWarning: This function (<function BaseSpectralCube._apply_everywhere at 0x7ff3b3e084c0>) requires loading the entire cube into memory and may therefore be slow.\n",
      "WARNING: PossiblySlowWarning: This function (<function BaseSpectralCube.to at 0x7ff3b3e0a8b0>) requires loading the entire cube into memory and may therefore be slow. [spectral_cube.utils]\n",
      "WARNING:astropy:PossiblySlowWarning: This function (<function BaseSpectralCube.to at 0x7ff3b3e0a8b0>) requires loading the entire cube into memory and may therefore be slow.\n",
      " 42%|████▎     | 17/40 [00:10<00:13,  1.69it/s]WARNING: PossiblySlowWarning: This function (<function BaseSpectralCube._apply_everywhere at 0x7ff3b3e084c0>) requires loading the entire cube into memory and may therefore be slow. [spectral_cube.utils]\n",
      "WARNING:astropy:PossiblySlowWarning: This function (<function BaseSpectralCube._apply_everywhere at 0x7ff3b3e084c0>) requires loading the entire cube into memory and may therefore be slow.\n",
      "WARNING: PossiblySlowWarning: This function (<function BaseSpectralCube.to at 0x7ff3b3e0a8b0>) requires loading the entire cube into memory and may therefore be slow. [spectral_cube.utils]\n",
      "WARNING:astropy:PossiblySlowWarning: This function (<function BaseSpectralCube.to at 0x7ff3b3e0a8b0>) requires loading the entire cube into memory and may therefore be slow.\n",
      " 45%|████▌     | 18/40 [00:11<00:12,  1.72it/s]WARNING: PossiblySlowWarning: This function (<function BaseSpectralCube._apply_everywhere at 0x7ff3b3e084c0>) requires loading the entire cube into memory and may therefore be slow. [spectral_cube.utils]\n",
      "WARNING:astropy:PossiblySlowWarning: This function (<function BaseSpectralCube._apply_everywhere at 0x7ff3b3e084c0>) requires loading the entire cube into memory and may therefore be slow.\n",
      "WARNING: PossiblySlowWarning: This function (<function BaseSpectralCube.to at 0x7ff3b3e0a8b0>) requires loading the entire cube into memory and may therefore be slow. [spectral_cube.utils]\n",
      "WARNING:astropy:PossiblySlowWarning: This function (<function BaseSpectralCube.to at 0x7ff3b3e0a8b0>) requires loading the entire cube into memory and may therefore be slow.\n",
      " 48%|████▊     | 19/40 [00:11<00:12,  1.73it/s]WARNING: PossiblySlowWarning: This function (<function BaseSpectralCube._apply_everywhere at 0x7ff3b3e084c0>) requires loading the entire cube into memory and may therefore be slow. [spectral_cube.utils]\n",
      "WARNING:astropy:PossiblySlowWarning: This function (<function BaseSpectralCube._apply_everywhere at 0x7ff3b3e084c0>) requires loading the entire cube into memory and may therefore be slow.\n",
      "WARNING: PossiblySlowWarning: This function (<function BaseSpectralCube.to at 0x7ff3b3e0a8b0>) requires loading the entire cube into memory and may therefore be slow. [spectral_cube.utils]\n",
      "WARNING:astropy:PossiblySlowWarning: This function (<function BaseSpectralCube.to at 0x7ff3b3e0a8b0>) requires loading the entire cube into memory and may therefore be slow.\n",
      " 50%|█████     | 20/40 [00:12<00:11,  1.67it/s]WARNING: PossiblySlowWarning: This function (<function BaseSpectralCube._apply_everywhere at 0x7ff3b3e084c0>) requires loading the entire cube into memory and may therefore be slow. [spectral_cube.utils]\n",
      "WARNING:astropy:PossiblySlowWarning: This function (<function BaseSpectralCube._apply_everywhere at 0x7ff3b3e084c0>) requires loading the entire cube into memory and may therefore be slow.\n",
      "WARNING: PossiblySlowWarning: This function (<function BaseSpectralCube.to at 0x7ff3b3e0a8b0>) requires loading the entire cube into memory and may therefore be slow. [spectral_cube.utils]\n",
      "WARNING:astropy:PossiblySlowWarning: This function (<function BaseSpectralCube.to at 0x7ff3b3e0a8b0>) requires loading the entire cube into memory and may therefore be slow.\n",
      " 52%|█████▎    | 21/40 [00:13<00:13,  1.42it/s]WARNING: PossiblySlowWarning: This function (<function BaseSpectralCube._apply_everywhere at 0x7ff3b3e084c0>) requires loading the entire cube into memory and may therefore be slow. [spectral_cube.utils]\n",
      "WARNING:astropy:PossiblySlowWarning: This function (<function BaseSpectralCube._apply_everywhere at 0x7ff3b3e084c0>) requires loading the entire cube into memory and may therefore be slow.\n",
      "WARNING: PossiblySlowWarning: This function (<function BaseSpectralCube.to at 0x7ff3b3e0a8b0>) requires loading the entire cube into memory and may therefore be slow. [spectral_cube.utils]\n",
      "WARNING:astropy:PossiblySlowWarning: This function (<function BaseSpectralCube.to at 0x7ff3b3e0a8b0>) requires loading the entire cube into memory and may therefore be slow.\n",
      " 55%|█████▌    | 22/40 [00:14<00:12,  1.45it/s]WARNING: PossiblySlowWarning: This function (<function BaseSpectralCube._apply_everywhere at 0x7ff3b3e084c0>) requires loading the entire cube into memory and may therefore be slow. [spectral_cube.utils]\n",
      "WARNING:astropy:PossiblySlowWarning: This function (<function BaseSpectralCube._apply_everywhere at 0x7ff3b3e084c0>) requires loading the entire cube into memory and may therefore be slow.\n",
      "WARNING: PossiblySlowWarning: This function (<function BaseSpectralCube.to at 0x7ff3b3e0a8b0>) requires loading the entire cube into memory and may therefore be slow. [spectral_cube.utils]\n",
      "WARNING:astropy:PossiblySlowWarning: This function (<function BaseSpectralCube.to at 0x7ff3b3e0a8b0>) requires loading the entire cube into memory and may therefore be slow.\n",
      " 57%|█████▊    | 23/40 [00:14<00:11,  1.46it/s]WARNING: PossiblySlowWarning: This function (<function BaseSpectralCube._apply_everywhere at 0x7ff3b3e084c0>) requires loading the entire cube into memory and may therefore be slow. [spectral_cube.utils]\n",
      "WARNING:astropy:PossiblySlowWarning: This function (<function BaseSpectralCube._apply_everywhere at 0x7ff3b3e084c0>) requires loading the entire cube into memory and may therefore be slow.\n",
      "WARNING: PossiblySlowWarning: This function (<function BaseSpectralCube.to at 0x7ff3b3e0a8b0>) requires loading the entire cube into memory and may therefore be slow. [spectral_cube.utils]\n",
      "WARNING:astropy:PossiblySlowWarning: This function (<function BaseSpectralCube.to at 0x7ff3b3e0a8b0>) requires loading the entire cube into memory and may therefore be slow.\n",
      " 60%|██████    | 24/40 [00:15<00:10,  1.51it/s]WARNING: PossiblySlowWarning: This function (<function BaseSpectralCube._apply_everywhere at 0x7ff3b3e084c0>) requires loading the entire cube into memory and may therefore be slow. [spectral_cube.utils]\n",
      "WARNING:astropy:PossiblySlowWarning: This function (<function BaseSpectralCube._apply_everywhere at 0x7ff3b3e084c0>) requires loading the entire cube into memory and may therefore be slow.\n",
      "WARNING: PossiblySlowWarning: This function (<function BaseSpectralCube.to at 0x7ff3b3e0a8b0>) requires loading the entire cube into memory and may therefore be slow. [spectral_cube.utils]\n",
      "WARNING:astropy:PossiblySlowWarning: This function (<function BaseSpectralCube.to at 0x7ff3b3e0a8b0>) requires loading the entire cube into memory and may therefore be slow.\n",
      " 62%|██████▎   | 25/40 [00:16<00:09,  1.51it/s]WARNING: PossiblySlowWarning: This function (<function BaseSpectralCube._apply_everywhere at 0x7ff3b3e084c0>) requires loading the entire cube into memory and may therefore be slow. [spectral_cube.utils]\n",
      "WARNING:astropy:PossiblySlowWarning: This function (<function BaseSpectralCube._apply_everywhere at 0x7ff3b3e084c0>) requires loading the entire cube into memory and may therefore be slow.\n",
      "WARNING: PossiblySlowWarning: This function (<function BaseSpectralCube.to at 0x7ff3b3e0a8b0>) requires loading the entire cube into memory and may therefore be slow. [spectral_cube.utils]\n",
      "WARNING:astropy:PossiblySlowWarning: This function (<function BaseSpectralCube.to at 0x7ff3b3e0a8b0>) requires loading the entire cube into memory and may therefore be slow.\n",
      " 65%|██████▌   | 26/40 [00:16<00:09,  1.55it/s]WARNING: PossiblySlowWarning: This function (<function BaseSpectralCube._apply_everywhere at 0x7ff3b3e084c0>) requires loading the entire cube into memory and may therefore be slow. [spectral_cube.utils]\n",
      "WARNING:astropy:PossiblySlowWarning: This function (<function BaseSpectralCube._apply_everywhere at 0x7ff3b3e084c0>) requires loading the entire cube into memory and may therefore be slow.\n",
      "WARNING: PossiblySlowWarning: This function (<function BaseSpectralCube.to at 0x7ff3b3e0a8b0>) requires loading the entire cube into memory and may therefore be slow. [spectral_cube.utils]\n",
      "WARNING:astropy:PossiblySlowWarning: This function (<function BaseSpectralCube.to at 0x7ff3b3e0a8b0>) requires loading the entire cube into memory and may therefore be slow.\n",
      " 68%|██████▊   | 27/40 [00:17<00:08,  1.59it/s]WARNING: PossiblySlowWarning: This function (<function BaseSpectralCube._apply_everywhere at 0x7ff3b3e084c0>) requires loading the entire cube into memory and may therefore be slow. [spectral_cube.utils]\n",
      "WARNING:astropy:PossiblySlowWarning: This function (<function BaseSpectralCube._apply_everywhere at 0x7ff3b3e084c0>) requires loading the entire cube into memory and may therefore be slow.\n",
      "WARNING: PossiblySlowWarning: This function (<function BaseSpectralCube.to at 0x7ff3b3e0a8b0>) requires loading the entire cube into memory and may therefore be slow. [spectral_cube.utils]\n",
      "WARNING:astropy:PossiblySlowWarning: This function (<function BaseSpectralCube.to at 0x7ff3b3e0a8b0>) requires loading the entire cube into memory and may therefore be slow.\n",
      " 70%|███████   | 28/40 [00:17<00:07,  1.62it/s]WARNING: PossiblySlowWarning: This function (<function BaseSpectralCube._apply_everywhere at 0x7ff3b3e084c0>) requires loading the entire cube into memory and may therefore be slow. [spectral_cube.utils]\n",
      "WARNING:astropy:PossiblySlowWarning: This function (<function BaseSpectralCube._apply_everywhere at 0x7ff3b3e084c0>) requires loading the entire cube into memory and may therefore be slow.\n",
      "WARNING: PossiblySlowWarning: This function (<function BaseSpectralCube.to at 0x7ff3b3e0a8b0>) requires loading the entire cube into memory and may therefore be slow. [spectral_cube.utils]\n",
      "WARNING:astropy:PossiblySlowWarning: This function (<function BaseSpectralCube.to at 0x7ff3b3e0a8b0>) requires loading the entire cube into memory and may therefore be slow.\n",
      " 72%|███████▎  | 29/40 [00:18<00:06,  1.67it/s]WARNING: PossiblySlowWarning: This function (<function BaseSpectralCube._apply_everywhere at 0x7ff3b3e084c0>) requires loading the entire cube into memory and may therefore be slow. [spectral_cube.utils]\n",
      "WARNING:astropy:PossiblySlowWarning: This function (<function BaseSpectralCube._apply_everywhere at 0x7ff3b3e084c0>) requires loading the entire cube into memory and may therefore be slow.\n",
      "WARNING: PossiblySlowWarning: This function (<function BaseSpectralCube.to at 0x7ff3b3e0a8b0>) requires loading the entire cube into memory and may therefore be slow. [spectral_cube.utils]\n",
      "WARNING:astropy:PossiblySlowWarning: This function (<function BaseSpectralCube.to at 0x7ff3b3e0a8b0>) requires loading the entire cube into memory and may therefore be slow.\n",
      " 75%|███████▌  | 30/40 [00:19<00:05,  1.69it/s]WARNING: PossiblySlowWarning: This function (<function BaseSpectralCube._apply_everywhere at 0x7ff3b3e084c0>) requires loading the entire cube into memory and may therefore be slow. [spectral_cube.utils]\n",
      "WARNING:astropy:PossiblySlowWarning: This function (<function BaseSpectralCube._apply_everywhere at 0x7ff3b3e084c0>) requires loading the entire cube into memory and may therefore be slow.\n",
      "WARNING: PossiblySlowWarning: This function (<function BaseSpectralCube.to at 0x7ff3b3e0a8b0>) requires loading the entire cube into memory and may therefore be slow. [spectral_cube.utils]\n",
      "WARNING:astropy:PossiblySlowWarning: This function (<function BaseSpectralCube.to at 0x7ff3b3e0a8b0>) requires loading the entire cube into memory and may therefore be slow.\n",
      " 78%|███████▊  | 31/40 [00:19<00:05,  1.69it/s]WARNING: PossiblySlowWarning: This function (<function BaseSpectralCube._apply_everywhere at 0x7ff3b3e084c0>) requires loading the entire cube into memory and may therefore be slow. [spectral_cube.utils]\n",
      "WARNING:astropy:PossiblySlowWarning: This function (<function BaseSpectralCube._apply_everywhere at 0x7ff3b3e084c0>) requires loading the entire cube into memory and may therefore be slow.\n",
      "WARNING: PossiblySlowWarning: This function (<function BaseSpectralCube.to at 0x7ff3b3e0a8b0>) requires loading the entire cube into memory and may therefore be slow. [spectral_cube.utils]\n",
      "WARNING:astropy:PossiblySlowWarning: This function (<function BaseSpectralCube.to at 0x7ff3b3e0a8b0>) requires loading the entire cube into memory and may therefore be slow.\n",
      " 80%|████████  | 32/40 [00:20<00:04,  1.63it/s]WARNING: PossiblySlowWarning: This function (<function BaseSpectralCube._apply_everywhere at 0x7ff3b3e084c0>) requires loading the entire cube into memory and may therefore be slow. [spectral_cube.utils]\n",
      "WARNING:astropy:PossiblySlowWarning: This function (<function BaseSpectralCube._apply_everywhere at 0x7ff3b3e084c0>) requires loading the entire cube into memory and may therefore be slow.\n",
      "WARNING: PossiblySlowWarning: This function (<function BaseSpectralCube.to at 0x7ff3b3e0a8b0>) requires loading the entire cube into memory and may therefore be slow. [spectral_cube.utils]\n",
      "WARNING:astropy:PossiblySlowWarning: This function (<function BaseSpectralCube.to at 0x7ff3b3e0a8b0>) requires loading the entire cube into memory and may therefore be slow.\n",
      " 82%|████████▎ | 33/40 [00:21<00:04,  1.57it/s]WARNING: PossiblySlowWarning: This function (<function BaseSpectralCube._apply_everywhere at 0x7ff3b3e084c0>) requires loading the entire cube into memory and may therefore be slow. [spectral_cube.utils]\n",
      "WARNING:astropy:PossiblySlowWarning: This function (<function BaseSpectralCube._apply_everywhere at 0x7ff3b3e084c0>) requires loading the entire cube into memory and may therefore be slow.\n",
      "WARNING: PossiblySlowWarning: This function (<function BaseSpectralCube.to at 0x7ff3b3e0a8b0>) requires loading the entire cube into memory and may therefore be slow. [spectral_cube.utils]\n",
      "WARNING:astropy:PossiblySlowWarning: This function (<function BaseSpectralCube.to at 0x7ff3b3e0a8b0>) requires loading the entire cube into memory and may therefore be slow.\n",
      " 85%|████████▌ | 34/40 [00:21<00:03,  1.57it/s]WARNING: PossiblySlowWarning: This function (<function BaseSpectralCube._apply_everywhere at 0x7ff3b3e084c0>) requires loading the entire cube into memory and may therefore be slow. [spectral_cube.utils]\n",
      "WARNING:astropy:PossiblySlowWarning: This function (<function BaseSpectralCube._apply_everywhere at 0x7ff3b3e084c0>) requires loading the entire cube into memory and may therefore be slow.\n",
      "WARNING: PossiblySlowWarning: This function (<function BaseSpectralCube.to at 0x7ff3b3e0a8b0>) requires loading the entire cube into memory and may therefore be slow. [spectral_cube.utils]\n",
      "WARNING:astropy:PossiblySlowWarning: This function (<function BaseSpectralCube.to at 0x7ff3b3e0a8b0>) requires loading the entire cube into memory and may therefore be slow.\n",
      " 88%|████████▊ | 35/40 [00:22<00:03,  1.60it/s]WARNING: PossiblySlowWarning: This function (<function BaseSpectralCube._apply_everywhere at 0x7ff3b3e084c0>) requires loading the entire cube into memory and may therefore be slow. [spectral_cube.utils]\n",
      "WARNING:astropy:PossiblySlowWarning: This function (<function BaseSpectralCube._apply_everywhere at 0x7ff3b3e084c0>) requires loading the entire cube into memory and may therefore be slow.\n",
      "WARNING: PossiblySlowWarning: This function (<function BaseSpectralCube.to at 0x7ff3b3e0a8b0>) requires loading the entire cube into memory and may therefore be slow. [spectral_cube.utils]\n",
      "WARNING:astropy:PossiblySlowWarning: This function (<function BaseSpectralCube.to at 0x7ff3b3e0a8b0>) requires loading the entire cube into memory and may therefore be slow.\n",
      " 90%|█████████ | 36/40 [00:23<00:02,  1.38it/s]WARNING: PossiblySlowWarning: This function (<function BaseSpectralCube._apply_everywhere at 0x7ff3b3e084c0>) requires loading the entire cube into memory and may therefore be slow. [spectral_cube.utils]\n",
      "WARNING:astropy:PossiblySlowWarning: This function (<function BaseSpectralCube._apply_everywhere at 0x7ff3b3e084c0>) requires loading the entire cube into memory and may therefore be slow.\n",
      "WARNING: PossiblySlowWarning: This function (<function BaseSpectralCube.to at 0x7ff3b3e0a8b0>) requires loading the entire cube into memory and may therefore be slow. [spectral_cube.utils]\n",
      "WARNING:astropy:PossiblySlowWarning: This function (<function BaseSpectralCube.to at 0x7ff3b3e0a8b0>) requires loading the entire cube into memory and may therefore be slow.\n",
      " 92%|█████████▎| 37/40 [00:23<00:02,  1.41it/s]WARNING: PossiblySlowWarning: This function (<function BaseSpectralCube._apply_everywhere at 0x7ff3b3e084c0>) requires loading the entire cube into memory and may therefore be slow. [spectral_cube.utils]\n",
      "WARNING:astropy:PossiblySlowWarning: This function (<function BaseSpectralCube._apply_everywhere at 0x7ff3b3e084c0>) requires loading the entire cube into memory and may therefore be slow.\n",
      "WARNING: PossiblySlowWarning: This function (<function BaseSpectralCube.to at 0x7ff3b3e0a8b0>) requires loading the entire cube into memory and may therefore be slow. [spectral_cube.utils]\n",
      "WARNING:astropy:PossiblySlowWarning: This function (<function BaseSpectralCube.to at 0x7ff3b3e0a8b0>) requires loading the entire cube into memory and may therefore be slow.\n",
      " 95%|█████████▌| 38/40 [00:24<00:01,  1.44it/s]WARNING: PossiblySlowWarning: This function (<function BaseSpectralCube._apply_everywhere at 0x7ff3b3e084c0>) requires loading the entire cube into memory and may therefore be slow. [spectral_cube.utils]\n",
      "WARNING:astropy:PossiblySlowWarning: This function (<function BaseSpectralCube._apply_everywhere at 0x7ff3b3e084c0>) requires loading the entire cube into memory and may therefore be slow.\n",
      "WARNING: PossiblySlowWarning: This function (<function BaseSpectralCube.to at 0x7ff3b3e0a8b0>) requires loading the entire cube into memory and may therefore be slow. [spectral_cube.utils]\n",
      "WARNING:astropy:PossiblySlowWarning: This function (<function BaseSpectralCube.to at 0x7ff3b3e0a8b0>) requires loading the entire cube into memory and may therefore be slow.\n",
      " 98%|█████████▊| 39/40 [00:25<00:00,  1.36it/s]WARNING: PossiblySlowWarning: This function (<function BaseSpectralCube._apply_everywhere at 0x7ff3b3e084c0>) requires loading the entire cube into memory and may therefore be slow. [spectral_cube.utils]\n",
      "WARNING:astropy:PossiblySlowWarning: This function (<function BaseSpectralCube._apply_everywhere at 0x7ff3b3e084c0>) requires loading the entire cube into memory and may therefore be slow.\n",
      "WARNING: PossiblySlowWarning: This function (<function BaseSpectralCube.to at 0x7ff3b3e0a8b0>) requires loading the entire cube into memory and may therefore be slow. [spectral_cube.utils]\n",
      "WARNING:astropy:PossiblySlowWarning: This function (<function BaseSpectralCube.to at 0x7ff3b3e0a8b0>) requires loading the entire cube into memory and may therefore be slow.\n",
      "100%|██████████| 40/40 [00:26<00:00,  1.53it/s]\n"
     ]
    },
    {
     "data": {
      "text/plain": "[304.4215793207531,\n 211.06664945937447,\n 200.60682189267558,\n 165.66349194922083,\n 418.9934818746358,\n 384098.83635495475,\n 196.47586319223345,\n 448.31464973223416,\n 357.9821675396242,\n 437.22514949533985,\n 201.27631160822898,\n 1199.4004724705444,\n 449.12251725037004,\n 395.1679625965929,\n 327.0499764227195,\n 266.1343968338911,\n 230.37376759911533,\n 3067.8520181789545,\n 570.5346535699219,\n 788.7814667988054,\n 659.6421379493322,\n 684.7921523239571,\n 11855.478211096524,\n 410.9305204053137,\n 545.1838821305411,\n 360.10881510139353,\n 318.9004802822689,\n 3161.9263419338768,\n 283.60246624314726,\n 514.6946664340554,\n 664.3351558602186,\n 373.68990637736954,\n 324.160205448874,\n 670.3137975493438,\n 297.63790776633556,\n 588.2525952023178,\n 582.5137842685223,\n 455.61752930274866,\n 423.7837249645592,\n 249.67146915255663]"
     },
     "execution_count": 10,
     "metadata": {},
     "output_type": "execute_result"
    }
   ],
   "source": [
    "folders = sorted(Path(\"fit2\").glob(\"fit_*\"))\n",
    "residuals = []\n",
    "for folder in tqdm(folders):\n",
    "    data = folder / \"radmc_gas\" / \"CO J=2-1_image.fits\"\n",
    "    residual = uvdata.chi2_with(data, check=False)\n",
    "    residuals.append(residual)\n",
    "residuals"
   ],
   "metadata": {
    "collapsed": false,
    "pycharm": {
     "name": "#%%\n"
    }
   }
  },
  {
   "cell_type": "code",
   "execution_count": 11,
   "outputs": [
    {
     "name": "stderr",
     "output_type": "stream",
     "text": [
      "  0%|          | 0/40 [00:00<?, ?it/s]WARNING: PossiblySlowWarning: This function (<function BaseSpectralCube._apply_everywhere at 0x7ff3b3e084c0>) requires loading the entire cube into memory and may therefore be slow. [spectral_cube.utils]\n",
      "WARNING:astropy:PossiblySlowWarning: This function (<function BaseSpectralCube._apply_everywhere at 0x7ff3b3e084c0>) requires loading the entire cube into memory and may therefore be slow.\n",
      "WARNING: PossiblySlowWarning: This function (<function BaseSpectralCube.to at 0x7ff3b3e0a8b0>) requires loading the entire cube into memory and may therefore be slow. [spectral_cube.utils]\n",
      "WARNING:astropy:PossiblySlowWarning: This function (<function BaseSpectralCube.to at 0x7ff3b3e0a8b0>) requires loading the entire cube into memory and may therefore be slow.\n",
      "  2%|▎         | 1/40 [00:00<00:23,  1.66it/s]WARNING: PossiblySlowWarning: This function (<function BaseSpectralCube._apply_everywhere at 0x7ff3b3e084c0>) requires loading the entire cube into memory and may therefore be slow. [spectral_cube.utils]\n",
      "WARNING:astropy:PossiblySlowWarning: This function (<function BaseSpectralCube._apply_everywhere at 0x7ff3b3e084c0>) requires loading the entire cube into memory and may therefore be slow.\n",
      "WARNING: PossiblySlowWarning: This function (<function BaseSpectralCube.to at 0x7ff3b3e0a8b0>) requires loading the entire cube into memory and may therefore be slow. [spectral_cube.utils]\n",
      "WARNING:astropy:PossiblySlowWarning: This function (<function BaseSpectralCube.to at 0x7ff3b3e0a8b0>) requires loading the entire cube into memory and may therefore be slow.\n",
      "  5%|▌         | 2/40 [00:01<00:21,  1.73it/s]WARNING: PossiblySlowWarning: This function (<function BaseSpectralCube._apply_everywhere at 0x7ff3b3e084c0>) requires loading the entire cube into memory and may therefore be slow. [spectral_cube.utils]\n",
      "WARNING:astropy:PossiblySlowWarning: This function (<function BaseSpectralCube._apply_everywhere at 0x7ff3b3e084c0>) requires loading the entire cube into memory and may therefore be slow.\n",
      "WARNING: PossiblySlowWarning: This function (<function BaseSpectralCube.to at 0x7ff3b3e0a8b0>) requires loading the entire cube into memory and may therefore be slow. [spectral_cube.utils]\n",
      "WARNING:astropy:PossiblySlowWarning: This function (<function BaseSpectralCube.to at 0x7ff3b3e0a8b0>) requires loading the entire cube into memory and may therefore be slow.\n",
      "  8%|▊         | 3/40 [00:01<00:22,  1.68it/s]WARNING: PossiblySlowWarning: This function (<function BaseSpectralCube._apply_everywhere at 0x7ff3b3e084c0>) requires loading the entire cube into memory and may therefore be slow. [spectral_cube.utils]\n",
      "WARNING:astropy:PossiblySlowWarning: This function (<function BaseSpectralCube._apply_everywhere at 0x7ff3b3e084c0>) requires loading the entire cube into memory and may therefore be slow.\n",
      "WARNING: PossiblySlowWarning: This function (<function BaseSpectralCube.to at 0x7ff3b3e0a8b0>) requires loading the entire cube into memory and may therefore be slow. [spectral_cube.utils]\n",
      "WARNING:astropy:PossiblySlowWarning: This function (<function BaseSpectralCube.to at 0x7ff3b3e0a8b0>) requires loading the entire cube into memory and may therefore be slow.\n",
      " 10%|█         | 4/40 [00:02<00:21,  1.71it/s]WARNING: PossiblySlowWarning: This function (<function BaseSpectralCube._apply_everywhere at 0x7ff3b3e084c0>) requires loading the entire cube into memory and may therefore be slow. [spectral_cube.utils]\n",
      "WARNING:astropy:PossiblySlowWarning: This function (<function BaseSpectralCube._apply_everywhere at 0x7ff3b3e084c0>) requires loading the entire cube into memory and may therefore be slow.\n",
      "WARNING: PossiblySlowWarning: This function (<function BaseSpectralCube.to at 0x7ff3b3e0a8b0>) requires loading the entire cube into memory and may therefore be slow. [spectral_cube.utils]\n",
      "WARNING:astropy:PossiblySlowWarning: This function (<function BaseSpectralCube.to at 0x7ff3b3e0a8b0>) requires loading the entire cube into memory and may therefore be slow.\n",
      " 12%|█▎        | 5/40 [00:02<00:20,  1.72it/s]WARNING: PossiblySlowWarning: This function (<function BaseSpectralCube._apply_everywhere at 0x7ff3b3e084c0>) requires loading the entire cube into memory and may therefore be slow. [spectral_cube.utils]\n",
      "WARNING:astropy:PossiblySlowWarning: This function (<function BaseSpectralCube._apply_everywhere at 0x7ff3b3e084c0>) requires loading the entire cube into memory and may therefore be slow.\n",
      "WARNING: PossiblySlowWarning: This function (<function BaseSpectralCube.to at 0x7ff3b3e0a8b0>) requires loading the entire cube into memory and may therefore be slow. [spectral_cube.utils]\n",
      "WARNING:astropy:PossiblySlowWarning: This function (<function BaseSpectralCube.to at 0x7ff3b3e0a8b0>) requires loading the entire cube into memory and may therefore be slow.\n",
      " 15%|█▌        | 6/40 [00:03<00:21,  1.56it/s]WARNING: PossiblySlowWarning: This function (<function BaseSpectralCube._apply_everywhere at 0x7ff3b3e084c0>) requires loading the entire cube into memory and may therefore be slow. [spectral_cube.utils]\n",
      "WARNING:astropy:PossiblySlowWarning: This function (<function BaseSpectralCube._apply_everywhere at 0x7ff3b3e084c0>) requires loading the entire cube into memory and may therefore be slow.\n",
      "WARNING: PossiblySlowWarning: This function (<function BaseSpectralCube.to at 0x7ff3b3e0a8b0>) requires loading the entire cube into memory and may therefore be slow. [spectral_cube.utils]\n",
      "WARNING:astropy:PossiblySlowWarning: This function (<function BaseSpectralCube.to at 0x7ff3b3e0a8b0>) requires loading the entire cube into memory and may therefore be slow.\n",
      " 18%|█▊        | 7/40 [00:04<00:21,  1.54it/s]WARNING: PossiblySlowWarning: This function (<function BaseSpectralCube._apply_everywhere at 0x7ff3b3e084c0>) requires loading the entire cube into memory and may therefore be slow. [spectral_cube.utils]\n",
      "WARNING:astropy:PossiblySlowWarning: This function (<function BaseSpectralCube._apply_everywhere at 0x7ff3b3e084c0>) requires loading the entire cube into memory and may therefore be slow.\n",
      "WARNING: PossiblySlowWarning: This function (<function BaseSpectralCube.to at 0x7ff3b3e0a8b0>) requires loading the entire cube into memory and may therefore be slow. [spectral_cube.utils]\n",
      "WARNING:astropy:PossiblySlowWarning: This function (<function BaseSpectralCube.to at 0x7ff3b3e0a8b0>) requires loading the entire cube into memory and may therefore be slow.\n",
      " 20%|██        | 8/40 [00:04<00:20,  1.56it/s]WARNING: PossiblySlowWarning: This function (<function BaseSpectralCube._apply_everywhere at 0x7ff3b3e084c0>) requires loading the entire cube into memory and may therefore be slow. [spectral_cube.utils]\n",
      "WARNING:astropy:PossiblySlowWarning: This function (<function BaseSpectralCube._apply_everywhere at 0x7ff3b3e084c0>) requires loading the entire cube into memory and may therefore be slow.\n",
      "WARNING: PossiblySlowWarning: This function (<function BaseSpectralCube.to at 0x7ff3b3e0a8b0>) requires loading the entire cube into memory and may therefore be slow. [spectral_cube.utils]\n",
      "WARNING:astropy:PossiblySlowWarning: This function (<function BaseSpectralCube.to at 0x7ff3b3e0a8b0>) requires loading the entire cube into memory and may therefore be slow.\n",
      " 22%|██▎       | 9/40 [00:05<00:19,  1.59it/s]WARNING: PossiblySlowWarning: This function (<function BaseSpectralCube._apply_everywhere at 0x7ff3b3e084c0>) requires loading the entire cube into memory and may therefore be slow. [spectral_cube.utils]\n",
      "WARNING:astropy:PossiblySlowWarning: This function (<function BaseSpectralCube._apply_everywhere at 0x7ff3b3e084c0>) requires loading the entire cube into memory and may therefore be slow.\n",
      "WARNING: PossiblySlowWarning: This function (<function BaseSpectralCube.to at 0x7ff3b3e0a8b0>) requires loading the entire cube into memory and may therefore be slow. [spectral_cube.utils]\n",
      "WARNING:astropy:PossiblySlowWarning: This function (<function BaseSpectralCube.to at 0x7ff3b3e0a8b0>) requires loading the entire cube into memory and may therefore be slow.\n",
      " 25%|██▌       | 10/40 [00:06<00:18,  1.63it/s]WARNING: PossiblySlowWarning: This function (<function BaseSpectralCube._apply_everywhere at 0x7ff3b3e084c0>) requires loading the entire cube into memory and may therefore be slow. [spectral_cube.utils]\n",
      "WARNING:astropy:PossiblySlowWarning: This function (<function BaseSpectralCube._apply_everywhere at 0x7ff3b3e084c0>) requires loading the entire cube into memory and may therefore be slow.\n",
      "WARNING: PossiblySlowWarning: This function (<function BaseSpectralCube.to at 0x7ff3b3e0a8b0>) requires loading the entire cube into memory and may therefore be slow. [spectral_cube.utils]\n",
      "WARNING:astropy:PossiblySlowWarning: This function (<function BaseSpectralCube.to at 0x7ff3b3e0a8b0>) requires loading the entire cube into memory and may therefore be slow.\n",
      " 28%|██▊       | 11/40 [00:06<00:17,  1.63it/s]WARNING: PossiblySlowWarning: This function (<function BaseSpectralCube._apply_everywhere at 0x7ff3b3e084c0>) requires loading the entire cube into memory and may therefore be slow. [spectral_cube.utils]\n",
      "WARNING:astropy:PossiblySlowWarning: This function (<function BaseSpectralCube._apply_everywhere at 0x7ff3b3e084c0>) requires loading the entire cube into memory and may therefore be slow.\n",
      "WARNING: PossiblySlowWarning: This function (<function BaseSpectralCube.to at 0x7ff3b3e0a8b0>) requires loading the entire cube into memory and may therefore be slow. [spectral_cube.utils]\n",
      "WARNING:astropy:PossiblySlowWarning: This function (<function BaseSpectralCube.to at 0x7ff3b3e0a8b0>) requires loading the entire cube into memory and may therefore be slow.\n",
      " 30%|███       | 12/40 [00:07<00:16,  1.65it/s]WARNING: PossiblySlowWarning: This function (<function BaseSpectralCube._apply_everywhere at 0x7ff3b3e084c0>) requires loading the entire cube into memory and may therefore be slow. [spectral_cube.utils]\n",
      "WARNING:astropy:PossiblySlowWarning: This function (<function BaseSpectralCube._apply_everywhere at 0x7ff3b3e084c0>) requires loading the entire cube into memory and may therefore be slow.\n",
      "WARNING: PossiblySlowWarning: This function (<function BaseSpectralCube.to at 0x7ff3b3e0a8b0>) requires loading the entire cube into memory and may therefore be slow. [spectral_cube.utils]\n",
      "WARNING:astropy:PossiblySlowWarning: This function (<function BaseSpectralCube.to at 0x7ff3b3e0a8b0>) requires loading the entire cube into memory and may therefore be slow.\n",
      " 32%|███▎      | 13/40 [00:08<00:19,  1.41it/s]WARNING: PossiblySlowWarning: This function (<function BaseSpectralCube._apply_everywhere at 0x7ff3b3e084c0>) requires loading the entire cube into memory and may therefore be slow. [spectral_cube.utils]\n",
      "WARNING:astropy:PossiblySlowWarning: This function (<function BaseSpectralCube._apply_everywhere at 0x7ff3b3e084c0>) requires loading the entire cube into memory and may therefore be slow.\n",
      "WARNING: PossiblySlowWarning: This function (<function BaseSpectralCube.to at 0x7ff3b3e0a8b0>) requires loading the entire cube into memory and may therefore be slow. [spectral_cube.utils]\n",
      "WARNING:astropy:PossiblySlowWarning: This function (<function BaseSpectralCube.to at 0x7ff3b3e0a8b0>) requires loading the entire cube into memory and may therefore be slow.\n",
      " 35%|███▌      | 14/40 [00:08<00:17,  1.45it/s]WARNING: PossiblySlowWarning: This function (<function BaseSpectralCube._apply_everywhere at 0x7ff3b3e084c0>) requires loading the entire cube into memory and may therefore be slow. [spectral_cube.utils]\n",
      "WARNING:astropy:PossiblySlowWarning: This function (<function BaseSpectralCube._apply_everywhere at 0x7ff3b3e084c0>) requires loading the entire cube into memory and may therefore be slow.\n",
      "WARNING: PossiblySlowWarning: This function (<function BaseSpectralCube.to at 0x7ff3b3e0a8b0>) requires loading the entire cube into memory and may therefore be slow. [spectral_cube.utils]\n",
      "WARNING:astropy:PossiblySlowWarning: This function (<function BaseSpectralCube.to at 0x7ff3b3e0a8b0>) requires loading the entire cube into memory and may therefore be slow.\n",
      " 38%|███▊      | 15/40 [00:09<00:16,  1.51it/s]WARNING: PossiblySlowWarning: This function (<function BaseSpectralCube._apply_everywhere at 0x7ff3b3e084c0>) requires loading the entire cube into memory and may therefore be slow. [spectral_cube.utils]\n",
      "WARNING:astropy:PossiblySlowWarning: This function (<function BaseSpectralCube._apply_everywhere at 0x7ff3b3e084c0>) requires loading the entire cube into memory and may therefore be slow.\n",
      "WARNING: PossiblySlowWarning: This function (<function BaseSpectralCube.to at 0x7ff3b3e0a8b0>) requires loading the entire cube into memory and may therefore be slow. [spectral_cube.utils]\n",
      "WARNING:astropy:PossiblySlowWarning: This function (<function BaseSpectralCube.to at 0x7ff3b3e0a8b0>) requires loading the entire cube into memory and may therefore be slow.\n",
      " 40%|████      | 16/40 [00:10<00:16,  1.44it/s]WARNING: PossiblySlowWarning: This function (<function BaseSpectralCube._apply_everywhere at 0x7ff3b3e084c0>) requires loading the entire cube into memory and may therefore be slow. [spectral_cube.utils]\n",
      "WARNING:astropy:PossiblySlowWarning: This function (<function BaseSpectralCube._apply_everywhere at 0x7ff3b3e084c0>) requires loading the entire cube into memory and may therefore be slow.\n",
      "WARNING: PossiblySlowWarning: This function (<function BaseSpectralCube.to at 0x7ff3b3e0a8b0>) requires loading the entire cube into memory and may therefore be slow. [spectral_cube.utils]\n",
      "WARNING:astropy:PossiblySlowWarning: This function (<function BaseSpectralCube.to at 0x7ff3b3e0a8b0>) requires loading the entire cube into memory and may therefore be slow.\n",
      " 42%|████▎     | 17/40 [00:11<00:16,  1.42it/s]WARNING: PossiblySlowWarning: This function (<function BaseSpectralCube._apply_everywhere at 0x7ff3b3e084c0>) requires loading the entire cube into memory and may therefore be slow. [spectral_cube.utils]\n",
      "WARNING:astropy:PossiblySlowWarning: This function (<function BaseSpectralCube._apply_everywhere at 0x7ff3b3e084c0>) requires loading the entire cube into memory and may therefore be slow.\n",
      "WARNING: PossiblySlowWarning: This function (<function BaseSpectralCube.to at 0x7ff3b3e0a8b0>) requires loading the entire cube into memory and may therefore be slow. [spectral_cube.utils]\n",
      "WARNING:astropy:PossiblySlowWarning: This function (<function BaseSpectralCube.to at 0x7ff3b3e0a8b0>) requires loading the entire cube into memory and may therefore be slow.\n",
      " 45%|████▌     | 18/40 [00:11<00:14,  1.47it/s]WARNING: PossiblySlowWarning: This function (<function BaseSpectralCube._apply_everywhere at 0x7ff3b3e084c0>) requires loading the entire cube into memory and may therefore be slow. [spectral_cube.utils]\n",
      "WARNING:astropy:PossiblySlowWarning: This function (<function BaseSpectralCube._apply_everywhere at 0x7ff3b3e084c0>) requires loading the entire cube into memory and may therefore be slow.\n",
      "WARNING: PossiblySlowWarning: This function (<function BaseSpectralCube.to at 0x7ff3b3e0a8b0>) requires loading the entire cube into memory and may therefore be slow. [spectral_cube.utils]\n",
      "WARNING:astropy:PossiblySlowWarning: This function (<function BaseSpectralCube.to at 0x7ff3b3e0a8b0>) requires loading the entire cube into memory and may therefore be slow.\n",
      " 48%|████▊     | 19/40 [00:12<00:13,  1.52it/s]WARNING: PossiblySlowWarning: This function (<function BaseSpectralCube._apply_everywhere at 0x7ff3b3e084c0>) requires loading the entire cube into memory and may therefore be slow. [spectral_cube.utils]\n",
      "WARNING:astropy:PossiblySlowWarning: This function (<function BaseSpectralCube._apply_everywhere at 0x7ff3b3e084c0>) requires loading the entire cube into memory and may therefore be slow.\n",
      "WARNING: PossiblySlowWarning: This function (<function BaseSpectralCube.to at 0x7ff3b3e0a8b0>) requires loading the entire cube into memory and may therefore be slow. [spectral_cube.utils]\n",
      "WARNING:astropy:PossiblySlowWarning: This function (<function BaseSpectralCube.to at 0x7ff3b3e0a8b0>) requires loading the entire cube into memory and may therefore be slow.\n",
      " 50%|█████     | 20/40 [00:12<00:12,  1.59it/s]WARNING: PossiblySlowWarning: This function (<function BaseSpectralCube._apply_everywhere at 0x7ff3b3e084c0>) requires loading the entire cube into memory and may therefore be slow. [spectral_cube.utils]\n",
      "WARNING:astropy:PossiblySlowWarning: This function (<function BaseSpectralCube._apply_everywhere at 0x7ff3b3e084c0>) requires loading the entire cube into memory and may therefore be slow.\n",
      "WARNING: PossiblySlowWarning: This function (<function BaseSpectralCube.to at 0x7ff3b3e0a8b0>) requires loading the entire cube into memory and may therefore be slow. [spectral_cube.utils]\n",
      "WARNING:astropy:PossiblySlowWarning: This function (<function BaseSpectralCube.to at 0x7ff3b3e0a8b0>) requires loading the entire cube into memory and may therefore be slow.\n",
      " 52%|█████▎    | 21/40 [00:13<00:11,  1.61it/s]WARNING: PossiblySlowWarning: This function (<function BaseSpectralCube._apply_everywhere at 0x7ff3b3e084c0>) requires loading the entire cube into memory and may therefore be slow. [spectral_cube.utils]\n",
      "WARNING:astropy:PossiblySlowWarning: This function (<function BaseSpectralCube._apply_everywhere at 0x7ff3b3e084c0>) requires loading the entire cube into memory and may therefore be slow.\n",
      "WARNING: PossiblySlowWarning: This function (<function BaseSpectralCube.to at 0x7ff3b3e0a8b0>) requires loading the entire cube into memory and may therefore be slow. [spectral_cube.utils]\n",
      "WARNING:astropy:PossiblySlowWarning: This function (<function BaseSpectralCube.to at 0x7ff3b3e0a8b0>) requires loading the entire cube into memory and may therefore be slow.\n",
      " 55%|█████▌    | 22/40 [00:14<00:10,  1.64it/s]WARNING: PossiblySlowWarning: This function (<function BaseSpectralCube._apply_everywhere at 0x7ff3b3e084c0>) requires loading the entire cube into memory and may therefore be slow. [spectral_cube.utils]\n",
      "WARNING:astropy:PossiblySlowWarning: This function (<function BaseSpectralCube._apply_everywhere at 0x7ff3b3e084c0>) requires loading the entire cube into memory and may therefore be slow.\n",
      "WARNING: PossiblySlowWarning: This function (<function BaseSpectralCube.to at 0x7ff3b3e0a8b0>) requires loading the entire cube into memory and may therefore be slow. [spectral_cube.utils]\n",
      "WARNING:astropy:PossiblySlowWarning: This function (<function BaseSpectralCube.to at 0x7ff3b3e0a8b0>) requires loading the entire cube into memory and may therefore be slow.\n",
      " 57%|█████▊    | 23/40 [00:14<00:10,  1.66it/s]WARNING: PossiblySlowWarning: This function (<function BaseSpectralCube._apply_everywhere at 0x7ff3b3e084c0>) requires loading the entire cube into memory and may therefore be slow. [spectral_cube.utils]\n",
      "WARNING:astropy:PossiblySlowWarning: This function (<function BaseSpectralCube._apply_everywhere at 0x7ff3b3e084c0>) requires loading the entire cube into memory and may therefore be slow.\n",
      "WARNING: PossiblySlowWarning: This function (<function BaseSpectralCube.to at 0x7ff3b3e0a8b0>) requires loading the entire cube into memory and may therefore be slow. [spectral_cube.utils]\n",
      "WARNING:astropy:PossiblySlowWarning: This function (<function BaseSpectralCube.to at 0x7ff3b3e0a8b0>) requires loading the entire cube into memory and may therefore be slow.\n",
      " 60%|██████    | 24/40 [00:15<00:09,  1.69it/s]WARNING: PossiblySlowWarning: This function (<function BaseSpectralCube._apply_everywhere at 0x7ff3b3e084c0>) requires loading the entire cube into memory and may therefore be slow. [spectral_cube.utils]\n",
      "WARNING:astropy:PossiblySlowWarning: This function (<function BaseSpectralCube._apply_everywhere at 0x7ff3b3e084c0>) requires loading the entire cube into memory and may therefore be slow.\n",
      "WARNING: PossiblySlowWarning: This function (<function BaseSpectralCube.to at 0x7ff3b3e0a8b0>) requires loading the entire cube into memory and may therefore be slow. [spectral_cube.utils]\n",
      "WARNING:astropy:PossiblySlowWarning: This function (<function BaseSpectralCube.to at 0x7ff3b3e0a8b0>) requires loading the entire cube into memory and may therefore be slow.\n",
      " 62%|██████▎   | 25/40 [00:15<00:08,  1.70it/s]WARNING: PossiblySlowWarning: This function (<function BaseSpectralCube._apply_everywhere at 0x7ff3b3e084c0>) requires loading the entire cube into memory and may therefore be slow. [spectral_cube.utils]\n",
      "WARNING:astropy:PossiblySlowWarning: This function (<function BaseSpectralCube._apply_everywhere at 0x7ff3b3e084c0>) requires loading the entire cube into memory and may therefore be slow.\n",
      "WARNING: PossiblySlowWarning: This function (<function BaseSpectralCube.to at 0x7ff3b3e0a8b0>) requires loading the entire cube into memory and may therefore be slow. [spectral_cube.utils]\n",
      "WARNING:astropy:PossiblySlowWarning: This function (<function BaseSpectralCube.to at 0x7ff3b3e0a8b0>) requires loading the entire cube into memory and may therefore be slow.\n",
      " 65%|██████▌   | 26/40 [00:16<00:08,  1.70it/s]WARNING: PossiblySlowWarning: This function (<function BaseSpectralCube._apply_everywhere at 0x7ff3b3e084c0>) requires loading the entire cube into memory and may therefore be slow. [spectral_cube.utils]\n",
      "WARNING:astropy:PossiblySlowWarning: This function (<function BaseSpectralCube._apply_everywhere at 0x7ff3b3e084c0>) requires loading the entire cube into memory and may therefore be slow.\n",
      "WARNING: PossiblySlowWarning: This function (<function BaseSpectralCube.to at 0x7ff3b3e0a8b0>) requires loading the entire cube into memory and may therefore be slow. [spectral_cube.utils]\n",
      "WARNING:astropy:PossiblySlowWarning: This function (<function BaseSpectralCube.to at 0x7ff3b3e0a8b0>) requires loading the entire cube into memory and may therefore be slow.\n",
      " 68%|██████▊   | 27/40 [00:16<00:07,  1.66it/s]WARNING: PossiblySlowWarning: This function (<function BaseSpectralCube._apply_everywhere at 0x7ff3b3e084c0>) requires loading the entire cube into memory and may therefore be slow. [spectral_cube.utils]\n",
      "WARNING:astropy:PossiblySlowWarning: This function (<function BaseSpectralCube._apply_everywhere at 0x7ff3b3e084c0>) requires loading the entire cube into memory and may therefore be slow.\n",
      "WARNING: PossiblySlowWarning: This function (<function BaseSpectralCube.to at 0x7ff3b3e0a8b0>) requires loading the entire cube into memory and may therefore be slow. [spectral_cube.utils]\n",
      "WARNING:astropy:PossiblySlowWarning: This function (<function BaseSpectralCube.to at 0x7ff3b3e0a8b0>) requires loading the entire cube into memory and may therefore be slow.\n",
      " 70%|███████   | 28/40 [00:17<00:07,  1.57it/s]WARNING: PossiblySlowWarning: This function (<function BaseSpectralCube._apply_everywhere at 0x7ff3b3e084c0>) requires loading the entire cube into memory and may therefore be slow. [spectral_cube.utils]\n",
      "WARNING:astropy:PossiblySlowWarning: This function (<function BaseSpectralCube._apply_everywhere at 0x7ff3b3e084c0>) requires loading the entire cube into memory and may therefore be slow.\n",
      "WARNING: PossiblySlowWarning: This function (<function BaseSpectralCube.to at 0x7ff3b3e0a8b0>) requires loading the entire cube into memory and may therefore be slow. [spectral_cube.utils]\n",
      "WARNING:astropy:PossiblySlowWarning: This function (<function BaseSpectralCube.to at 0x7ff3b3e0a8b0>) requires loading the entire cube into memory and may therefore be slow.\n",
      " 72%|███████▎  | 29/40 [00:18<00:07,  1.51it/s]WARNING: PossiblySlowWarning: This function (<function BaseSpectralCube._apply_everywhere at 0x7ff3b3e084c0>) requires loading the entire cube into memory and may therefore be slow. [spectral_cube.utils]\n",
      "WARNING:astropy:PossiblySlowWarning: This function (<function BaseSpectralCube._apply_everywhere at 0x7ff3b3e084c0>) requires loading the entire cube into memory and may therefore be slow.\n",
      "WARNING: PossiblySlowWarning: This function (<function BaseSpectralCube.to at 0x7ff3b3e0a8b0>) requires loading the entire cube into memory and may therefore be slow. [spectral_cube.utils]\n",
      "WARNING:astropy:PossiblySlowWarning: This function (<function BaseSpectralCube.to at 0x7ff3b3e0a8b0>) requires loading the entire cube into memory and may therefore be slow.\n",
      " 75%|███████▌  | 30/40 [00:19<00:06,  1.49it/s]WARNING: PossiblySlowWarning: This function (<function BaseSpectralCube._apply_everywhere at 0x7ff3b3e084c0>) requires loading the entire cube into memory and may therefore be slow. [spectral_cube.utils]\n",
      "WARNING:astropy:PossiblySlowWarning: This function (<function BaseSpectralCube._apply_everywhere at 0x7ff3b3e084c0>) requires loading the entire cube into memory and may therefore be slow.\n",
      "WARNING: PossiblySlowWarning: This function (<function BaseSpectralCube.to at 0x7ff3b3e0a8b0>) requires loading the entire cube into memory and may therefore be slow. [spectral_cube.utils]\n",
      "WARNING:astropy:PossiblySlowWarning: This function (<function BaseSpectralCube.to at 0x7ff3b3e0a8b0>) requires loading the entire cube into memory and may therefore be slow.\n",
      " 78%|███████▊  | 31/40 [00:20<00:06,  1.31it/s]WARNING: PossiblySlowWarning: This function (<function BaseSpectralCube._apply_everywhere at 0x7ff3b3e084c0>) requires loading the entire cube into memory and may therefore be slow. [spectral_cube.utils]\n",
      "WARNING:astropy:PossiblySlowWarning: This function (<function BaseSpectralCube._apply_everywhere at 0x7ff3b3e084c0>) requires loading the entire cube into memory and may therefore be slow.\n",
      "WARNING: PossiblySlowWarning: This function (<function BaseSpectralCube.to at 0x7ff3b3e0a8b0>) requires loading the entire cube into memory and may therefore be slow. [spectral_cube.utils]\n",
      "WARNING:astropy:PossiblySlowWarning: This function (<function BaseSpectralCube.to at 0x7ff3b3e0a8b0>) requires loading the entire cube into memory and may therefore be slow.\n",
      " 80%|████████  | 32/40 [00:21<00:06,  1.21it/s]WARNING: PossiblySlowWarning: This function (<function BaseSpectralCube._apply_everywhere at 0x7ff3b3e084c0>) requires loading the entire cube into memory and may therefore be slow. [spectral_cube.utils]\n",
      "WARNING:astropy:PossiblySlowWarning: This function (<function BaseSpectralCube._apply_everywhere at 0x7ff3b3e084c0>) requires loading the entire cube into memory and may therefore be slow.\n",
      "WARNING: PossiblySlowWarning: This function (<function BaseSpectralCube.to at 0x7ff3b3e0a8b0>) requires loading the entire cube into memory and may therefore be slow. [spectral_cube.utils]\n",
      "WARNING:astropy:PossiblySlowWarning: This function (<function BaseSpectralCube.to at 0x7ff3b3e0a8b0>) requires loading the entire cube into memory and may therefore be slow.\n",
      " 82%|████████▎ | 33/40 [00:22<00:06,  1.14it/s]WARNING: PossiblySlowWarning: This function (<function BaseSpectralCube._apply_everywhere at 0x7ff3b3e084c0>) requires loading the entire cube into memory and may therefore be slow. [spectral_cube.utils]\n",
      "WARNING:astropy:PossiblySlowWarning: This function (<function BaseSpectralCube._apply_everywhere at 0x7ff3b3e084c0>) requires loading the entire cube into memory and may therefore be slow.\n",
      "WARNING: PossiblySlowWarning: This function (<function BaseSpectralCube.to at 0x7ff3b3e0a8b0>) requires loading the entire cube into memory and may therefore be slow. [spectral_cube.utils]\n",
      "WARNING:astropy:PossiblySlowWarning: This function (<function BaseSpectralCube.to at 0x7ff3b3e0a8b0>) requires loading the entire cube into memory and may therefore be slow.\n",
      " 85%|████████▌ | 34/40 [00:22<00:05,  1.12it/s]WARNING: PossiblySlowWarning: This function (<function BaseSpectralCube._apply_everywhere at 0x7ff3b3e084c0>) requires loading the entire cube into memory and may therefore be slow. [spectral_cube.utils]\n",
      "WARNING:astropy:PossiblySlowWarning: This function (<function BaseSpectralCube._apply_everywhere at 0x7ff3b3e084c0>) requires loading the entire cube into memory and may therefore be slow.\n",
      "WARNING: PossiblySlowWarning: This function (<function BaseSpectralCube.to at 0x7ff3b3e0a8b0>) requires loading the entire cube into memory and may therefore be slow. [spectral_cube.utils]\n",
      "WARNING:astropy:PossiblySlowWarning: This function (<function BaseSpectralCube.to at 0x7ff3b3e0a8b0>) requires loading the entire cube into memory and may therefore be slow.\n",
      " 88%|████████▊ | 35/40 [00:24<00:04,  1.06it/s]WARNING: PossiblySlowWarning: This function (<function BaseSpectralCube._apply_everywhere at 0x7ff3b3e084c0>) requires loading the entire cube into memory and may therefore be slow. [spectral_cube.utils]\n",
      "WARNING:astropy:PossiblySlowWarning: This function (<function BaseSpectralCube._apply_everywhere at 0x7ff3b3e084c0>) requires loading the entire cube into memory and may therefore be slow.\n",
      "WARNING: PossiblySlowWarning: This function (<function BaseSpectralCube.to at 0x7ff3b3e0a8b0>) requires loading the entire cube into memory and may therefore be slow. [spectral_cube.utils]\n",
      "WARNING:astropy:PossiblySlowWarning: This function (<function BaseSpectralCube.to at 0x7ff3b3e0a8b0>) requires loading the entire cube into memory and may therefore be slow.\n",
      " 90%|█████████ | 36/40 [00:25<00:03,  1.06it/s]WARNING: PossiblySlowWarning: This function (<function BaseSpectralCube._apply_everywhere at 0x7ff3b3e084c0>) requires loading the entire cube into memory and may therefore be slow. [spectral_cube.utils]\n",
      "WARNING:astropy:PossiblySlowWarning: This function (<function BaseSpectralCube._apply_everywhere at 0x7ff3b3e084c0>) requires loading the entire cube into memory and may therefore be slow.\n",
      "WARNING: PossiblySlowWarning: This function (<function BaseSpectralCube.to at 0x7ff3b3e0a8b0>) requires loading the entire cube into memory and may therefore be slow. [spectral_cube.utils]\n",
      "WARNING:astropy:PossiblySlowWarning: This function (<function BaseSpectralCube.to at 0x7ff3b3e0a8b0>) requires loading the entire cube into memory and may therefore be slow.\n",
      " 92%|█████████▎| 37/40 [00:25<00:02,  1.07it/s]WARNING: PossiblySlowWarning: This function (<function BaseSpectralCube._apply_everywhere at 0x7ff3b3e084c0>) requires loading the entire cube into memory and may therefore be slow. [spectral_cube.utils]\n",
      "WARNING:astropy:PossiblySlowWarning: This function (<function BaseSpectralCube._apply_everywhere at 0x7ff3b3e084c0>) requires loading the entire cube into memory and may therefore be slow.\n",
      "WARNING: PossiblySlowWarning: This function (<function BaseSpectralCube.to at 0x7ff3b3e0a8b0>) requires loading the entire cube into memory and may therefore be slow. [spectral_cube.utils]\n",
      "WARNING:astropy:PossiblySlowWarning: This function (<function BaseSpectralCube.to at 0x7ff3b3e0a8b0>) requires loading the entire cube into memory and may therefore be slow.\n",
      " 95%|█████████▌| 38/40 [00:26<00:01,  1.08it/s]WARNING: PossiblySlowWarning: This function (<function BaseSpectralCube._apply_everywhere at 0x7ff3b3e084c0>) requires loading the entire cube into memory and may therefore be slow. [spectral_cube.utils]\n",
      "WARNING:astropy:PossiblySlowWarning: This function (<function BaseSpectralCube._apply_everywhere at 0x7ff3b3e084c0>) requires loading the entire cube into memory and may therefore be slow.\n",
      "WARNING: PossiblySlowWarning: This function (<function BaseSpectralCube.to at 0x7ff3b3e0a8b0>) requires loading the entire cube into memory and may therefore be slow. [spectral_cube.utils]\n",
      "WARNING:astropy:PossiblySlowWarning: This function (<function BaseSpectralCube.to at 0x7ff3b3e0a8b0>) requires loading the entire cube into memory and may therefore be slow.\n",
      " 98%|█████████▊| 39/40 [00:27<00:00,  1.09it/s]WARNING: PossiblySlowWarning: This function (<function BaseSpectralCube._apply_everywhere at 0x7ff3b3e084c0>) requires loading the entire cube into memory and may therefore be slow. [spectral_cube.utils]\n",
      "WARNING:astropy:PossiblySlowWarning: This function (<function BaseSpectralCube._apply_everywhere at 0x7ff3b3e084c0>) requires loading the entire cube into memory and may therefore be slow.\n",
      "WARNING: PossiblySlowWarning: This function (<function BaseSpectralCube.to at 0x7ff3b3e0a8b0>) requires loading the entire cube into memory and may therefore be slow. [spectral_cube.utils]\n",
      "WARNING:astropy:PossiblySlowWarning: This function (<function BaseSpectralCube.to at 0x7ff3b3e0a8b0>) requires loading the entire cube into memory and may therefore be slow.\n",
      "100%|██████████| 40/40 [00:28<00:00,  1.39it/s]\n"
     ]
    },
    {
     "data": {
      "text/plain": "[304.4215793207531,\n 211.06664945937447,\n 200.60682189267558,\n 165.66349194922083,\n 418.9934818746358,\n 384098.8363549548,\n 196.47586319223345,\n 448.31464973223416,\n 357.9821675396242,\n 437.2251494953398,\n 201.276311608229,\n 1199.4004724705444,\n 449.12251725037004,\n 395.16796259659293,\n 327.04997642271957,\n 266.13439683389106,\n 230.37376759911533,\n 3067.852018178955,\n 570.5346535699219,\n 788.7814667988054,\n 659.6421379493322,\n 684.792152323957,\n 11855.478211096524,\n 410.9305204053137,\n 545.183882130541,\n 360.10881510139353,\n 318.9004802822689,\n 3161.9263419338768,\n 283.60246624314726,\n 514.6946664340554,\n 664.3351558602185,\n 373.68990637736954,\n 324.160205448874,\n 670.3137975493439,\n 297.6379077663356,\n 588.2525952023178,\n 582.5137842685222,\n 455.6175293027487,\n 423.78372496455927,\n 249.67146915255657]"
     },
     "execution_count": 11,
     "metadata": {},
     "output_type": "execute_result"
    }
   ],
   "source": [
    "folders = sorted(Path(\"fit2\").glob(\"fit_*\"))\n",
    "residuals_from_pickle = []\n",
    "for folder in tqdm(folders):\n",
    "    data = folder / \"radmc_gas\" / \"CO J=2-1_image.fits\"\n",
    "    residual = uvdata_from_pickle.chi2_with(data, check=False)\n",
    "    residuals_from_pickle.append(residual)\n",
    "residuals_from_pickle\n"
   ],
   "metadata": {
    "collapsed": false,
    "pycharm": {
     "name": "#%%\n"
    }
   }
  },
  {
   "cell_type": "code",
   "execution_count": 19,
   "outputs": [],
   "source": [
    "np.testing.assert_allclose(np.array(residuals_from_pickle), np.array(residuals))"
   ],
   "metadata": {
    "collapsed": false,
    "pycharm": {
     "name": "#%%\n"
    }
   }
  },
  {
   "cell_type": "code",
   "execution_count": null,
   "outputs": [],
   "source": [
    "refdata = SpectralCube.read(model_reference_path / \"CO J=2-1_image.fits\")\n",
    "data = SpectralCube.read(Path(\"fit2\") / \"fit_3wxvzbly\" / \"radmc_gas\" / \"CO J=2-1_image.fits\")\n",
    "pixel_area_units = (u.Unit(data.wcs.celestial.world_axis_units[0])\n",
    "                   * u.Unit(data.wcs.celestial.world_axis_units[1]))\n",
    "pixel_area = astropy.wcs.utils.proj_plane_pixel_area(data.wcs.celestial) * pixel_area_units\n",
    "dxy = np.sqrt(pixel_area).to_value(u.rad)\n",
    "print(pixel_area, dxy)\n",
    "data = (data * pixel_area).to(u.Jy)\n",
    "\n",
    "print(data.spectral_axis)\n",
    "print(uvdata.frequencies)\n",
    "print(uvdata.frequencies/data.spectral_axis)\n",
    "\n",
    "for i in range(21):\n",
    "    fig, ax = plt.subplots(2)\n",
    "    ax[0].imshow(data[i].value)\n",
    "    ax[1].imshow(refdata[i].value)\n",
    "    # print(sampleImage(data[i], dxy,\n",
    "    #                   (uvdata.u / c.c * data.spectral_axis[i]),\n",
    "    #                   (uvdata.v / c.c * data.spectral_axis[i])))\n",
    "    chi2=chi2Image(\n",
    "        image=data[i],\n",
    "        dxy=dxy,\n",
    "        u=(uvdata.u / c.c * data.spectral_axis[i]).to_value(u.dimensionless_unscaled),\n",
    "        v=(uvdata.v / c.c * data.spectral_axis[i]).to_value(u.dimensionless_unscaled),\n",
    "        vis_obs_re=uvdata.re.T[i].astype('float64').to_value(u.Jy),\n",
    "        vis_obs_im=uvdata.im.T[i].astype('float64').to_value(u.Jy),\n",
    "        vis_obs_w=uvdata.weight.T[i].astype('float64').to_value(u.Jy ** -2),\n",
    "        check=True\n",
    "    )\n",
    "    #\n",
    "    # print(\"\\n\\n\\n{u}\\n{v}\\n{vis_obs_re}\\n{vis_obs_im}\\n{vis_obs_w}\\n{image}\\n{dxy}\\n\\n\".format(\n",
    "    #     image=data[i].shape,\n",
    "    #     dxy=dxy,\n",
    "    #     u=(uvdata.u / c.c * data.spectral_axis[i]).to_value(u.dimensionless_unscaled),\n",
    "    #     v=(uvdata.v / c.c * data.spectral_axis[i]).to_value(u.dimensionless_unscaled),\n",
    "    #     vis_obs_re=uvdata.re.T[i].astype('float64').to_value(u.Jy),\n",
    "    #     vis_obs_im=uvdata.im.T[i].astype('float64').to_value(u.Jy),\n",
    "    #     vis_obs_w=uvdata.weight.T[i].astype('float64').to_value(u.Jy ** -2), )\n",
    "    # )\n",
    "    fig.suptitle(f\"$\\chi^2 = {chi2:.2f}$\")\n",
    "    print(chi2)"
   ],
   "metadata": {
    "collapsed": false,
    "pycharm": {
     "name": "#%%\n"
    }
   }
  },
  {
   "cell_type": "code",
   "execution_count": null,
   "outputs": [],
   "source": [],
   "metadata": {
    "collapsed": false,
    "pycharm": {
     "name": "#%%\n"
    }
   }
  },
  {
   "cell_type": "code",
   "execution_count": null,
   "outputs": [],
   "source": [
    "refdata = SpectralCube.read(model_reference_path / \"CO J=2-1_image.fits\")\n",
    "data = SpectralCube.read(model_reference_path / \"CO J=2-1_image.fits\")\n",
    "pixel_area_units = (u.Unit(data.wcs.celestial.world_axis_units[0])\n",
    "                   * u.Unit(data.wcs.celestial.world_axis_units[1]))\n",
    "pixel_area = astropy.wcs.utils.proj_plane_pixel_area(data.wcs.celestial) * pixel_area_units\n",
    "dxy = np.sqrt(pixel_area).to_value(u.rad)\n",
    "print(pixel_area, dxy)\n",
    "data = (data * pixel_area).to(u.Jy)\n",
    "\n",
    "print(data.spectral_axis)\n",
    "print(uvdata.frequencies)\n",
    "print(uvdata.frequencies/data.spectral_axis)\n",
    "\n",
    "for i in range(21):\n",
    "    fig, ax = plt.subplots(2)\n",
    "    ax[0].imshow(data[i].value)\n",
    "    ax[1].imshow(refdata[i].value)\n",
    "    # print(sampleImage(data[i], dxy,\n",
    "    #                   (uvdata.u / c.c * data.spectral_axis[i]),\n",
    "    #                   (uvdata.v / c.c * data.spectral_axis[i])))\n",
    "    chi2=chi2Image(\n",
    "        image=data[i],\n",
    "        dxy=dxy,\n",
    "        u=(uvdata.u / c.c * data.spectral_axis[i]).to_value(u.dimensionless_unscaled),\n",
    "        v=(uvdata.v / c.c * data.spectral_axis[i]).to_value(u.dimensionless_unscaled),\n",
    "        vis_obs_re=uvdata.re.T[i].astype('float64').to_value(u.Jy),\n",
    "        vis_obs_im=uvdata.im.T[i].astype('float64').to_value(u.Jy),\n",
    "        vis_obs_w=uvdata.weight.T[i].astype('float64').to_value(u.Jy ** -2),\n",
    "        check=False\n",
    "    )\n",
    "    #\n",
    "    # print(\"\\n\\n\\n{u}\\n{v}\\n{vis_obs_re}\\n{vis_obs_im}\\n{vis_obs_w}\\n{image}\\n{dxy}\\n\\n\".format(\n",
    "    #     image=data[i].shape,\n",
    "    #     dxy=dxy,\n",
    "    #     u=(uvdata.u / c.c * data.spectral_axis[i]).to_value(u.dimensionless_unscaled),\n",
    "    #     v=(uvdata.v / c.c * data.spectral_axis[i]).to_value(u.dimensionless_unscaled),\n",
    "    #     vis_obs_re=uvdata.re.T[i].astype('float64').to_value(u.Jy),\n",
    "    #     vis_obs_im=uvdata.im.T[i].astype('float64').to_value(u.Jy),\n",
    "    #     vis_obs_w=uvdata.weight.T[i].astype('float64').to_value(u.Jy ** -2), )\n",
    "    # )\n",
    "    fig.suptitle(f\"$\\chi^2 = {chi2:.2f}$\")\n",
    "    print(chi2)\n"
   ],
   "metadata": {
    "collapsed": false,
    "pycharm": {
     "name": "#%%\n"
    }
   }
  },
  {
   "cell_type": "code",
   "execution_count": null,
   "outputs": [],
   "source": [
    "chi2Image(\n",
    "    image=data[0],\n",
    "    dxy=dxy,\n",
    "    u=(uvdata.u / _wavelength).to_value(u.dimensionless_unscaled),\n",
    "    v=(uvdata.v / _wavelength).to_value(u.dimensionless_unscaled),\n",
    "    vis_obs_re=_re.astype('float64').to_value(u.Jy),\n",
    "    vis_obs_im=_im.astype('float64').to_value(u.Jy),\n",
    "    vis_obs_w=_weight.astype('float64').to_value(u.Jy ** -2),\n",
    ")\n"
   ],
   "metadata": {
    "collapsed": false,
    "pycharm": {
     "name": "#%%\n"
    }
   }
  }
 ],
 "metadata": {
  "kernelspec": {
   "display_name": "Python 3",
   "language": "python",
   "name": "python3"
  },
  "language_info": {
   "codemirror_mode": {
    "name": "ipython",
    "version": 2
   },
   "file_extension": ".py",
   "mimetype": "text/x-python",
   "name": "python",
   "nbconvert_exporter": "python",
   "pygments_lexer": "ipython2",
   "version": "2.7.6"
  }
 },
 "nbformat": 4,
 "nbformat_minor": 0
}