{
 "cells": [
  {
   "cell_type": "code",
   "execution_count": 1,
   "outputs": [],
   "source": [
    "import logging\n",
    "import time\n",
    "from model import ProposalModel\n",
    "from pathlib import Path\n",
    "import astropy.table\n",
    "from diskchef.lamda.line import Line\n",
    "from diskchef.physics.yorke_bodenheimer import YorkeBodenheimer2008\n",
    "from astropy import units as u\n",
    "import numpy as np\n",
    "import emcee\n",
    "from multiprocessing import Pool\n",
    "import tempfile"
   ],
   "metadata": {
    "collapsed": false,
    "pycharm": {
     "name": "#%%\n"
    }
   }
  },
  {
   "cell_type": "code",
   "execution_count": 2,
   "outputs": [
    {
     "data": {
      "text/plain": "<QTable length=4>\nTransition        Flux              Error       \n               km mJy / s         km mJy / s    \n  str10         float64            float64      \n---------- ------------------ ------------------\n HCN J=3-2 1558.7993018633028 155.87993018633028\nHCO+ J=3-2  687.4397015323481  68.74397015323481\nN2H+ J=3-2  225.2547370384128 22.525473703841282\n  CO J=2-1 1967.1088553763839  196.7108855376384",
      "text/html": "<i>QTable length=4</i>\n<table id=\"table140250829337792\" class=\"table-striped table-bordered table-condensed\">\n<thead><tr><th>Transition</th><th>Flux</th><th>Error</th></tr></thead>\n<thead><tr><th></th><th>km mJy / s</th><th>km mJy / s</th></tr></thead>\n<thead><tr><th>str10</th><th>float64</th><th>float64</th></tr></thead>\n<tr><td>HCN J=3-2</td><td>1558.7993018633028</td><td>155.87993018633028</td></tr>\n<tr><td>HCO+ J=3-2</td><td>687.4397015323481</td><td>68.74397015323481</td></tr>\n<tr><td>N2H+ J=3-2</td><td>225.2547370384128</td><td>22.525473703841282</td></tr>\n<tr><td>CO J=2-1</td><td>1967.1088553763839</td><td>196.7108855376384</td></tr>\n</table>"
     },
     "execution_count": 2,
     "metadata": {},
     "output_type": "execute_result"
    }
   ],
   "source": [
    "data_folder = Path(\"Default\")\n",
    "\n",
    "data = astropy.table.QTable.read(data_folder / \"fluxes.ecsv\")\n",
    "\n",
    "lines = [\n",
    "    Line(name='HCN J=3-2', transition=3, molecule='HCN'),\n",
    "    Line(name='HCO+ J=3-2', transition=3, molecule='HCO+'),\n",
    "    Line(name='N2H+ J=3-2', transition=3, molecule='N2H+'),\n",
    "    Line(name='CO J=2-1', transition=2, molecule='CO'),\n",
    "]\n",
    "\n",
    "data[\"Error\"] = 0.1 * data[\"Flux\"]\n",
    "data"
   ],
   "metadata": {
    "collapsed": false,
    "pycharm": {
     "name": "#%%\n"
    }
   }
  },
  {
   "cell_type": "code",
   "execution_count": 8,
   "outputs": [],
   "source": [
    "yb = YorkeBodenheimer2008()\n",
    "\n",
    "\n",
    "def lnprob(params):\n",
    "    mass = params[0] * u.M_sun\n",
    "    if params[0] <= 0: return -np.inf\n",
    "    if params[3] <= 0: return -np.inf\n",
    "    folder = Path(tempfile.mkdtemp(prefix=\"fit_\", dir=\"fit2\"))\n",
    "    try:\n",
    "        demo_model = ProposalModel(\n",
    "            disk=\"Fit\",\n",
    "            line_list=lines,\n",
    "            params=dict(r_min=1 * u.au, r_max=300 * u.au, radial_bins=40, vertical_bins=40),\n",
    "            rstar=yb.radius(mass),\n",
    "            tstar=yb.effective_temperature(mass),\n",
    "            inc=params[1] * u.deg,\n",
    "            PA=params[2] * u.deg,\n",
    "            distance=params[3] * u.pc,\n",
    "            nphot_therm=3e5,\n",
    "            npix=51,\n",
    "            channels=51,\n",
    "            folder=folder,\n",
    "            run_mctherm=False,\n",
    "        )\n",
    "        fluxes = astropy.table.QTable.read(folder / \"fluxes.ecsv\")\n",
    "        if not np.all(fluxes[\"Transition\"] == data[\"Transition\"]):\n",
    "            raise ValueError(\"Wrong order of transitions\")\n",
    "\n",
    "        chi_squared = np.sum(((data[\"Flux\"] - fluxes[\"Flux\"]) / data[\"Error\"]) ** 2)\n",
    "    except Exception as e:\n",
    "        logging.error(e)\n",
    "        return -np.inf\n",
    "    return -0.5 * chi_squared"
   ],
   "metadata": {
    "collapsed": false,
    "pycharm": {
     "name": "#%%\n"
    }
   }
  },
  {
   "cell_type": "code",
   "execution_count": 4,
   "outputs": [],
   "source": [
    "nwalkers = 8\n",
    "ndims = 4\n",
    "nsteps = 4\n",
    "trues = np.array([1, 30, 25, 150])\n",
    "\n",
    "initials = np.random.uniform(0.5, 2, [nwalkers, ndims]) * trues"
   ],
   "metadata": {
    "collapsed": false,
    "pycharm": {
     "name": "#%%\n"
    }
   }
  },
  {
   "cell_type": "code",
   "execution_count": 9,
   "outputs": [
    {
     "name": "stderr",
     "output_type": "stream",
     "text": [
      " In the molecular data file for molecule 1\n",
      "          there are collisional transition rates specified\n",
      "          for 2 collision partners.\n",
      "          However, in lines.inp for this line only 1\n",
      "          names of the collision partners are given.\n",
      "          We will therefore use not all possible partners.\n",
      "\n",
      " In the molecular data file for molecule 2\n",
      "          there are collisional transition rates specified\n",
      "          for 2 collision partners.\n",
      "          However, in lines.inp for this line only 1\n",
      "          names of the collision partners are given.\n",
      "          We will therefore use not all possible partners.\n",
      "\n"
     ]
    },
    {
     "name": "stdout",
     "output_type": "stream",
     "text": [
      "Reading fit2/fit_xynzorxk/radmc_gas/CO J=2-1_image.out\n",
      "Reading fit2/fit_xynzorxk/radmc_gas/HCN J=3-2_image.out\n",
      "Reading fit2/fit_xynzorxk/radmc_gas/HCO+ J=3-2_image.out\n",
      "Reading fit2/fit_xynzorxk/radmc_gas/N2H+ J=3-2_image.out\n"
     ]
    },
    {
     "name": "stderr",
     "output_type": "stream",
     "text": [
      "WARNING: PossiblySlowWarning: This function (<function BaseSpectralCube._apply_everywhere at 0x7f8eb335d5e0>) requires loading the entire cube into memory and may therefore be slow. [spectral_cube.utils]\n",
      "WARNING: PossiblySlowWarning: This function (<function BaseSpectralCube.to at 0x7f8eb33619d0>) requires loading the entire cube into memory and may therefore be slow. [spectral_cube.utils]\n",
      "WARNING: PossiblySlowWarning: This function (<function BaseSpectralCube.sum at 0x7f8eb335c670>) requires loading the entire cube into memory and may therefore be slow. [spectral_cube.utils]\n",
      "WARNING: PossiblySlowWarning: This function (<function BaseSpectralCube._apply_everywhere at 0x7f8eb335d5e0>) requires loading the entire cube into memory and may therefore be slow. [spectral_cube.utils]\n",
      "WARNING: PossiblySlowWarning: This function (<function BaseSpectralCube.to at 0x7f8eb33619d0>) requires loading the entire cube into memory and may therefore be slow. [spectral_cube.utils]\n",
      "WARNING: PossiblySlowWarning: This function (<function BaseSpectralCube.sum at 0x7f8eb335c670>) requires loading the entire cube into memory and may therefore be slow. [spectral_cube.utils]\n",
      "WARNING: PossiblySlowWarning: This function (<function BaseSpectralCube._apply_everywhere at 0x7f8eb335d5e0>) requires loading the entire cube into memory and may therefore be slow. [spectral_cube.utils]\n",
      "WARNING: PossiblySlowWarning: This function (<function BaseSpectralCube.to at 0x7f8eb33619d0>) requires loading the entire cube into memory and may therefore be slow. [spectral_cube.utils]\n",
      "WARNING: PossiblySlowWarning: This function (<function BaseSpectralCube.sum at 0x7f8eb335c670>) requires loading the entire cube into memory and may therefore be slow. [spectral_cube.utils]\n",
      "WARNING: PossiblySlowWarning: This function (<function BaseSpectralCube._apply_everywhere at 0x7f8eb335d5e0>) requires loading the entire cube into memory and may therefore be slow. [spectral_cube.utils]\n",
      " In the molecular data file for molecule 1\n",
      "          there are collisional transition rates specified\n",
      "          for 2 collision partners.\n",
      "          However, in lines.inp for this line only 1\n",
      "          names of the collision partners are given.\n",
      "          We will therefore use not all possible partners.\n",
      "\n",
      " In the molecular data file for molecule 2\n",
      "          there are collisional transition rates specified\n",
      "          for 2 collision partners.\n",
      "          However, in lines.inp for this line only 1\n",
      "          names of the collision partners are given.\n",
      "          We will therefore use not all possible partners.\n",
      "\n",
      "WARNING: PossiblySlowWarning: This function (<function BaseSpectralCube.to at 0x7f8eb33619d0>) requires loading the entire cube into memory and may therefore be slow. [spectral_cube.utils]\n",
      "WARNING: PossiblySlowWarning: This function (<function BaseSpectralCube.sum at 0x7f8eb335c670>) requires loading the entire cube into memory and may therefore be slow. [spectral_cube.utils]\n"
     ]
    },
    {
     "name": "stdout",
     "output_type": "stream",
     "text": [
      "Reading fit2/fit_y7aqzyb8/radmc_gas/CO J=2-1_image.out\n",
      "Reading fit2/fit_y7aqzyb8/radmc_gas/HCN J=3-2_image.out\n",
      "Reading fit2/fit_y7aqzyb8/radmc_gas/HCO+ J=3-2_image.out\n",
      "Reading fit2/fit_y7aqzyb8/radmc_gas/N2H+ J=3-2_image.out\n"
     ]
    },
    {
     "name": "stderr",
     "output_type": "stream",
     "text": [
      " In the molecular data file for molecule 1\n",
      "          there are collisional transition rates specified\n",
      "          for 2 collision partners.\n",
      "          However, in lines.inp for this line only 1\n",
      "          names of the collision partners are given.\n",
      "          We will therefore use not all possible partners.\n",
      "\n",
      " In the molecular data file for molecule 2\n",
      "          there are collisional transition rates specified\n",
      "          for 2 collision partners.\n",
      "          However, in lines.inp for this line only 1\n",
      "          names of the collision partners are given.\n",
      "          We will therefore use not all possible partners.\n",
      "\n",
      "WARNING: PossiblySlowWarning: This function (<function BaseSpectralCube._apply_everywhere at 0x7f8eb335d5e0>) requires loading the entire cube into memory and may therefore be slow. [spectral_cube.utils]\n",
      "WARNING: PossiblySlowWarning: This function (<function BaseSpectralCube.to at 0x7f8eb33619d0>) requires loading the entire cube into memory and may therefore be slow. [spectral_cube.utils]\n",
      "WARNING: PossiblySlowWarning: This function (<function BaseSpectralCube.sum at 0x7f8eb335c670>) requires loading the entire cube into memory and may therefore be slow. [spectral_cube.utils]\n",
      " In the molecular data file for molecule 1\n",
      "          there are collisional transition rates specified\n",
      "          for 2 collision partners.\n",
      "          However, in lines.inp for this line only 1\n",
      "          names of the collision partners are given.\n",
      "          We will therefore use not all possible partners.\n",
      "\n",
      " In the molecular data file for molecule 2\n",
      "          there are collisional transition rates specified\n",
      "          for 2 collision partners.\n",
      "          However, in lines.inp for this line only 1\n",
      "          names of the collision partners are given.\n",
      "          We will therefore use not all possible partners.\n",
      "\n",
      "WARNING: PossiblySlowWarning: This function (<function BaseSpectralCube._apply_everywhere at 0x7f8eb335d5e0>) requires loading the entire cube into memory and may therefore be slow. [spectral_cube.utils]\n",
      "WARNING: PossiblySlowWarning: This function (<function BaseSpectralCube.to at 0x7f8eb33619d0>) requires loading the entire cube into memory and may therefore be slow. [spectral_cube.utils]\n",
      "WARNING: PossiblySlowWarning: This function (<function BaseSpectralCube.sum at 0x7f8eb335c670>) requires loading the entire cube into memory and may therefore be slow. [spectral_cube.utils]\n",
      "WARNING: PossiblySlowWarning: This function (<function BaseSpectralCube._apply_everywhere at 0x7f8eb335d5e0>) requires loading the entire cube into memory and may therefore be slow. [spectral_cube.utils]\n",
      "WARNING: PossiblySlowWarning: This function (<function BaseSpectralCube.to at 0x7f8eb33619d0>) requires loading the entire cube into memory and may therefore be slow. [spectral_cube.utils]\n",
      "WARNING: PossiblySlowWarning: This function (<function BaseSpectralCube.sum at 0x7f8eb335c670>) requires loading the entire cube into memory and may therefore be slow. [spectral_cube.utils]\n",
      "WARNING: PossiblySlowWarning: This function (<function BaseSpectralCube._apply_everywhere at 0x7f8eb335d5e0>) requires loading the entire cube into memory and may therefore be slow. [spectral_cube.utils]\n",
      "WARNING: PossiblySlowWarning: This function (<function BaseSpectralCube.to at 0x7f8eb33619d0>) requires loading the entire cube into memory and may therefore be slow. [spectral_cube.utils]\n"
     ]
    },
    {
     "name": "stdout",
     "output_type": "stream",
     "text": [
      "Reading fit2/fit_4jpoykk3/radmc_gas/CO J=2-1_image.out\n"
     ]
    },
    {
     "name": "stderr",
     "output_type": "stream",
     "text": [
      "WARNING: PossiblySlowWarning: This function (<function BaseSpectralCube.sum at 0x7f8eb335c670>) requires loading the entire cube into memory and may therefore be slow. [spectral_cube.utils]\n"
     ]
    },
    {
     "name": "stdout",
     "output_type": "stream",
     "text": [
      "Reading fit2/fit_5yhdu0ur/radmc_gas/CO J=2-1_image.out\n",
      "Reading fit2/fit_4jpoykk3/radmc_gas/HCN J=3-2_image.out\n",
      "Reading fit2/fit_5yhdu0ur/radmc_gas/HCN J=3-2_image.out\n",
      "Reading fit2/fit_4jpoykk3/radmc_gas/HCO+ J=3-2_image.out\n",
      "Reading fit2/fit_5yhdu0ur/radmc_gas/HCO+ J=3-2_image.out\n",
      "Reading fit2/fit_4jpoykk3/radmc_gas/N2H+ J=3-2_image.out\n",
      "Reading fit2/fit_5yhdu0ur/radmc_gas/N2H+ J=3-2_image.out\n"
     ]
    },
    {
     "name": "stderr",
     "output_type": "stream",
     "text": [
      "WARNING: PossiblySlowWarning: This function (<function BaseSpectralCube._apply_everywhere at 0x7f8eb335d5e0>) requires loading the entire cube into memory and may therefore be slow. [spectral_cube.utils]\n",
      "WARNING: PossiblySlowWarning: This function (<function BaseSpectralCube.to at 0x7f8eb33619d0>) requires loading the entire cube into memory and may therefore be slow. [spectral_cube.utils]\n",
      "WARNING: PossiblySlowWarning: This function (<function BaseSpectralCube.sum at 0x7f8eb335c670>) requires loading the entire cube into memory and may therefore be slow. [spectral_cube.utils]\n",
      "WARNING: PossiblySlowWarning: This function (<function BaseSpectralCube._apply_everywhere at 0x7f8eb335d5e0>) requires loading the entire cube into memory and may therefore be slow. [spectral_cube.utils]\n",
      "WARNING: PossiblySlowWarning: This function (<function BaseSpectralCube._apply_everywhere at 0x7f8eb335d5e0>) requires loading the entire cube into memory and may therefore be slow. [spectral_cube.utils]\n",
      "WARNING: PossiblySlowWarning: This function (<function BaseSpectralCube.to at 0x7f8eb33619d0>) requires loading the entire cube into memory and may therefore be slow. [spectral_cube.utils]\n",
      "WARNING: PossiblySlowWarning: This function (<function BaseSpectralCube.sum at 0x7f8eb335c670>) requires loading the entire cube into memory and may therefore be slow. [spectral_cube.utils]\n",
      "WARNING: PossiblySlowWarning: This function (<function BaseSpectralCube.to at 0x7f8eb33619d0>) requires loading the entire cube into memory and may therefore be slow. [spectral_cube.utils]\n",
      "WARNING: PossiblySlowWarning: This function (<function BaseSpectralCube.sum at 0x7f8eb335c670>) requires loading the entire cube into memory and may therefore be slow. [spectral_cube.utils]\n",
      "WARNING: PossiblySlowWarning: This function (<function BaseSpectralCube._apply_everywhere at 0x7f8eb335d5e0>) requires loading the entire cube into memory and may therefore be slow. [spectral_cube.utils]\n",
      "WARNING: PossiblySlowWarning: This function (<function BaseSpectralCube._apply_everywhere at 0x7f8eb335d5e0>) requires loading the entire cube into memory and may therefore be slow. [spectral_cube.utils]\n",
      "WARNING: PossiblySlowWarning: This function (<function BaseSpectralCube.to at 0x7f8eb33619d0>) requires loading the entire cube into memory and may therefore be slow. [spectral_cube.utils]\n",
      "WARNINGWARNING: PossiblySlowWarning: This function (<function BaseSpectralCube.sum at 0x7f8eb335c670>) requires loading the entire cube into memory and may therefore be slow. [spectral_cube.utils]: PossiblySlowWarning: This function (<function BaseSpectralCube.to at 0x7f8eb33619d0>) requires loading the entire cube into memory and may therefore be slow. [spectral_cube.utils]\n",
      "\n",
      "WARNING: PossiblySlowWarning: This function (<function BaseSpectralCube.sum at 0x7f8eb335c670>) requires loading the entire cube into memory and may therefore be slow. [spectral_cube.utils]\n",
      "WARNING: PossiblySlowWarning: This function (<function BaseSpectralCube._apply_everywhere at 0x7f8eb335d5e0>) requires loading the entire cube into memory and may therefore be slow. [spectral_cube.utils]\n",
      "WARNING: PossiblySlowWarning: This function (<function BaseSpectralCube._apply_everywhere at 0x7f8eb335d5e0>) requires loading the entire cube into memory and may therefore be slow. [spectral_cube.utils]\n",
      "WARNING: PossiblySlowWarning: This function (<function BaseSpectralCube.to at 0x7f8eb33619d0>) requires loading the entire cube into memory and may therefore be slow. [spectral_cube.utils]\n",
      "WARNING: PossiblySlowWarning: This function (<function BaseSpectralCube.to at 0x7f8eb33619d0>) requires loading the entire cube into memory and may therefore be slow. [spectral_cube.utils]WARNING: PossiblySlowWarning: This function (<function BaseSpectralCube.sum at 0x7f8eb335c670>) requires loading the entire cube into memory and may therefore be slow. [spectral_cube.utils]\n",
      "\n",
      "WARNING: PossiblySlowWarning: This function (<function BaseSpectralCube.sum at 0x7f8eb335c670>) requires loading the entire cube into memory and may therefore be slow. [spectral_cube.utils]\n",
      "WARNING: PossiblySlowWarning: This function (<function BaseSpectralCube._apply_everywhere at 0x7f8eb335d5e0>) requires loading the entire cube into memory and may therefore be slow. [spectral_cube.utils]\n",
      "WARNING: PossiblySlowWarning: This function (<function BaseSpectralCube.to at 0x7f8eb33619d0>) requires loading the entire cube into memory and may therefore be slow. [spectral_cube.utils]\n",
      "WARNING: PossiblySlowWarning: This function (<function BaseSpectralCube.sum at 0x7f8eb335c670>) requires loading the entire cube into memory and may therefore be slow. [spectral_cube.utils]\n",
      " In the molecular data file for molecule 1\n",
      "          there are collisional transition rates specified\n",
      "          for 2 collision partners.\n",
      "          However, in lines.inp for this line only 1\n",
      "          names of the collision partners are given.\n",
      "          We will therefore use not all possible partners.\n",
      "\n",
      " In the molecular data file for molecule 2\n",
      "          there are collisional transition rates specified\n",
      "          for 2 collision partners.\n",
      "          However, in lines.inp for this line only 1\n",
      "          names of the collision partners are given.\n",
      "          We will therefore use not all possible partners.\n",
      "\n"
     ]
    },
    {
     "name": "stdout",
     "output_type": "stream",
     "text": [
      "Reading fit2/fit_c2y5emo1/radmc_gas/CO J=2-1_image.out\n",
      "Reading fit2/fit_c2y5emo1/radmc_gas/HCN J=3-2_image.out\n",
      "Reading fit2/fit_c2y5emo1/radmc_gas/HCO+ J=3-2_image.out\n",
      "Reading fit2/fit_c2y5emo1/radmc_gas/N2H+ J=3-2_image.out\n"
     ]
    },
    {
     "name": "stderr",
     "output_type": "stream",
     "text": [
      "WARNING: PossiblySlowWarning: This function (<function BaseSpectralCube._apply_everywhere at 0x7f8eb335d5e0>) requires loading the entire cube into memory and may therefore be slow. [spectral_cube.utils]\n",
      "WARNING: PossiblySlowWarning: This function (<function BaseSpectralCube.to at 0x7f8eb33619d0>) requires loading the entire cube into memory and may therefore be slow. [spectral_cube.utils]\n",
      "WARNING: PossiblySlowWarning: This function (<function BaseSpectralCube.sum at 0x7f8eb335c670>) requires loading the entire cube into memory and may therefore be slow. [spectral_cube.utils]\n",
      "WARNING: PossiblySlowWarning: This function (<function BaseSpectralCube._apply_everywhere at 0x7f8eb335d5e0>) requires loading the entire cube into memory and may therefore be slow. [spectral_cube.utils]\n",
      "WARNING: PossiblySlowWarning: This function (<function BaseSpectralCube.to at 0x7f8eb33619d0>) requires loading the entire cube into memory and may therefore be slow. [spectral_cube.utils]\n",
      "WARNING: PossiblySlowWarning: This function (<function BaseSpectralCube.sum at 0x7f8eb335c670>) requires loading the entire cube into memory and may therefore be slow. [spectral_cube.utils]\n",
      "WARNING: PossiblySlowWarning: This function (<function BaseSpectralCube._apply_everywhere at 0x7f8eb335d5e0>) requires loading the entire cube into memory and may therefore be slow. [spectral_cube.utils]\n",
      "WARNING: PossiblySlowWarning: This function (<function BaseSpectralCube.to at 0x7f8eb33619d0>) requires loading the entire cube into memory and may therefore be slow. [spectral_cube.utils]\n",
      "WARNING: PossiblySlowWarning: This function (<function BaseSpectralCube.sum at 0x7f8eb335c670>) requires loading the entire cube into memory and may therefore be slow. [spectral_cube.utils]\n",
      "WARNING: PossiblySlowWarning: This function (<function BaseSpectralCube._apply_everywhere at 0x7f8eb335d5e0>) requires loading the entire cube into memory and may therefore be slow. [spectral_cube.utils]\n",
      "WARNING: PossiblySlowWarning: This function (<function BaseSpectralCube.to at 0x7f8eb33619d0>) requires loading the entire cube into memory and may therefore be slow. [spectral_cube.utils]\n",
      "WARNING: PossiblySlowWarning: This function (<function BaseSpectralCube.sum at 0x7f8eb335c670>) requires loading the entire cube into memory and may therefore be slow. [spectral_cube.utils]\n",
      " In the molecular data file for molecule 1\n",
      "          there are collisional transition rates specified\n",
      "          for 2 collision partners.\n",
      "          However, in lines.inp for this line only 1\n",
      "          names of the collision partners are given.\n",
      "          We will therefore use not all possible partners.\n",
      "\n",
      " In the molecular data file for molecule 2\n",
      "          there are collisional transition rates specified\n",
      "          for 2 collision partners.\n",
      "          However, in lines.inp for this line only 1\n",
      "          names of the collision partners are given.\n",
      "          We will therefore use not all possible partners.\n",
      "\n"
     ]
    },
    {
     "name": "stdout",
     "output_type": "stream",
     "text": [
      "Reading fit2/fit_mmwh9e7o/radmc_gas/CO J=2-1_image.out\n",
      "Reading fit2/fit_mmwh9e7o/radmc_gas/HCN J=3-2_image.out\n",
      "Reading fit2/fit_mmwh9e7o/radmc_gas/HCO+ J=3-2_image.out\n",
      "Reading fit2/fit_mmwh9e7o/radmc_gas/N2H+ J=3-2_image.out\n"
     ]
    },
    {
     "name": "stderr",
     "output_type": "stream",
     "text": [
      "WARNING: PossiblySlowWarning: This function (<function BaseSpectralCube._apply_everywhere at 0x7f8eb335d5e0>) requires loading the entire cube into memory and may therefore be slow. [spectral_cube.utils]\n",
      "WARNING: PossiblySlowWarning: This function (<function BaseSpectralCube.to at 0x7f8eb33619d0>) requires loading the entire cube into memory and may therefore be slow. [spectral_cube.utils]\n",
      "WARNING: PossiblySlowWarning: This function (<function BaseSpectralCube.sum at 0x7f8eb335c670>) requires loading the entire cube into memory and may therefore be slow. [spectral_cube.utils]\n",
      "WARNING: PossiblySlowWarning: This function (<function BaseSpectralCube._apply_everywhere at 0x7f8eb335d5e0>) requires loading the entire cube into memory and may therefore be slow. [spectral_cube.utils]\n",
      "WARNING: PossiblySlowWarning: This function (<function BaseSpectralCube.to at 0x7f8eb33619d0>) requires loading the entire cube into memory and may therefore be slow. [spectral_cube.utils]\n",
      "WARNING: PossiblySlowWarning: This function (<function BaseSpectralCube.sum at 0x7f8eb335c670>) requires loading the entire cube into memory and may therefore be slow. [spectral_cube.utils]\n",
      "WARNING: PossiblySlowWarning: This function (<function BaseSpectralCube._apply_everywhere at 0x7f8eb335d5e0>) requires loading the entire cube into memory and may therefore be slow. [spectral_cube.utils]\n",
      "WARNING: PossiblySlowWarning: This function (<function BaseSpectralCube.to at 0x7f8eb33619d0>) requires loading the entire cube into memory and may therefore be slow. [spectral_cube.utils]\n",
      "WARNING: PossiblySlowWarning: This function (<function BaseSpectralCube.sum at 0x7f8eb335c670>) requires loading the entire cube into memory and may therefore be slow. [spectral_cube.utils]\n",
      "WARNING: PossiblySlowWarning: This function (<function BaseSpectralCube._apply_everywhere at 0x7f8eb335d5e0>) requires loading the entire cube into memory and may therefore be slow. [spectral_cube.utils]\n",
      "WARNING: PossiblySlowWarning: This function (<function BaseSpectralCube.to at 0x7f8eb33619d0>) requires loading the entire cube into memory and may therefore be slow. [spectral_cube.utils]\n",
      "WARNING: PossiblySlowWarning: This function (<function BaseSpectralCube.sum at 0x7f8eb335c670>) requires loading the entire cube into memory and may therefore be slow. [spectral_cube.utils]\n",
      " In the molecular data file for molecule 1\n",
      "          there are collisional transition rates specified\n",
      "          for 2 collision partners.\n",
      "          However, in lines.inp for this line only 1\n",
      "          names of the collision partners are given.\n",
      "          We will therefore use not all possible partners.\n",
      "\n",
      " In the molecular data file for molecule 2\n",
      "          there are collisional transition rates specified\n",
      "          for 2 collision partners.\n",
      "          However, in lines.inp for this line only 1\n",
      "          names of the collision partners are given.\n",
      "          We will therefore use not all possible partners.\n",
      "\n"
     ]
    },
    {
     "name": "stdout",
     "output_type": "stream",
     "text": [
      "Reading fit2/fit_915hvr7g/radmc_gas/CO J=2-1_image.out\n",
      "Reading fit2/fit_915hvr7g/radmc_gas/HCN J=3-2_image.out\n",
      "Reading fit2/fit_915hvr7g/radmc_gas/HCO+ J=3-2_image.out\n",
      "Reading fit2/fit_915hvr7g/radmc_gas/N2H+ J=3-2_image.out\n"
     ]
    },
    {
     "name": "stderr",
     "output_type": "stream",
     "text": [
      "WARNING: PossiblySlowWarning: This function (<function BaseSpectralCube._apply_everywhere at 0x7f8eb335d5e0>) requires loading the entire cube into memory and may therefore be slow. [spectral_cube.utils]\n",
      "WARNING: PossiblySlowWarning: This function (<function BaseSpectralCube.to at 0x7f8eb33619d0>) requires loading the entire cube into memory and may therefore be slow. [spectral_cube.utils]\n",
      "WARNING: PossiblySlowWarning: This function (<function BaseSpectralCube.sum at 0x7f8eb335c670>) requires loading the entire cube into memory and may therefore be slow. [spectral_cube.utils]\n",
      "WARNING: PossiblySlowWarning: This function (<function BaseSpectralCube._apply_everywhere at 0x7f8eb335d5e0>) requires loading the entire cube into memory and may therefore be slow. [spectral_cube.utils]\n",
      "WARNING: PossiblySlowWarning: This function (<function BaseSpectralCube.to at 0x7f8eb33619d0>) requires loading the entire cube into memory and may therefore be slow. [spectral_cube.utils]\n",
      "WARNING: PossiblySlowWarning: This function (<function BaseSpectralCube.sum at 0x7f8eb335c670>) requires loading the entire cube into memory and may therefore be slow. [spectral_cube.utils]\n",
      "WARNING: PossiblySlowWarning: This function (<function BaseSpectralCube._apply_everywhere at 0x7f8eb335d5e0>) requires loading the entire cube into memory and may therefore be slow. [spectral_cube.utils]\n",
      "WARNING: PossiblySlowWarning: This function (<function BaseSpectralCube.to at 0x7f8eb33619d0>) requires loading the entire cube into memory and may therefore be slow. [spectral_cube.utils]\n",
      "WARNING: PossiblySlowWarning: This function (<function BaseSpectralCube.sum at 0x7f8eb335c670>) requires loading the entire cube into memory and may therefore be slow. [spectral_cube.utils]\n",
      "WARNING: PossiblySlowWarning: This function (<function BaseSpectralCube._apply_everywhere at 0x7f8eb335d5e0>) requires loading the entire cube into memory and may therefore be slow. [spectral_cube.utils]\n",
      "WARNING: PossiblySlowWarning: This function (<function BaseSpectralCube.to at 0x7f8eb33619d0>) requires loading the entire cube into memory and may therefore be slow. [spectral_cube.utils]\n",
      "WARNING: PossiblySlowWarning: This function (<function BaseSpectralCube.sum at 0x7f8eb335c670>) requires loading the entire cube into memory and may therefore be slow. [spectral_cube.utils]\n",
      " In the molecular data file for molecule 1\n",
      "          there are collisional transition rates specified\n",
      "          for 2 collision partners.\n",
      "          However, in lines.inp for this line only 1\n",
      "          names of the collision partners are given.\n",
      "          We will therefore use not all possible partners.\n",
      "\n",
      " In the molecular data file for molecule 2\n",
      "          there are collisional transition rates specified\n",
      "          for 2 collision partners.\n",
      "          However, in lines.inp for this line only 1\n",
      "          names of the collision partners are given.\n",
      "          We will therefore use not all possible partners.\n",
      "\n"
     ]
    },
    {
     "name": "stdout",
     "output_type": "stream",
     "text": [
      "Reading fit2/fit_fj_ym7_f/radmc_gas/CO J=2-1_image.out\n",
      "Reading fit2/fit_fj_ym7_f/radmc_gas/HCN J=3-2_image.out\n",
      "Reading fit2/fit_fj_ym7_f/radmc_gas/HCO+ J=3-2_image.out\n",
      "Reading fit2/fit_fj_ym7_f/radmc_gas/N2H+ J=3-2_image.out\n"
     ]
    },
    {
     "name": "stderr",
     "output_type": "stream",
     "text": [
      "WARNING: PossiblySlowWarning: This function (<function BaseSpectralCube._apply_everywhere at 0x7f8eb335d5e0>) requires loading the entire cube into memory and may therefore be slow. [spectral_cube.utils]\n",
      "WARNING: PossiblySlowWarning: This function (<function BaseSpectralCube.to at 0x7f8eb33619d0>) requires loading the entire cube into memory and may therefore be slow. [spectral_cube.utils]\n",
      "WARNING: PossiblySlowWarning: This function (<function BaseSpectralCube.sum at 0x7f8eb335c670>) requires loading the entire cube into memory and may therefore be slow. [spectral_cube.utils]\n",
      "WARNING: PossiblySlowWarning: This function (<function BaseSpectralCube._apply_everywhere at 0x7f8eb335d5e0>) requires loading the entire cube into memory and may therefore be slow. [spectral_cube.utils]\n",
      "WARNING: PossiblySlowWarning: This function (<function BaseSpectralCube.to at 0x7f8eb33619d0>) requires loading the entire cube into memory and may therefore be slow. [spectral_cube.utils]\n",
      "WARNING: PossiblySlowWarning: This function (<function BaseSpectralCube.sum at 0x7f8eb335c670>) requires loading the entire cube into memory and may therefore be slow. [spectral_cube.utils]\n",
      "WARNING: PossiblySlowWarning: This function (<function BaseSpectralCube._apply_everywhere at 0x7f8eb335d5e0>) requires loading the entire cube into memory and may therefore be slow. [spectral_cube.utils]\n",
      "WARNING: PossiblySlowWarning: This function (<function BaseSpectralCube.to at 0x7f8eb33619d0>) requires loading the entire cube into memory and may therefore be slow. [spectral_cube.utils]\n",
      "WARNING: PossiblySlowWarning: This function (<function BaseSpectralCube.sum at 0x7f8eb335c670>) requires loading the entire cube into memory and may therefore be slow. [spectral_cube.utils]\n",
      "WARNING: PossiblySlowWarning: This function (<function BaseSpectralCube._apply_everywhere at 0x7f8eb335d5e0>) requires loading the entire cube into memory and may therefore be slow. [spectral_cube.utils]\n",
      "WARNING: PossiblySlowWarning: This function (<function BaseSpectralCube.to at 0x7f8eb33619d0>) requires loading the entire cube into memory and may therefore be slow. [spectral_cube.utils]\n",
      "WARNING: PossiblySlowWarning: This function (<function BaseSpectralCube.sum at 0x7f8eb335c670>) requires loading the entire cube into memory and may therefore be slow. [spectral_cube.utils]\n",
      "  0%|          | 0/4 [00:00<?, ?it/s] In the molecular data file for molecule 1\n",
      "          there are collisional transition rates specified\n",
      "          for 2 collision partners.\n",
      "          However, in lines.inp for this line only 1\n",
      "          names of the collision partners are given.\n",
      "          We will therefore use not all possible partners.\n",
      "\n",
      " In the molecular data file for molecule 2\n",
      "          there are collisional transition rates specified\n",
      "          for 2 collision partners.\n",
      "          However, in lines.inp for this line only 1\n",
      "          names of the collision partners are given.\n",
      "          We will therefore use not all possible partners.\n",
      "\n"
     ]
    },
    {
     "name": "stdout",
     "output_type": "stream",
     "text": [
      "Reading fit2/fit_yyixp944/radmc_gas/CO J=2-1_image.out\n",
      "Reading fit2/fit_yyixp944/radmc_gas/HCN J=3-2_image.out\n"
     ]
    },
    {
     "name": "stderr",
     "output_type": "stream",
     "text": [
      " In the molecular data file for molecule 1\n",
      "          there are collisional transition rates specified\n",
      "          for 2 collision partners.\n",
      "          However, in lines.inp for this line only 1\n",
      "          names of the collision partners are given.\n",
      "          We will therefore use not all possible partners.\n",
      "\n",
      " In the molecular data file for molecule 2\n",
      "          there are collisional transition rates specified\n",
      "          for 2 collision partners.\n",
      "          However, in lines.inp for this line only 1\n",
      "          names of the collision partners are given.\n",
      "          We will therefore use not all possible partners.\n",
      "\n",
      " In the molecular data file for molecule 1\n",
      "          there are collisional transition rates specified\n",
      "          for 2 collision partners.\n",
      "          However, in lines.inp for this line only 1\n",
      "          names of the collision partners are given.\n",
      "          We will therefore use not all possible partners.\n",
      "\n",
      " In the molecular data file for molecule 2\n",
      "          there are collisional transition rates specified\n",
      "          for 2 collision partners.\n",
      "          However, in lines.inp for this line only 1\n",
      "          names of the collision partners are given.\n",
      "          We will therefore use not all possible partners.\n",
      "\n"
     ]
    },
    {
     "name": "stdout",
     "output_type": "stream",
     "text": [
      "Reading fit2/fit_yyixp944/radmc_gas/HCO+ J=3-2_image.out\n",
      "Reading fit2/fit_yyixp944/radmc_gas/N2H+ J=3-2_image.out\n"
     ]
    },
    {
     "name": "stderr",
     "output_type": "stream",
     "text": [
      "WARNING: PossiblySlowWarning: This function (<function BaseSpectralCube._apply_everywhere at 0x7f8eb335d5e0>) requires loading the entire cube into memory and may therefore be slow. [spectral_cube.utils]\n",
      "WARNING: PossiblySlowWarning: This function (<function BaseSpectralCube.to at 0x7f8eb33619d0>) requires loading the entire cube into memory and may therefore be slow. [spectral_cube.utils]\n"
     ]
    },
    {
     "name": "stdout",
     "output_type": "stream",
     "text": [
      "Reading fit2/fit_6a4hoh3e/radmc_gas/CO J=2-1_image.out\n"
     ]
    },
    {
     "name": "stderr",
     "output_type": "stream",
     "text": [
      "WARNING: PossiblySlowWarning: This function (<function BaseSpectralCube.sum at 0x7f8eb335c670>) requires loading the entire cube into memory and may therefore be slow. [spectral_cube.utils]\n"
     ]
    },
    {
     "name": "stdout",
     "output_type": "stream",
     "text": [
      "Reading fit2/fit_cjj2jt9e/radmc_gas/CO J=2-1_image.out\n"
     ]
    },
    {
     "name": "stderr",
     "output_type": "stream",
     "text": [
      "WARNING: PossiblySlowWarning: This function (<function BaseSpectralCube._apply_everywhere at 0x7f8eb335d5e0>) requires loading the entire cube into memory and may therefore be slow. [spectral_cube.utils]\n",
      "WARNING: PossiblySlowWarning: This function (<function BaseSpectralCube.to at 0x7f8eb33619d0>) requires loading the entire cube into memory and may therefore be slow. [spectral_cube.utils]\n",
      "WARNING: PossiblySlowWarning: This function (<function BaseSpectralCube.sum at 0x7f8eb335c670>) requires loading the entire cube into memory and may therefore be slow. [spectral_cube.utils]\n"
     ]
    },
    {
     "name": "stdout",
     "output_type": "stream",
     "text": [
      "Reading fit2/fit_6a4hoh3e/radmc_gas/HCN J=3-2_image.out\n",
      "Reading fit2/fit_cjj2jt9e/radmc_gas/HCN J=3-2_image.out\n"
     ]
    },
    {
     "name": "stderr",
     "output_type": "stream",
     "text": [
      "WARNING: PossiblySlowWarning: This function (<function BaseSpectralCube._apply_everywhere at 0x7f8eb335d5e0>) requires loading the entire cube into memory and may therefore be slow. [spectral_cube.utils]\n",
      "WARNING: PossiblySlowWarning: This function (<function BaseSpectralCube.to at 0x7f8eb33619d0>) requires loading the entire cube into memory and may therefore be slow. [spectral_cube.utils]\n",
      "WARNING: PossiblySlowWarning: This function (<function BaseSpectralCube.sum at 0x7f8eb335c670>) requires loading the entire cube into memory and may therefore be slow. [spectral_cube.utils]\n",
      "WARNING: PossiblySlowWarning: This function (<function BaseSpectralCube._apply_everywhere at 0x7f8eb335d5e0>) requires loading the entire cube into memory and may therefore be slow. [spectral_cube.utils]\n"
     ]
    },
    {
     "name": "stdout",
     "output_type": "stream",
     "text": [
      "Reading fit2/fit_6a4hoh3e/radmc_gas/HCO+ J=3-2_image.out\n",
      "Reading fit2/fit_cjj2jt9e/radmc_gas/HCO+ J=3-2_image.out\n"
     ]
    },
    {
     "name": "stderr",
     "output_type": "stream",
     "text": [
      "WARNING: PossiblySlowWarning: This function (<function BaseSpectralCube.to at 0x7f8eb33619d0>) requires loading the entire cube into memory and may therefore be slow. [spectral_cube.utils]\n",
      "WARNING: PossiblySlowWarning: This function (<function BaseSpectralCube.sum at 0x7f8eb335c670>) requires loading the entire cube into memory and may therefore be slow. [spectral_cube.utils]\n"
     ]
    },
    {
     "name": "stdout",
     "output_type": "stream",
     "text": [
      "Reading fit2/fit_6a4hoh3e/radmc_gas/N2H+ J=3-2_image.out\n",
      "Reading fit2/fit_cjj2jt9e/radmc_gas/N2H+ J=3-2_image.out\n"
     ]
    },
    {
     "name": "stderr",
     "output_type": "stream",
     "text": [
      "WARNING: PossiblySlowWarning: This function (<function BaseSpectralCube._apply_everywhere at 0x7f8eb335d5e0>) requires loading the entire cube into memory and may therefore be slow. [spectral_cube.utils]\n",
      "WARNING: PossiblySlowWarning: This function (<function BaseSpectralCube._apply_everywhere at 0x7f8eb335d5e0>) requires loading the entire cube into memory and may therefore be slow. [spectral_cube.utils]\n",
      "WARNING: PossiblySlowWarning: This function (<function BaseSpectralCube.to at 0x7f8eb33619d0>) requires loading the entire cube into memory and may therefore be slow. [spectral_cube.utils]\n",
      "WARNING: PossiblySlowWarning: This function (<function BaseSpectralCube.to at 0x7f8eb33619d0>) requires loading the entire cube into memory and may therefore be slow. [spectral_cube.utils]\n",
      "WARNING: PossiblySlowWarning: This function (<function BaseSpectralCube.sum at 0x7f8eb335c670>) requires loading the entire cube into memory and may therefore be slow. [spectral_cube.utils]\n",
      "WARNING: PossiblySlowWarning: This function (<function BaseSpectralCube.sum at 0x7f8eb335c670>) requires loading the entire cube into memory and may therefore be slow. [spectral_cube.utils]\n",
      "WARNING: PossiblySlowWarning: This function (<function BaseSpectralCube._apply_everywhere at 0x7f8eb335d5e0>) requires loading the entire cube into memory and may therefore be slow. [spectral_cube.utils]\n",
      "WARNING: PossiblySlowWarning: This function (<function BaseSpectralCube._apply_everywhere at 0x7f8eb335d5e0>) requires loading the entire cube into memory and may therefore be slow. [spectral_cube.utils]\n",
      "WARNING: PossiblySlowWarning: This function (<function BaseSpectralCube.to at 0x7f8eb33619d0>) requires loading the entire cube into memory and may therefore be slow. [spectral_cube.utils]\n",
      "WARNING: PossiblySlowWarning: This function (<function BaseSpectralCube.to at 0x7f8eb33619d0>) requires loading the entire cube into memory and may therefore be slow. [spectral_cube.utils]\n",
      "WARNING: PossiblySlowWarning: This function (<function BaseSpectralCube.sum at 0x7f8eb335c670>) requires loading the entire cube into memory and may therefore be slow. [spectral_cube.utils]\n",
      "WARNING: PossiblySlowWarning: This function (<function BaseSpectralCube.sum at 0x7f8eb335c670>) requires loading the entire cube into memory and may therefore be slow. [spectral_cube.utils]\n",
      "WARNING: PossiblySlowWarning: This function (<function BaseSpectralCube._apply_everywhere at 0x7f8eb335d5e0>) requires loading the entire cube into memory and may therefore be slow. [spectral_cube.utils]\n",
      "WARNING: PossiblySlowWarning: This function (<function BaseSpectralCube._apply_everywhere at 0x7f8eb335d5e0>) requires loading the entire cube into memory and may therefore be slow. [spectral_cube.utils]\n",
      "WARNINGWARNING: PossiblySlowWarning: This function (<function BaseSpectralCube.to at 0x7f8eb33619d0>) requires loading the entire cube into memory and may therefore be slow. [spectral_cube.utils]\n",
      ": PossiblySlowWarning: This function (<function BaseSpectralCube.to at 0x7f8eb33619d0>) requires loading the entire cube into memory and may therefore be slow. [spectral_cube.utils]\n",
      "WARNING: PossiblySlowWarning: This function (<function BaseSpectralCube.sum at 0x7f8eb335c670>) requires loading the entire cube into memory and may therefore be slow. [spectral_cube.utils]\n",
      "WARNING: PossiblySlowWarning: This function (<function BaseSpectralCube.sum at 0x7f8eb335c670>) requires loading the entire cube into memory and may therefore be slow. [spectral_cube.utils]\n",
      "WARNING: PossiblySlowWarning: This function (<function BaseSpectralCube._apply_everywhere at 0x7f8eb335d5e0>) requires loading the entire cube into memory and may therefore be slow. [spectral_cube.utils]\n",
      "WARNING: PossiblySlowWarning: This function (<function BaseSpectralCube._apply_everywhere at 0x7f8eb335d5e0>) requires loading the entire cube into memory and may therefore be slow. [spectral_cube.utils]\n",
      "WARNING: PossiblySlowWarning: This function (<function BaseSpectralCube.to at 0x7f8eb33619d0>) requires loading the entire cube into memory and may therefore be slow. [spectral_cube.utils]\n",
      "WARNING: PossiblySlowWarning: This function (<function BaseSpectralCube.to at 0x7f8eb33619d0>) requires loading the entire cube into memory and may therefore be slow. [spectral_cube.utils]\n",
      "WARNING: PossiblySlowWarning: This function (<function BaseSpectralCube.sum at 0x7f8eb335c670>) requires loading the entire cube into memory and may therefore be slow. [spectral_cube.utils]\n",
      "WARNING: PossiblySlowWarning: This function (<function BaseSpectralCube.sum at 0x7f8eb335c670>) requires loading the entire cube into memory and may therefore be slow. [spectral_cube.utils]\n",
      " In the molecular data file for molecule 1\n",
      "          there are collisional transition rates specified\n",
      "          for 2 collision partners.\n",
      "          However, in lines.inp for this line only 1\n",
      "          names of the collision partners are given.\n",
      "          We will therefore use not all possible partners.\n",
      "\n",
      " In the molecular data file for molecule 2\n",
      "          there are collisional transition rates specified\n",
      "          for 2 collision partners.\n",
      "          However, in lines.inp for this line only 1\n",
      "          names of the collision partners are given.\n",
      "          We will therefore use not all possible partners.\n",
      "\n"
     ]
    },
    {
     "name": "stdout",
     "output_type": "stream",
     "text": [
      "Reading fit2/fit_f27lj41j/radmc_gas/CO J=2-1_image.out\n",
      "Reading fit2/fit_f27lj41j/radmc_gas/HCN J=3-2_image.out\n",
      "Reading fit2/fit_f27lj41j/radmc_gas/HCO+ J=3-2_image.out\n",
      "Reading fit2/fit_f27lj41j/radmc_gas/N2H+ J=3-2_image.out\n"
     ]
    },
    {
     "name": "stderr",
     "output_type": "stream",
     "text": [
      "WARNING: PossiblySlowWarning: This function (<function BaseSpectralCube._apply_everywhere at 0x7f8eb335d5e0>) requires loading the entire cube into memory and may therefore be slow. [spectral_cube.utils]\n",
      "WARNING: PossiblySlowWarning: This function (<function BaseSpectralCube.to at 0x7f8eb33619d0>) requires loading the entire cube into memory and may therefore be slow. [spectral_cube.utils]\n",
      "WARNING: PossiblySlowWarning: This function (<function BaseSpectralCube.sum at 0x7f8eb335c670>) requires loading the entire cube into memory and may therefore be slow. [spectral_cube.utils]\n",
      "WARNING: PossiblySlowWarning: This function (<function BaseSpectralCube._apply_everywhere at 0x7f8eb335d5e0>) requires loading the entire cube into memory and may therefore be slow. [spectral_cube.utils]\n",
      "WARNING: PossiblySlowWarning: This function (<function BaseSpectralCube.to at 0x7f8eb33619d0>) requires loading the entire cube into memory and may therefore be slow. [spectral_cube.utils]\n",
      "WARNING: PossiblySlowWarning: This function (<function BaseSpectralCube.sum at 0x7f8eb335c670>) requires loading the entire cube into memory and may therefore be slow. [spectral_cube.utils]\n",
      "WARNING: PossiblySlowWarning: This function (<function BaseSpectralCube._apply_everywhere at 0x7f8eb335d5e0>) requires loading the entire cube into memory and may therefore be slow. [spectral_cube.utils]\n",
      "WARNING: PossiblySlowWarning: This function (<function BaseSpectralCube.to at 0x7f8eb33619d0>) requires loading the entire cube into memory and may therefore be slow. [spectral_cube.utils]\n",
      "WARNING: PossiblySlowWarning: This function (<function BaseSpectralCube.sum at 0x7f8eb335c670>) requires loading the entire cube into memory and may therefore be slow. [spectral_cube.utils]\n",
      "WARNING: PossiblySlowWarning: This function (<function BaseSpectralCube._apply_everywhere at 0x7f8eb335d5e0>) requires loading the entire cube into memory and may therefore be slow. [spectral_cube.utils]\n",
      "WARNING: PossiblySlowWarning: This function (<function BaseSpectralCube.to at 0x7f8eb33619d0>) requires loading the entire cube into memory and may therefore be slow. [spectral_cube.utils]\n",
      "WARNING: PossiblySlowWarning: This function (<function BaseSpectralCube.sum at 0x7f8eb335c670>) requires loading the entire cube into memory and may therefore be slow. [spectral_cube.utils]\n",
      " In the molecular data file for molecule 1\n",
      "          there are collisional transition rates specified\n",
      "          for 2 collision partners.\n",
      "          However, in lines.inp for this line only 1\n",
      "          names of the collision partners are given.\n",
      "          We will therefore use not all possible partners.\n",
      "\n",
      " In the molecular data file for molecule 2\n",
      "          there are collisional transition rates specified\n",
      "          for 2 collision partners.\n",
      "          However, in lines.inp for this line only 1\n",
      "          names of the collision partners are given.\n",
      "          We will therefore use not all possible partners.\n",
      "\n",
      " In the molecular data file for molecule 1\n",
      "          there are collisional transition rates specified\n",
      "          for 2 collision partners.\n",
      "          However, in lines.inp for this line only 1\n",
      "          names of the collision partners are given.\n",
      "          We will therefore use not all possible partners.\n",
      "\n",
      " In the molecular data file for molecule 2\n",
      "          there are collisional transition rates specified\n",
      "          for 2 collision partners.\n",
      "          However, in lines.inp for this line only 1\n",
      "          names of the collision partners are given.\n",
      "          We will therefore use not all possible partners.\n",
      "\n"
     ]
    },
    {
     "name": "stdout",
     "output_type": "stream",
     "text": [
      "Reading fit2/fit_rtkyp_p5/radmc_gas/CO J=2-1_image.out\n",
      "Reading fit2/fit_rtkyp_p5/radmc_gas/HCN J=3-2_image.out\n",
      "Reading fit2/fit_qt__5jqm/radmc_gas/CO J=2-1_image.out\n",
      "Reading fit2/fit_rtkyp_p5/radmc_gas/HCO+ J=3-2_image.out\n",
      "Reading fit2/fit_qt__5jqm/radmc_gas/HCN J=3-2_image.out\n",
      "Reading fit2/fit_rtkyp_p5/radmc_gas/N2H+ J=3-2_image.out\n",
      "Reading fit2/fit_qt__5jqm/radmc_gas/HCO+ J=3-2_image.out\n"
     ]
    },
    {
     "name": "stderr",
     "output_type": "stream",
     "text": [
      "WARNING: PossiblySlowWarning: This function (<function BaseSpectralCube._apply_everywhere at 0x7f8eb335d5e0>) requires loading the entire cube into memory and may therefore be slow. [spectral_cube.utils]\n",
      "WARNING: PossiblySlowWarning: This function (<function BaseSpectralCube.to at 0x7f8eb33619d0>) requires loading the entire cube into memory and may therefore be slow. [spectral_cube.utils]\n"
     ]
    },
    {
     "name": "stdout",
     "output_type": "stream",
     "text": [
      "Reading fit2/fit_qt__5jqm/radmc_gas/N2H+ J=3-2_image.out\n"
     ]
    },
    {
     "name": "stderr",
     "output_type": "stream",
     "text": [
      "WARNING: PossiblySlowWarning: This function (<function BaseSpectralCube.sum at 0x7f8eb335c670>) requires loading the entire cube into memory and may therefore be slow. [spectral_cube.utils]\n",
      "WARNING: PossiblySlowWarning: This function (<function BaseSpectralCube._apply_everywhere at 0x7f8eb335d5e0>) requires loading the entire cube into memory and may therefore be slow. [spectral_cube.utils]\n",
      "WARNING: PossiblySlowWarning: This function (<function BaseSpectralCube.to at 0x7f8eb33619d0>) requires loading the entire cube into memory and may therefore be slow. [spectral_cube.utils]\n",
      "WARNING: PossiblySlowWarning: This function (<function BaseSpectralCube.sum at 0x7f8eb335c670>) requires loading the entire cube into memory and may therefore be slow. [spectral_cube.utils]\n",
      "WARNING: PossiblySlowWarning: This function (<function BaseSpectralCube._apply_everywhere at 0x7f8eb335d5e0>) requires loading the entire cube into memory and may therefore be slow. [spectral_cube.utils]\n",
      "WARNING: PossiblySlowWarning: This function (<function BaseSpectralCube._apply_everywhere at 0x7f8eb335d5e0>) requires loading the entire cube into memory and may therefore be slow. [spectral_cube.utils]\n",
      "WARNINGWARNING: PossiblySlowWarning: This function (<function BaseSpectralCube.to at 0x7f8eb33619d0>) requires loading the entire cube into memory and may therefore be slow. [spectral_cube.utils]: PossiblySlowWarning: This function (<function BaseSpectralCube.to at 0x7f8eb33619d0>) requires loading the entire cube into memory and may therefore be slow. [spectral_cube.utils]\n",
      "\n",
      "WARNINGWARNING: PossiblySlowWarning: This function (<function BaseSpectralCube.sum at 0x7f8eb335c670>) requires loading the entire cube into memory and may therefore be slow. [spectral_cube.utils]\n",
      ": PossiblySlowWarning: This function (<function BaseSpectralCube.sum at 0x7f8eb335c670>) requires loading the entire cube into memory and may therefore be slow. [spectral_cube.utils]\n",
      "WARNINGWARNING: PossiblySlowWarning: This function (<function BaseSpectralCube._apply_everywhere at 0x7f8eb335d5e0>) requires loading the entire cube into memory and may therefore be slow. [spectral_cube.utils]: PossiblySlowWarning: This function (<function BaseSpectralCube._apply_everywhere at 0x7f8eb335d5e0>) requires loading the entire cube into memory and may therefore be slow. [spectral_cube.utils]\n",
      "\n",
      "WARNING: PossiblySlowWarning: This function (<function BaseSpectralCube.to at 0x7f8eb33619d0>) requires loading the entire cube into memory and may therefore be slow. [spectral_cube.utils]\n",
      "WARNING: PossiblySlowWarning: This function (<function BaseSpectralCube.to at 0x7f8eb33619d0>) requires loading the entire cube into memory and may therefore be slow. [spectral_cube.utils]\n",
      "WARNING: PossiblySlowWarning: This function (<function BaseSpectralCube.sum at 0x7f8eb335c670>) requires loading the entire cube into memory and may therefore be slow. [spectral_cube.utils]\n",
      "WARNING: PossiblySlowWarning: This function (<function BaseSpectralCube.sum at 0x7f8eb335c670>) requires loading the entire cube into memory and may therefore be slow. [spectral_cube.utils]\n",
      "WARNING: PossiblySlowWarning: This function (<function BaseSpectralCube._apply_everywhere at 0x7f8eb335d5e0>) requires loading the entire cube into memory and may therefore be slow. [spectral_cube.utils]\n",
      "WARNING: PossiblySlowWarning: This function (<function BaseSpectralCube.to at 0x7f8eb33619d0>) requires loading the entire cube into memory and may therefore be slow. [spectral_cube.utils]\n",
      "WARNING: PossiblySlowWarning: This function (<function BaseSpectralCube.sum at 0x7f8eb335c670>) requires loading the entire cube into memory and may therefore be slow. [spectral_cube.utils]\n",
      "WARNING: PossiblySlowWarning: This function (<function BaseSpectralCube._apply_everywhere at 0x7f8eb335d5e0>) requires loading the entire cube into memory and may therefore be slow. [spectral_cube.utils]\n",
      "WARNING: PossiblySlowWarning: This function (<function BaseSpectralCube.to at 0x7f8eb33619d0>) requires loading the entire cube into memory and may therefore be slow. [spectral_cube.utils]\n",
      "WARNING: PossiblySlowWarning: This function (<function BaseSpectralCube.sum at 0x7f8eb335c670>) requires loading the entire cube into memory and may therefore be slow. [spectral_cube.utils]\n",
      " In the molecular data file for molecule 1\n",
      "          there are collisional transition rates specified\n",
      "          for 2 collision partners.\n",
      "          However, in lines.inp for this line only 1\n",
      "          names of the collision partners are given.\n",
      "          We will therefore use not all possible partners.\n",
      "\n",
      " In the molecular data file for molecule 2\n",
      "          there are collisional transition rates specified\n",
      "          for 2 collision partners.\n",
      "          However, in lines.inp for this line only 1\n",
      "          names of the collision partners are given.\n",
      "          We will therefore use not all possible partners.\n",
      "\n"
     ]
    },
    {
     "name": "stdout",
     "output_type": "stream",
     "text": [
      "Reading fit2/fit_xg2pqesm/radmc_gas/CO J=2-1_image.out\n",
      "Reading fit2/fit_xg2pqesm/radmc_gas/HCN J=3-2_image.out\n",
      "Reading fit2/fit_xg2pqesm/radmc_gas/HCO+ J=3-2_image.out\n",
      "Reading fit2/fit_xg2pqesm/radmc_gas/N2H+ J=3-2_image.out\n"
     ]
    },
    {
     "name": "stderr",
     "output_type": "stream",
     "text": [
      "WARNING: PossiblySlowWarning: This function (<function BaseSpectralCube._apply_everywhere at 0x7f8eb335d5e0>) requires loading the entire cube into memory and may therefore be slow. [spectral_cube.utils]\n",
      "WARNING: PossiblySlowWarning: This function (<function BaseSpectralCube.to at 0x7f8eb33619d0>) requires loading the entire cube into memory and may therefore be slow. [spectral_cube.utils]\n",
      "WARNING: PossiblySlowWarning: This function (<function BaseSpectralCube.sum at 0x7f8eb335c670>) requires loading the entire cube into memory and may therefore be slow. [spectral_cube.utils]\n",
      "WARNING: PossiblySlowWarning: This function (<function BaseSpectralCube._apply_everywhere at 0x7f8eb335d5e0>) requires loading the entire cube into memory and may therefore be slow. [spectral_cube.utils]\n",
      "WARNING: PossiblySlowWarning: This function (<function BaseSpectralCube.to at 0x7f8eb33619d0>) requires loading the entire cube into memory and may therefore be slow. [spectral_cube.utils]\n",
      "WARNING: PossiblySlowWarning: This function (<function BaseSpectralCube.sum at 0x7f8eb335c670>) requires loading the entire cube into memory and may therefore be slow. [spectral_cube.utils]\n",
      "WARNING: PossiblySlowWarning: This function (<function BaseSpectralCube._apply_everywhere at 0x7f8eb335d5e0>) requires loading the entire cube into memory and may therefore be slow. [spectral_cube.utils]\n",
      "WARNING: PossiblySlowWarning: This function (<function BaseSpectralCube.to at 0x7f8eb33619d0>) requires loading the entire cube into memory and may therefore be slow. [spectral_cube.utils]\n",
      "WARNING: PossiblySlowWarning: This function (<function BaseSpectralCube.sum at 0x7f8eb335c670>) requires loading the entire cube into memory and may therefore be slow. [spectral_cube.utils]\n",
      "WARNING: PossiblySlowWarning: This function (<function BaseSpectralCube._apply_everywhere at 0x7f8eb335d5e0>) requires loading the entire cube into memory and may therefore be slow. [spectral_cube.utils]\n",
      "WARNING: PossiblySlowWarning: This function (<function BaseSpectralCube.to at 0x7f8eb33619d0>) requires loading the entire cube into memory and may therefore be slow. [spectral_cube.utils]\n",
      "WARNING: PossiblySlowWarning: This function (<function BaseSpectralCube.sum at 0x7f8eb335c670>) requires loading the entire cube into memory and may therefore be slow. [spectral_cube.utils]\n",
      " In the molecular data file for molecule 1\n",
      "          there are collisional transition rates specified\n",
      "          for 2 collision partners.\n",
      "          However, in lines.inp for this line only 1\n",
      "          names of the collision partners are given.\n",
      "          We will therefore use not all possible partners.\n",
      "\n",
      " In the molecular data file for molecule 2\n",
      "          there are collisional transition rates specified\n",
      "          for 2 collision partners.\n",
      "          However, in lines.inp for this line only 1\n",
      "          names of the collision partners are given.\n",
      "          We will therefore use not all possible partners.\n",
      "\n"
     ]
    },
    {
     "name": "stdout",
     "output_type": "stream",
     "text": [
      "Reading fit2/fit_4ud0nmq3/radmc_gas/CO J=2-1_image.out\n",
      "Reading fit2/fit_4ud0nmq3/radmc_gas/HCN J=3-2_image.out\n",
      "Reading fit2/fit_4ud0nmq3/radmc_gas/HCO+ J=3-2_image.out\n",
      "Reading fit2/fit_4ud0nmq3/radmc_gas/N2H+ J=3-2_image.out\n"
     ]
    },
    {
     "name": "stderr",
     "output_type": "stream",
     "text": [
      "WARNING: PossiblySlowWarning: This function (<function BaseSpectralCube._apply_everywhere at 0x7f8eb335d5e0>) requires loading the entire cube into memory and may therefore be slow. [spectral_cube.utils]\n",
      "WARNING: PossiblySlowWarning: This function (<function BaseSpectralCube.to at 0x7f8eb33619d0>) requires loading the entire cube into memory and may therefore be slow. [spectral_cube.utils]\n",
      "WARNING: PossiblySlowWarning: This function (<function BaseSpectralCube.sum at 0x7f8eb335c670>) requires loading the entire cube into memory and may therefore be slow. [spectral_cube.utils]\n",
      "WARNING: PossiblySlowWarning: This function (<function BaseSpectralCube._apply_everywhere at 0x7f8eb335d5e0>) requires loading the entire cube into memory and may therefore be slow. [spectral_cube.utils]\n",
      "WARNING: PossiblySlowWarning: This function (<function BaseSpectralCube.to at 0x7f8eb33619d0>) requires loading the entire cube into memory and may therefore be slow. [spectral_cube.utils]\n",
      "WARNING: PossiblySlowWarning: This function (<function BaseSpectralCube.sum at 0x7f8eb335c670>) requires loading the entire cube into memory and may therefore be slow. [spectral_cube.utils]\n",
      "WARNING: PossiblySlowWarning: This function (<function BaseSpectralCube._apply_everywhere at 0x7f8eb335d5e0>) requires loading the entire cube into memory and may therefore be slow. [spectral_cube.utils]\n",
      "WARNING: PossiblySlowWarning: This function (<function BaseSpectralCube.to at 0x7f8eb33619d0>) requires loading the entire cube into memory and may therefore be slow. [spectral_cube.utils]\n",
      "WARNING: PossiblySlowWarning: This function (<function BaseSpectralCube.sum at 0x7f8eb335c670>) requires loading the entire cube into memory and may therefore be slow. [spectral_cube.utils]\n",
      "WARNING: PossiblySlowWarning: This function (<function BaseSpectralCube._apply_everywhere at 0x7f8eb335d5e0>) requires loading the entire cube into memory and may therefore be slow. [spectral_cube.utils]\n",
      "WARNING: PossiblySlowWarning: This function (<function BaseSpectralCube.to at 0x7f8eb33619d0>) requires loading the entire cube into memory and may therefore be slow. [spectral_cube.utils]\n",
      "WARNING: PossiblySlowWarning: This function (<function BaseSpectralCube.sum at 0x7f8eb335c670>) requires loading the entire cube into memory and may therefore be slow. [spectral_cube.utils]\n",
      " 25%|██▌       | 1/4 [08:54<26:42, 534.05s/it] In the molecular data file for molecule 1\n",
      "          there are collisional transition rates specified\n",
      "          for 2 collision partners.\n",
      "          However, in lines.inp for this line only 1\n",
      "          names of the collision partners are given.\n",
      "          We will therefore use not all possible partners.\n",
      "\n",
      " In the molecular data file for molecule 2\n",
      "          there are collisional transition rates specified\n",
      "          for 2 collision partners.\n",
      "          However, in lines.inp for this line only 1\n",
      "          names of the collision partners are given.\n",
      "          We will therefore use not all possible partners.\n",
      "\n"
     ]
    },
    {
     "name": "stdout",
     "output_type": "stream",
     "text": [
      "Reading fit2/fit_s9pwml0d/radmc_gas/CO J=2-1_image.out\n",
      "Reading fit2/fit_s9pwml0d/radmc_gas/HCN J=3-2_image.out\n",
      "Reading fit2/fit_s9pwml0d/radmc_gas/HCO+ J=3-2_image.out\n",
      "Reading fit2/fit_s9pwml0d/radmc_gas/N2H+ J=3-2_image.out\n"
     ]
    },
    {
     "name": "stderr",
     "output_type": "stream",
     "text": [
      "WARNING: PossiblySlowWarning: This function (<function BaseSpectralCube._apply_everywhere at 0x7f8eb335d5e0>) requires loading the entire cube into memory and may therefore be slow. [spectral_cube.utils]\n",
      "WARNING: PossiblySlowWarning: This function (<function BaseSpectralCube.to at 0x7f8eb33619d0>) requires loading the entire cube into memory and may therefore be slow. [spectral_cube.utils]\n",
      "WARNING: PossiblySlowWarning: This function (<function BaseSpectralCube.sum at 0x7f8eb335c670>) requires loading the entire cube into memory and may therefore be slow. [spectral_cube.utils]\n",
      "WARNING: PossiblySlowWarning: This function (<function BaseSpectralCube._apply_everywhere at 0x7f8eb335d5e0>) requires loading the entire cube into memory and may therefore be slow. [spectral_cube.utils]\n",
      "WARNING: PossiblySlowWarning: This function (<function BaseSpectralCube.to at 0x7f8eb33619d0>) requires loading the entire cube into memory and may therefore be slow. [spectral_cube.utils]\n",
      "WARNING: PossiblySlowWarning: This function (<function BaseSpectralCube.sum at 0x7f8eb335c670>) requires loading the entire cube into memory and may therefore be slow. [spectral_cube.utils]\n",
      "WARNING: PossiblySlowWarning: This function (<function BaseSpectralCube._apply_everywhere at 0x7f8eb335d5e0>) requires loading the entire cube into memory and may therefore be slow. [spectral_cube.utils]\n",
      "WARNING: PossiblySlowWarning: This function (<function BaseSpectralCube.to at 0x7f8eb33619d0>) requires loading the entire cube into memory and may therefore be slow. [spectral_cube.utils]\n",
      "WARNING: PossiblySlowWarning: This function (<function BaseSpectralCube.sum at 0x7f8eb335c670>) requires loading the entire cube into memory and may therefore be slow. [spectral_cube.utils]\n",
      "WARNING: PossiblySlowWarning: This function (<function BaseSpectralCube._apply_everywhere at 0x7f8eb335d5e0>) requires loading the entire cube into memory and may therefore be slow. [spectral_cube.utils]\n",
      "WARNING: PossiblySlowWarning: This function (<function BaseSpectralCube.to at 0x7f8eb33619d0>) requires loading the entire cube into memory and may therefore be slow. [spectral_cube.utils]\n",
      "WARNING: PossiblySlowWarning: This function (<function BaseSpectralCube.sum at 0x7f8eb335c670>) requires loading the entire cube into memory and may therefore be slow. [spectral_cube.utils]\n",
      " In the molecular data file for molecule 1\n",
      "          there are collisional transition rates specified\n",
      "          for 2 collision partners.\n",
      "          However, in lines.inp for this line only 1\n",
      "          names of the collision partners are given.\n",
      "          We will therefore use not all possible partners.\n",
      "\n",
      " In the molecular data file for molecule 2\n",
      "          there are collisional transition rates specified\n",
      "          for 2 collision partners.\n",
      "          However, in lines.inp for this line only 1\n",
      "          names of the collision partners are given.\n",
      "          We will therefore use not all possible partners.\n",
      "\n",
      " In the molecular data file for molecule 1\n",
      "          there are collisional transition rates specified\n",
      "          for 2 collision partners.\n",
      "          However, in lines.inp for this line only 1\n",
      "          names of the collision partners are given.\n",
      "          We will therefore use not all possible partners.\n",
      "\n",
      " In the molecular data file for molecule 2\n",
      "          there are collisional transition rates specified\n",
      "          for 2 collision partners.\n",
      "          However, in lines.inp for this line only 1\n",
      "          names of the collision partners are given.\n",
      "          We will therefore use not all possible partners.\n",
      "\n"
     ]
    },
    {
     "name": "stdout",
     "output_type": "stream",
     "text": [
      "Reading fit2/fit_hndq6ekd/radmc_gas/CO J=2-1_image.out\n",
      "Reading fit2/fit_hndq6ekd/radmc_gas/HCN J=3-2_image.out\n"
     ]
    },
    {
     "name": "stderr",
     "output_type": "stream",
     "text": [
      " In the molecular data file for molecule 1\n",
      "          there are collisional transition rates specified\n",
      "          for 2 collision partners.\n",
      "          However, in lines.inp for this line only 1\n",
      "          names of the collision partners are given.\n",
      "          We will therefore use not all possible partners.\n",
      "\n",
      " In the molecular data file for molecule 2\n",
      "          there are collisional transition rates specified\n",
      "          for 2 collision partners.\n",
      "          However, in lines.inp for this line only 1\n",
      "          names of the collision partners are given.\n",
      "          We will therefore use not all possible partners.\n",
      "\n"
     ]
    },
    {
     "name": "stdout",
     "output_type": "stream",
     "text": [
      "Reading fit2/fit_hndq6ekd/radmc_gas/HCO+ J=3-2_image.out\n",
      "Reading fit2/fit_cy7qp6li/radmc_gas/CO J=2-1_image.out\n",
      "Reading fit2/fit_hndq6ekd/radmc_gas/N2H+ J=3-2_image.out\n",
      "Reading fit2/fit_cy7qp6li/radmc_gas/HCN J=3-2_image.out\n",
      "Reading fit2/fit_cy7qp6li/radmc_gas/HCO+ J=3-2_image.out\n"
     ]
    },
    {
     "name": "stderr",
     "output_type": "stream",
     "text": [
      "WARNING: PossiblySlowWarning: This function (<function BaseSpectralCube._apply_everywhere at 0x7f8eb335d5e0>) requires loading the entire cube into memory and may therefore be slow. [spectral_cube.utils]\n",
      "WARNING: PossiblySlowWarning: This function (<function BaseSpectralCube.to at 0x7f8eb33619d0>) requires loading the entire cube into memory and may therefore be slow. [spectral_cube.utils]\n",
      "WARNING: PossiblySlowWarning: This function (<function BaseSpectralCube.sum at 0x7f8eb335c670>) requires loading the entire cube into memory and may therefore be slow. [spectral_cube.utils]\n"
     ]
    },
    {
     "name": "stdout",
     "output_type": "stream",
     "text": [
      "Reading fit2/fit_eet_lgsk/radmc_gas/CO J=2-1_image.out\n"
     ]
    },
    {
     "name": "stderr",
     "output_type": "stream",
     "text": [
      "WARNING: PossiblySlowWarning: This function (<function BaseSpectralCube._apply_everywhere at 0x7f8eb335d5e0>) requires loading the entire cube into memory and may therefore be slow. [spectral_cube.utils]\n"
     ]
    },
    {
     "name": "stdout",
     "output_type": "stream",
     "text": [
      "Reading fit2/fit_cy7qp6li/radmc_gas/N2H+ J=3-2_image.out\n"
     ]
    },
    {
     "name": "stderr",
     "output_type": "stream",
     "text": [
      "WARNING: PossiblySlowWarning: This function (<function BaseSpectralCube.to at 0x7f8eb33619d0>) requires loading the entire cube into memory and may therefore be slow. [spectral_cube.utils]\n",
      "WARNING: PossiblySlowWarning: This function (<function BaseSpectralCube.sum at 0x7f8eb335c670>) requires loading the entire cube into memory and may therefore be slow. [spectral_cube.utils]\n",
      "WARNING: PossiblySlowWarning: This function (<function BaseSpectralCube._apply_everywhere at 0x7f8eb335d5e0>) requires loading the entire cube into memory and may therefore be slow. [spectral_cube.utils]\n"
     ]
    },
    {
     "name": "stdout",
     "output_type": "stream",
     "text": [
      "Reading fit2/fit_eet_lgsk/radmc_gas/HCN J=3-2_image.out\n"
     ]
    },
    {
     "name": "stderr",
     "output_type": "stream",
     "text": [
      "WARNING: PossiblySlowWarning: This function (<function BaseSpectralCube.to at 0x7f8eb33619d0>) requires loading the entire cube into memory and may therefore be slow. [spectral_cube.utils]\n",
      "WARNING: PossiblySlowWarning: This function (<function BaseSpectralCube.sum at 0x7f8eb335c670>) requires loading the entire cube into memory and may therefore be slow. [spectral_cube.utils]\n",
      "WARNING: PossiblySlowWarning: This function (<function BaseSpectralCube._apply_everywhere at 0x7f8eb335d5e0>) requires loading the entire cube into memory and may therefore be slow. [spectral_cube.utils]\n",
      "WARNING: PossiblySlowWarning: This function (<function BaseSpectralCube._apply_everywhere at 0x7f8eb335d5e0>) requires loading the entire cube into memory and may therefore be slow. [spectral_cube.utils]\n",
      "WARNING: PossiblySlowWarning: This function (<function BaseSpectralCube.to at 0x7f8eb33619d0>) requires loading the entire cube into memory and may therefore be slow. [spectral_cube.utils]\n"
     ]
    },
    {
     "name": "stdout",
     "output_type": "stream",
     "text": [
      "Reading fit2/fit_eet_lgsk/radmc_gas/HCO+ J=3-2_image.out\n"
     ]
    },
    {
     "name": "stderr",
     "output_type": "stream",
     "text": [
      "WARNING: PossiblySlowWarning: This function (<function BaseSpectralCube.to at 0x7f8eb33619d0>) requires loading the entire cube into memory and may therefore be slow. [spectral_cube.utils]WARNING\n",
      ": PossiblySlowWarning: This function (<function BaseSpectralCube.sum at 0x7f8eb335c670>) requires loading the entire cube into memory and may therefore be slow. [spectral_cube.utils]\n",
      "WARNING: PossiblySlowWarning: This function (<function BaseSpectralCube.sum at 0x7f8eb335c670>) requires loading the entire cube into memory and may therefore be slow. [spectral_cube.utils]\n",
      "WARNING: PossiblySlowWarning: This function (<function BaseSpectralCube._apply_everywhere at 0x7f8eb335d5e0>) requires loading the entire cube into memory and may therefore be slow. [spectral_cube.utils]\n",
      "WARNING: PossiblySlowWarning: This function (<function BaseSpectralCube.to at 0x7f8eb33619d0>) requires loading the entire cube into memory and may therefore be slow. [spectral_cube.utils]\n",
      "WARNING: PossiblySlowWarning: This function (<function BaseSpectralCube.sum at 0x7f8eb335c670>) requires loading the entire cube into memory and may therefore be slow. [spectral_cube.utils]\n"
     ]
    },
    {
     "name": "stdout",
     "output_type": "stream",
     "text": [
      "Reading fit2/fit_eet_lgsk/radmc_gas/N2H+ J=3-2_image.out\n"
     ]
    },
    {
     "name": "stderr",
     "output_type": "stream",
     "text": [
      "WARNING: PossiblySlowWarning: This function (<function BaseSpectralCube._apply_everywhere at 0x7f8eb335d5e0>) requires loading the entire cube into memory and may therefore be slow. [spectral_cube.utils]\n",
      "WARNING: PossiblySlowWarning: This function (<function BaseSpectralCube.to at 0x7f8eb33619d0>) requires loading the entire cube into memory and may therefore be slow. [spectral_cube.utils]\n",
      "WARNING: PossiblySlowWarning: This function (<function BaseSpectralCube.sum at 0x7f8eb335c670>) requires loading the entire cube into memory and may therefore be slow. [spectral_cube.utils]\n",
      "WARNING: PossiblySlowWarning: This function (<function BaseSpectralCube._apply_everywhere at 0x7f8eb335d5e0>) requires loading the entire cube into memory and may therefore be slow. [spectral_cube.utils]\n",
      "WARNING: PossiblySlowWarning: This function (<function BaseSpectralCube.to at 0x7f8eb33619d0>) requires loading the entire cube into memory and may therefore be slow. [spectral_cube.utils]\n",
      "WARNING: PossiblySlowWarning: This function (<function BaseSpectralCube._apply_everywhere at 0x7f8eb335d5e0>) requires loading the entire cube into memory and may therefore be slow. [spectral_cube.utils]\n",
      "WARNING: PossiblySlowWarning: This function (<function BaseSpectralCube.sum at 0x7f8eb335c670>) requires loading the entire cube into memory and may therefore be slow. [spectral_cube.utils]\n",
      "WARNING: PossiblySlowWarning: This function (<function BaseSpectralCube.to at 0x7f8eb33619d0>) requires loading the entire cube into memory and may therefore be slow. [spectral_cube.utils]\n",
      "WARNING: PossiblySlowWarning: This function (<function BaseSpectralCube.sum at 0x7f8eb335c670>) requires loading the entire cube into memory and may therefore be slow. [spectral_cube.utils]\n",
      "WARNING: PossiblySlowWarning: This function (<function BaseSpectralCube._apply_everywhere at 0x7f8eb335d5e0>) requires loading the entire cube into memory and may therefore be slow. [spectral_cube.utils]\n",
      "WARNING: PossiblySlowWarning: This function (<function BaseSpectralCube.to at 0x7f8eb33619d0>) requires loading the entire cube into memory and may therefore be slow. [spectral_cube.utils]\n",
      "WARNING: PossiblySlowWarning: This function (<function BaseSpectralCube.sum at 0x7f8eb335c670>) requires loading the entire cube into memory and may therefore be slow. [spectral_cube.utils]\n",
      "WARNING: PossiblySlowWarning: This function (<function BaseSpectralCube._apply_everywhere at 0x7f8eb335d5e0>) requires loading the entire cube into memory and may therefore be slow. [spectral_cube.utils]\n",
      "WARNING: PossiblySlowWarning: This function (<function BaseSpectralCube.to at 0x7f8eb33619d0>) requires loading the entire cube into memory and may therefore be slow. [spectral_cube.utils]\n",
      "WARNING: PossiblySlowWarning: This function (<function BaseSpectralCube.sum at 0x7f8eb335c670>) requires loading the entire cube into memory and may therefore be slow. [spectral_cube.utils]\n",
      "WARNING: PossiblySlowWarning: This function (<function BaseSpectralCube._apply_everywhere at 0x7f8eb335d5e0>) requires loading the entire cube into memory and may therefore be slow. [spectral_cube.utils]\n",
      "WARNING: PossiblySlowWarning: This function (<function BaseSpectralCube.to at 0x7f8eb33619d0>) requires loading the entire cube into memory and may therefore be slow. [spectral_cube.utils]\n",
      "WARNING: PossiblySlowWarning: This function (<function BaseSpectralCube.sum at 0x7f8eb335c670>) requires loading the entire cube into memory and may therefore be slow. [spectral_cube.utils]\n",
      " In the molecular data file for molecule 1\n",
      "          there are collisional transition rates specified\n",
      "          for 2 collision partners.\n",
      "          However, in lines.inp for this line only 1\n",
      "          names of the collision partners are given.\n",
      "          We will therefore use not all possible partners.\n",
      "\n",
      " In the molecular data file for molecule 2\n",
      "          there are collisional transition rates specified\n",
      "          for 2 collision partners.\n",
      "          However, in lines.inp for this line only 1\n",
      "          names of the collision partners are given.\n",
      "          We will therefore use not all possible partners.\n",
      "\n"
     ]
    },
    {
     "name": "stdout",
     "output_type": "stream",
     "text": [
      "Reading fit2/fit_q9bnmgss/radmc_gas/CO J=2-1_image.out\n",
      "Reading fit2/fit_q9bnmgss/radmc_gas/HCN J=3-2_image.out\n",
      "Reading fit2/fit_q9bnmgss/radmc_gas/HCO+ J=3-2_image.out\n",
      "Reading fit2/fit_q9bnmgss/radmc_gas/N2H+ J=3-2_image.out\n"
     ]
    },
    {
     "name": "stderr",
     "output_type": "stream",
     "text": [
      "WARNING: PossiblySlowWarning: This function (<function BaseSpectralCube._apply_everywhere at 0x7f8eb335d5e0>) requires loading the entire cube into memory and may therefore be slow. [spectral_cube.utils]\n",
      "WARNING: PossiblySlowWarning: This function (<function BaseSpectralCube.to at 0x7f8eb33619d0>) requires loading the entire cube into memory and may therefore be slow. [spectral_cube.utils]\n",
      "WARNING: PossiblySlowWarning: This function (<function BaseSpectralCube.sum at 0x7f8eb335c670>) requires loading the entire cube into memory and may therefore be slow. [spectral_cube.utils]\n",
      "WARNING: PossiblySlowWarning: This function (<function BaseSpectralCube._apply_everywhere at 0x7f8eb335d5e0>) requires loading the entire cube into memory and may therefore be slow. [spectral_cube.utils]\n",
      "WARNING: PossiblySlowWarning: This function (<function BaseSpectralCube.to at 0x7f8eb33619d0>) requires loading the entire cube into memory and may therefore be slow. [spectral_cube.utils]\n",
      "WARNING: PossiblySlowWarning: This function (<function BaseSpectralCube.sum at 0x7f8eb335c670>) requires loading the entire cube into memory and may therefore be slow. [spectral_cube.utils]\n",
      "WARNING: PossiblySlowWarning: This function (<function BaseSpectralCube._apply_everywhere at 0x7f8eb335d5e0>) requires loading the entire cube into memory and may therefore be slow. [spectral_cube.utils]\n",
      "WARNING: PossiblySlowWarning: This function (<function BaseSpectralCube.to at 0x7f8eb33619d0>) requires loading the entire cube into memory and may therefore be slow. [spectral_cube.utils]\n",
      "WARNING: PossiblySlowWarning: This function (<function BaseSpectralCube.sum at 0x7f8eb335c670>) requires loading the entire cube into memory and may therefore be slow. [spectral_cube.utils]\n",
      "WARNING: PossiblySlowWarning: This function (<function BaseSpectralCube._apply_everywhere at 0x7f8eb335d5e0>) requires loading the entire cube into memory and may therefore be slow. [spectral_cube.utils]\n",
      "WARNING: PossiblySlowWarning: This function (<function BaseSpectralCube.to at 0x7f8eb33619d0>) requires loading the entire cube into memory and may therefore be slow. [spectral_cube.utils]\n",
      "WARNING: PossiblySlowWarning: This function (<function BaseSpectralCube.sum at 0x7f8eb335c670>) requires loading the entire cube into memory and may therefore be slow. [spectral_cube.utils]\n",
      " In the molecular data file for molecule 1\n",
      "          there are collisional transition rates specified\n",
      "          for 2 collision partners.\n",
      "          However, in lines.inp for this line only 1\n",
      "          names of the collision partners are given.\n",
      "          We will therefore use not all possible partners.\n",
      "\n",
      " In the molecular data file for molecule 2\n",
      "          there are collisional transition rates specified\n",
      "          for 2 collision partners.\n",
      "          However, in lines.inp for this line only 1\n",
      "          names of the collision partners are given.\n",
      "          We will therefore use not all possible partners.\n",
      "\n"
     ]
    },
    {
     "name": "stdout",
     "output_type": "stream",
     "text": [
      "Reading fit2/fit_g4zyvhot/radmc_gas/CO J=2-1_image.out\n",
      "Reading fit2/fit_g4zyvhot/radmc_gas/HCN J=3-2_image.out\n",
      "Reading fit2/fit_g4zyvhot/radmc_gas/HCO+ J=3-2_image.out\n",
      "Reading fit2/fit_g4zyvhot/radmc_gas/N2H+ J=3-2_image.out\n"
     ]
    },
    {
     "name": "stderr",
     "output_type": "stream",
     "text": [
      "WARNING: PossiblySlowWarning: This function (<function BaseSpectralCube._apply_everywhere at 0x7f8eb335d5e0>) requires loading the entire cube into memory and may therefore be slow. [spectral_cube.utils]\n",
      "WARNING: PossiblySlowWarning: This function (<function BaseSpectralCube.to at 0x7f8eb33619d0>) requires loading the entire cube into memory and may therefore be slow. [spectral_cube.utils]\n",
      "WARNING: PossiblySlowWarning: This function (<function BaseSpectralCube.sum at 0x7f8eb335c670>) requires loading the entire cube into memory and may therefore be slow. [spectral_cube.utils]\n",
      "WARNING: PossiblySlowWarning: This function (<function BaseSpectralCube._apply_everywhere at 0x7f8eb335d5e0>) requires loading the entire cube into memory and may therefore be slow. [spectral_cube.utils]\n",
      "WARNING: PossiblySlowWarning: This function (<function BaseSpectralCube.to at 0x7f8eb33619d0>) requires loading the entire cube into memory and may therefore be slow. [spectral_cube.utils]\n",
      "WARNING: PossiblySlowWarning: This function (<function BaseSpectralCube.sum at 0x7f8eb335c670>) requires loading the entire cube into memory and may therefore be slow. [spectral_cube.utils]\n",
      "WARNING: PossiblySlowWarning: This function (<function BaseSpectralCube._apply_everywhere at 0x7f8eb335d5e0>) requires loading the entire cube into memory and may therefore be slow. [spectral_cube.utils]\n",
      "WARNING: PossiblySlowWarning: This function (<function BaseSpectralCube.to at 0x7f8eb33619d0>) requires loading the entire cube into memory and may therefore be slow. [spectral_cube.utils]\n",
      "WARNING: PossiblySlowWarning: This function (<function BaseSpectralCube.sum at 0x7f8eb335c670>) requires loading the entire cube into memory and may therefore be slow. [spectral_cube.utils]\n",
      "WARNING: PossiblySlowWarning: This function (<function BaseSpectralCube._apply_everywhere at 0x7f8eb335d5e0>) requires loading the entire cube into memory and may therefore be slow. [spectral_cube.utils]\n",
      "WARNING: PossiblySlowWarning: This function (<function BaseSpectralCube.to at 0x7f8eb33619d0>) requires loading the entire cube into memory and may therefore be slow. [spectral_cube.utils]\n",
      "WARNING: PossiblySlowWarning: This function (<function BaseSpectralCube.sum at 0x7f8eb335c670>) requires loading the entire cube into memory and may therefore be slow. [spectral_cube.utils]\n",
      " In the molecular data file for molecule 1\n",
      "          there are collisional transition rates specified\n",
      "          for 2 collision partners.\n",
      "          However, in lines.inp for this line only 1\n",
      "          names of the collision partners are given.\n",
      "          We will therefore use not all possible partners.\n",
      "\n",
      " In the molecular data file for molecule 2\n",
      "          there are collisional transition rates specified\n",
      "          for 2 collision partners.\n",
      "          However, in lines.inp for this line only 1\n",
      "          names of the collision partners are given.\n",
      "          We will therefore use not all possible partners.\n",
      "\n"
     ]
    },
    {
     "name": "stdout",
     "output_type": "stream",
     "text": [
      "Reading fit2/fit_mynq7i3x/radmc_gas/CO J=2-1_image.out\n",
      "Reading fit2/fit_mynq7i3x/radmc_gas/HCN J=3-2_image.out\n",
      "Reading fit2/fit_mynq7i3x/radmc_gas/HCO+ J=3-2_image.out\n",
      "Reading fit2/fit_mynq7i3x/radmc_gas/N2H+ J=3-2_image.out\n"
     ]
    },
    {
     "name": "stderr",
     "output_type": "stream",
     "text": [
      "WARNING: PossiblySlowWarning: This function (<function BaseSpectralCube._apply_everywhere at 0x7f8eb335d5e0>) requires loading the entire cube into memory and may therefore be slow. [spectral_cube.utils]\n",
      "WARNING: PossiblySlowWarning: This function (<function BaseSpectralCube.to at 0x7f8eb33619d0>) requires loading the entire cube into memory and may therefore be slow. [spectral_cube.utils]\n",
      "WARNING: PossiblySlowWarning: This function (<function BaseSpectralCube.sum at 0x7f8eb335c670>) requires loading the entire cube into memory and may therefore be slow. [spectral_cube.utils]\n",
      "WARNING: PossiblySlowWarning: This function (<function BaseSpectralCube._apply_everywhere at 0x7f8eb335d5e0>) requires loading the entire cube into memory and may therefore be slow. [spectral_cube.utils]\n",
      "WARNING: PossiblySlowWarning: This function (<function BaseSpectralCube.to at 0x7f8eb33619d0>) requires loading the entire cube into memory and may therefore be slow. [spectral_cube.utils]\n",
      "WARNING: PossiblySlowWarning: This function (<function BaseSpectralCube.sum at 0x7f8eb335c670>) requires loading the entire cube into memory and may therefore be slow. [spectral_cube.utils]\n",
      "WARNING: PossiblySlowWarning: This function (<function BaseSpectralCube._apply_everywhere at 0x7f8eb335d5e0>) requires loading the entire cube into memory and may therefore be slow. [spectral_cube.utils]\n",
      "WARNING: PossiblySlowWarning: This function (<function BaseSpectralCube.to at 0x7f8eb33619d0>) requires loading the entire cube into memory and may therefore be slow. [spectral_cube.utils]\n",
      "WARNING: PossiblySlowWarning: This function (<function BaseSpectralCube.sum at 0x7f8eb335c670>) requires loading the entire cube into memory and may therefore be slow. [spectral_cube.utils]\n",
      "WARNING: PossiblySlowWarning: This function (<function BaseSpectralCube._apply_everywhere at 0x7f8eb335d5e0>) requires loading the entire cube into memory and may therefore be slow. [spectral_cube.utils]\n",
      "WARNING: PossiblySlowWarning: This function (<function BaseSpectralCube.to at 0x7f8eb33619d0>) requires loading the entire cube into memory and may therefore be slow. [spectral_cube.utils]\n",
      "WARNING: PossiblySlowWarning: This function (<function BaseSpectralCube.sum at 0x7f8eb335c670>) requires loading the entire cube into memory and may therefore be slow. [spectral_cube.utils]\n",
      " In the molecular data file for molecule 1\n",
      "          there are collisional transition rates specified\n",
      "          for 2 collision partners.\n",
      "          However, in lines.inp for this line only 1\n",
      "          names of the collision partners are given.\n",
      "          We will therefore use not all possible partners.\n",
      "\n",
      " In the molecular data file for molecule 2\n",
      "          there are collisional transition rates specified\n",
      "          for 2 collision partners.\n",
      "          However, in lines.inp for this line only 1\n",
      "          names of the collision partners are given.\n",
      "          We will therefore use not all possible partners.\n",
      "\n"
     ]
    },
    {
     "name": "stdout",
     "output_type": "stream",
     "text": [
      "Reading fit2/fit_n0tnvfk0/radmc_gas/CO J=2-1_image.out\n",
      "Reading fit2/fit_n0tnvfk0/radmc_gas/HCN J=3-2_image.out\n",
      "Reading fit2/fit_n0tnvfk0/radmc_gas/HCO+ J=3-2_image.out\n",
      "Reading fit2/fit_n0tnvfk0/radmc_gas/N2H+ J=3-2_image.out\n"
     ]
    },
    {
     "name": "stderr",
     "output_type": "stream",
     "text": [
      "WARNING: PossiblySlowWarning: This function (<function BaseSpectralCube._apply_everywhere at 0x7f8eb335d5e0>) requires loading the entire cube into memory and may therefore be slow. [spectral_cube.utils]\n",
      "WARNING: PossiblySlowWarning: This function (<function BaseSpectralCube.to at 0x7f8eb33619d0>) requires loading the entire cube into memory and may therefore be slow. [spectral_cube.utils]\n",
      "WARNING: PossiblySlowWarning: This function (<function BaseSpectralCube.sum at 0x7f8eb335c670>) requires loading the entire cube into memory and may therefore be slow. [spectral_cube.utils]\n",
      "WARNING: PossiblySlowWarning: This function (<function BaseSpectralCube._apply_everywhere at 0x7f8eb335d5e0>) requires loading the entire cube into memory and may therefore be slow. [spectral_cube.utils]\n",
      "WARNING: PossiblySlowWarning: This function (<function BaseSpectralCube.to at 0x7f8eb33619d0>) requires loading the entire cube into memory and may therefore be slow. [spectral_cube.utils]\n",
      "WARNING: PossiblySlowWarning: This function (<function BaseSpectralCube.sum at 0x7f8eb335c670>) requires loading the entire cube into memory and may therefore be slow. [spectral_cube.utils]\n",
      "WARNING: PossiblySlowWarning: This function (<function BaseSpectralCube._apply_everywhere at 0x7f8eb335d5e0>) requires loading the entire cube into memory and may therefore be slow. [spectral_cube.utils]\n",
      "WARNING: PossiblySlowWarning: This function (<function BaseSpectralCube.to at 0x7f8eb33619d0>) requires loading the entire cube into memory and may therefore be slow. [spectral_cube.utils]\n",
      "WARNING: PossiblySlowWarning: This function (<function BaseSpectralCube.sum at 0x7f8eb335c670>) requires loading the entire cube into memory and may therefore be slow. [spectral_cube.utils]\n",
      "WARNING: PossiblySlowWarning: This function (<function BaseSpectralCube._apply_everywhere at 0x7f8eb335d5e0>) requires loading the entire cube into memory and may therefore be slow. [spectral_cube.utils]\n",
      "WARNING: PossiblySlowWarning: This function (<function BaseSpectralCube.to at 0x7f8eb33619d0>) requires loading the entire cube into memory and may therefore be slow. [spectral_cube.utils]\n",
      "WARNING: PossiblySlowWarning: This function (<function BaseSpectralCube.sum at 0x7f8eb335c670>) requires loading the entire cube into memory and may therefore be slow. [spectral_cube.utils]\n",
      " 50%|█████     | 2/4 [18:09<18:13, 546.90s/it] In the molecular data file for molecule 1\n",
      "          there are collisional transition rates specified\n",
      "          for 2 collision partners.\n",
      "          However, in lines.inp for this line only 1\n",
      "          names of the collision partners are given.\n",
      "          We will therefore use not all possible partners.\n",
      "\n",
      " In the molecular data file for molecule 2\n",
      "          there are collisional transition rates specified\n",
      "          for 2 collision partners.\n",
      "          However, in lines.inp for this line only 1\n",
      "          names of the collision partners are given.\n",
      "          We will therefore use not all possible partners.\n",
      "\n"
     ]
    },
    {
     "name": "stdout",
     "output_type": "stream",
     "text": [
      "Reading fit2/fit_ggfadu2b/radmc_gas/CO J=2-1_image.out\n",
      "Reading fit2/fit_ggfadu2b/radmc_gas/HCN J=3-2_image.out\n",
      "Reading fit2/fit_ggfadu2b/radmc_gas/HCO+ J=3-2_image.out\n",
      "Reading fit2/fit_ggfadu2b/radmc_gas/N2H+ J=3-2_image.out\n"
     ]
    },
    {
     "name": "stderr",
     "output_type": "stream",
     "text": [
      "WARNING: PossiblySlowWarning: This function (<function BaseSpectralCube._apply_everywhere at 0x7f8eb335d5e0>) requires loading the entire cube into memory and may therefore be slow. [spectral_cube.utils]\n",
      "WARNING: PossiblySlowWarning: This function (<function BaseSpectralCube.to at 0x7f8eb33619d0>) requires loading the entire cube into memory and may therefore be slow. [spectral_cube.utils]\n",
      "WARNING: PossiblySlowWarning: This function (<function BaseSpectralCube.sum at 0x7f8eb335c670>) requires loading the entire cube into memory and may therefore be slow. [spectral_cube.utils]\n",
      "WARNING: PossiblySlowWarning: This function (<function BaseSpectralCube._apply_everywhere at 0x7f8eb335d5e0>) requires loading the entire cube into memory and may therefore be slow. [spectral_cube.utils]\n",
      "WARNING: PossiblySlowWarning: This function (<function BaseSpectralCube.to at 0x7f8eb33619d0>) requires loading the entire cube into memory and may therefore be slow. [spectral_cube.utils]\n",
      "WARNING: PossiblySlowWarning: This function (<function BaseSpectralCube.sum at 0x7f8eb335c670>) requires loading the entire cube into memory and may therefore be slow. [spectral_cube.utils]\n",
      "WARNING: PossiblySlowWarning: This function (<function BaseSpectralCube._apply_everywhere at 0x7f8eb335d5e0>) requires loading the entire cube into memory and may therefore be slow. [spectral_cube.utils]\n",
      "WARNING: PossiblySlowWarning: This function (<function BaseSpectralCube.to at 0x7f8eb33619d0>) requires loading the entire cube into memory and may therefore be slow. [spectral_cube.utils]\n",
      "WARNING: PossiblySlowWarning: This function (<function BaseSpectralCube.sum at 0x7f8eb335c670>) requires loading the entire cube into memory and may therefore be slow. [spectral_cube.utils]\n",
      "WARNING: PossiblySlowWarning: This function (<function BaseSpectralCube._apply_everywhere at 0x7f8eb335d5e0>) requires loading the entire cube into memory and may therefore be slow. [spectral_cube.utils]\n",
      "WARNING: PossiblySlowWarning: This function (<function BaseSpectralCube.to at 0x7f8eb33619d0>) requires loading the entire cube into memory and may therefore be slow. [spectral_cube.utils]\n",
      "WARNING: PossiblySlowWarning: This function (<function BaseSpectralCube.sum at 0x7f8eb335c670>) requires loading the entire cube into memory and may therefore be slow. [spectral_cube.utils]\n",
      " In the molecular data file for molecule 1\n",
      "          there are collisional transition rates specified\n",
      "          for 2 collision partners.\n",
      "          However, in lines.inp for this line only 1\n",
      "          names of the collision partners are given.\n",
      "          We will therefore use not all possible partners.\n",
      "\n",
      " In the molecular data file for molecule 2\n",
      "          there are collisional transition rates specified\n",
      "          for 2 collision partners.\n",
      "          However, in lines.inp for this line only 1\n",
      "          names of the collision partners are given.\n",
      "          We will therefore use not all possible partners.\n",
      "\n",
      " In the molecular data file for molecule 1\n",
      "          there are collisional transition rates specified\n",
      "          for 2 collision partners.\n",
      "          However, in lines.inp for this line only 1\n",
      "          names of the collision partners are given.\n",
      "          We will therefore use not all possible partners.\n",
      "\n",
      " In the molecular data file for molecule 2\n",
      "          there are collisional transition rates specified\n",
      "          for 2 collision partners.\n",
      "          However, in lines.inp for this line only 1\n",
      "          names of the collision partners are given.\n",
      "          We will therefore use not all possible partners.\n",
      "\n"
     ]
    },
    {
     "name": "stdout",
     "output_type": "stream",
     "text": [
      "Reading fit2/fit_wa1wpkz8/radmc_gas/CO J=2-1_image.out\n",
      "Reading fit2/fit_wa1wpkz8/radmc_gas/HCN J=3-2_image.out\n",
      "Reading fit2/fit_wa1wpkz8/radmc_gas/HCO+ J=3-2_image.out\n",
      "Reading fit2/fit_53tf8unb/radmc_gas/CO J=2-1_image.out\n",
      "Reading fit2/fit_wa1wpkz8/radmc_gas/N2H+ J=3-2_image.out\n",
      "Reading fit2/fit_53tf8unb/radmc_gas/HCN J=3-2_image.out\n"
     ]
    },
    {
     "name": "stderr",
     "output_type": "stream",
     "text": [
      "WARNING: PossiblySlowWarning: This function (<function BaseSpectralCube._apply_everywhere at 0x7f8eb335d5e0>) requires loading the entire cube into memory and may therefore be slow. [spectral_cube.utils]\n",
      "WARNING: PossiblySlowWarning: This function (<function BaseSpectralCube.to at 0x7f8eb33619d0>) requires loading the entire cube into memory and may therefore be slow. [spectral_cube.utils]\n",
      "WARNING: PossiblySlowWarning: This function (<function BaseSpectralCube.sum at 0x7f8eb335c670>) requires loading the entire cube into memory and may therefore be slow. [spectral_cube.utils]\n"
     ]
    },
    {
     "name": "stdout",
     "output_type": "stream",
     "text": [
      "Reading fit2/fit_53tf8unb/radmc_gas/HCO+ J=3-2_image.out\n"
     ]
    },
    {
     "name": "stderr",
     "output_type": "stream",
     "text": [
      "WARNING: PossiblySlowWarning: This function (<function BaseSpectralCube._apply_everywhere at 0x7f8eb335d5e0>) requires loading the entire cube into memory and may therefore be slow. [spectral_cube.utils]\n",
      "WARNING: PossiblySlowWarning: This function (<function BaseSpectralCube.to at 0x7f8eb33619d0>) requires loading the entire cube into memory and may therefore be slow. [spectral_cube.utils]\n",
      "WARNING: PossiblySlowWarning: This function (<function BaseSpectralCube.sum at 0x7f8eb335c670>) requires loading the entire cube into memory and may therefore be slow. [spectral_cube.utils]\n"
     ]
    },
    {
     "name": "stdout",
     "output_type": "stream",
     "text": [
      "Reading fit2/fit_53tf8unb/radmc_gas/N2H+ J=3-2_image.out\n"
     ]
    },
    {
     "name": "stderr",
     "output_type": "stream",
     "text": [
      "WARNING: PossiblySlowWarning: This function (<function BaseSpectralCube._apply_everywhere at 0x7f8eb335d5e0>) requires loading the entire cube into memory and may therefore be slow. [spectral_cube.utils]\n",
      "WARNING: PossiblySlowWarning: This function (<function BaseSpectralCube.to at 0x7f8eb33619d0>) requires loading the entire cube into memory and may therefore be slow. [spectral_cube.utils]\n",
      "WARNING: PossiblySlowWarning: This function (<function BaseSpectralCube.sum at 0x7f8eb335c670>) requires loading the entire cube into memory and may therefore be slow. [spectral_cube.utils]\n",
      "WARNING: PossiblySlowWarning: This function (<function BaseSpectralCube._apply_everywhere at 0x7f8eb335d5e0>) requires loading the entire cube into memory and may therefore be slow. [spectral_cube.utils]\n",
      "WARNING: PossiblySlowWarning: This function (<function BaseSpectralCube.to at 0x7f8eb33619d0>) requires loading the entire cube into memory and may therefore be slow. [spectral_cube.utils]\n",
      "WARNING: PossiblySlowWarning: This function (<function BaseSpectralCube.sum at 0x7f8eb335c670>) requires loading the entire cube into memory and may therefore be slow. [spectral_cube.utils]\n",
      "WARNING: PossiblySlowWarning: This function (<function BaseSpectralCube._apply_everywhere at 0x7f8eb335d5e0>) requires loading the entire cube into memory and may therefore be slow. [spectral_cube.utils]\n",
      "WARNING: PossiblySlowWarning: This function (<function BaseSpectralCube.to at 0x7f8eb33619d0>) requires loading the entire cube into memory and may therefore be slow. [spectral_cube.utils]\n",
      "WARNING: PossiblySlowWarning: This function (<function BaseSpectralCube.sum at 0x7f8eb335c670>) requires loading the entire cube into memory and may therefore be slow. [spectral_cube.utils]\n",
      "WARNING: PossiblySlowWarning: This function (<function BaseSpectralCube._apply_everywhere at 0x7f8eb335d5e0>) requires loading the entire cube into memory and may therefore be slow. [spectral_cube.utils]\n",
      "WARNING: PossiblySlowWarning: This function (<function BaseSpectralCube.to at 0x7f8eb33619d0>) requires loading the entire cube into memory and may therefore be slow. [spectral_cube.utils]\n",
      "WARNING: PossiblySlowWarning: This function (<function BaseSpectralCube.sum at 0x7f8eb335c670>) requires loading the entire cube into memory and may therefore be slow. [spectral_cube.utils]\n",
      "WARNING: PossiblySlowWarning: This function (<function BaseSpectralCube._apply_everywhere at 0x7f8eb335d5e0>) requires loading the entire cube into memory and may therefore be slow. [spectral_cube.utils]\n",
      "WARNING: PossiblySlowWarning: This function (<function BaseSpectralCube.to at 0x7f8eb33619d0>) requires loading the entire cube into memory and may therefore be slow. [spectral_cube.utils]\n",
      "WARNING: PossiblySlowWarning: This function (<function BaseSpectralCube.sum at 0x7f8eb335c670>) requires loading the entire cube into memory and may therefore be slow. [spectral_cube.utils]\n",
      "WARNING: PossiblySlowWarning: This function (<function BaseSpectralCube._apply_everywhere at 0x7f8eb335d5e0>) requires loading the entire cube into memory and may therefore be slow. [spectral_cube.utils]\n",
      "WARNING: PossiblySlowWarning: This function (<function BaseSpectralCube.to at 0x7f8eb33619d0>) requires loading the entire cube into memory and may therefore be slow. [spectral_cube.utils]\n",
      "WARNING: PossiblySlowWarning: This function (<function BaseSpectralCube.sum at 0x7f8eb335c670>) requires loading the entire cube into memory and may therefore be slow. [spectral_cube.utils]\n",
      " In the molecular data file for molecule 1\n",
      "          there are collisional transition rates specified\n",
      "          for 2 collision partners.\n",
      "          However, in lines.inp for this line only 1\n",
      "          names of the collision partners are given.\n",
      "          We will therefore use not all possible partners.\n",
      "\n",
      " In the molecular data file for molecule 2\n",
      "          there are collisional transition rates specified\n",
      "          for 2 collision partners.\n",
      "          However, in lines.inp for this line only 1\n",
      "          names of the collision partners are given.\n",
      "          We will therefore use not all possible partners.\n",
      "\n"
     ]
    },
    {
     "name": "stdout",
     "output_type": "stream",
     "text": [
      "Reading fit2/fit_rkzq0vyl/radmc_gas/CO J=2-1_image.out\n",
      "Reading fit2/fit_rkzq0vyl/radmc_gas/HCN J=3-2_image.out\n",
      "Reading fit2/fit_rkzq0vyl/radmc_gas/HCO+ J=3-2_image.out\n",
      "Reading fit2/fit_rkzq0vyl/radmc_gas/N2H+ J=3-2_image.out\n"
     ]
    },
    {
     "name": "stderr",
     "output_type": "stream",
     "text": [
      "WARNING: PossiblySlowWarning: This function (<function BaseSpectralCube._apply_everywhere at 0x7f8eb335d5e0>) requires loading the entire cube into memory and may therefore be slow. [spectral_cube.utils]\n",
      "WARNING: PossiblySlowWarning: This function (<function BaseSpectralCube.to at 0x7f8eb33619d0>) requires loading the entire cube into memory and may therefore be slow. [spectral_cube.utils]\n",
      "WARNING: PossiblySlowWarning: This function (<function BaseSpectralCube.sum at 0x7f8eb335c670>) requires loading the entire cube into memory and may therefore be slow. [spectral_cube.utils]\n",
      "WARNING: PossiblySlowWarning: This function (<function BaseSpectralCube._apply_everywhere at 0x7f8eb335d5e0>) requires loading the entire cube into memory and may therefore be slow. [spectral_cube.utils]\n",
      "WARNING: PossiblySlowWarning: This function (<function BaseSpectralCube.to at 0x7f8eb33619d0>) requires loading the entire cube into memory and may therefore be slow. [spectral_cube.utils]\n",
      "WARNING: PossiblySlowWarning: This function (<function BaseSpectralCube.sum at 0x7f8eb335c670>) requires loading the entire cube into memory and may therefore be slow. [spectral_cube.utils]\n",
      "WARNING: PossiblySlowWarning: This function (<function BaseSpectralCube._apply_everywhere at 0x7f8eb335d5e0>) requires loading the entire cube into memory and may therefore be slow. [spectral_cube.utils]\n",
      "WARNING: PossiblySlowWarning: This function (<function BaseSpectralCube.to at 0x7f8eb33619d0>) requires loading the entire cube into memory and may therefore be slow. [spectral_cube.utils]\n",
      "WARNING: PossiblySlowWarning: This function (<function BaseSpectralCube.sum at 0x7f8eb335c670>) requires loading the entire cube into memory and may therefore be slow. [spectral_cube.utils]\n",
      "WARNING: PossiblySlowWarning: This function (<function BaseSpectralCube._apply_everywhere at 0x7f8eb335d5e0>) requires loading the entire cube into memory and may therefore be slow. [spectral_cube.utils]\n",
      "WARNING: PossiblySlowWarning: This function (<function BaseSpectralCube.to at 0x7f8eb33619d0>) requires loading the entire cube into memory and may therefore be slow. [spectral_cube.utils]\n",
      "WARNING: PossiblySlowWarning: This function (<function BaseSpectralCube.sum at 0x7f8eb335c670>) requires loading the entire cube into memory and may therefore be slow. [spectral_cube.utils]\n",
      " In the molecular data file for molecule 1\n",
      "          there are collisional transition rates specified\n",
      "          for 2 collision partners.\n",
      "          However, in lines.inp for this line only 1\n",
      "          names of the collision partners are given.\n",
      "          We will therefore use not all possible partners.\n",
      "\n",
      " In the molecular data file for molecule 2\n",
      "          there are collisional transition rates specified\n",
      "          for 2 collision partners.\n",
      "          However, in lines.inp for this line only 1\n",
      "          names of the collision partners are given.\n",
      "          We will therefore use not all possible partners.\n",
      "\n"
     ]
    },
    {
     "name": "stdout",
     "output_type": "stream",
     "text": [
      "Reading fit2/fit_tht1hkuc/radmc_gas/CO J=2-1_image.out\n"
     ]
    },
    {
     "name": "stderr",
     "output_type": "stream",
     "text": [
      " In the molecular data file for molecule 1\n",
      "          there are collisional transition rates specified\n",
      "          for 2 collision partners.\n",
      "          However, in lines.inp for this line only 1\n",
      "          names of the collision partners are given.\n",
      "          We will therefore use not all possible partners.\n",
      "\n",
      " In the molecular data file for molecule 2\n",
      "          there are collisional transition rates specified\n",
      "          for 2 collision partners.\n",
      "          However, in lines.inp for this line only 1\n",
      "          names of the collision partners are given.\n",
      "          We will therefore use not all possible partners.\n",
      "\n"
     ]
    },
    {
     "name": "stdout",
     "output_type": "stream",
     "text": [
      "Reading fit2/fit_tht1hkuc/radmc_gas/HCN J=3-2_image.out\n",
      "Reading fit2/fit_tht1hkuc/radmc_gas/HCO+ J=3-2_image.out\n",
      "Reading fit2/fit_xdc00cb_/radmc_gas/CO J=2-1_image.out\n",
      "Reading fit2/fit_tht1hkuc/radmc_gas/N2H+ J=3-2_image.out\n"
     ]
    },
    {
     "name": "stderr",
     "output_type": "stream",
     "text": [
      " In the molecular data file for molecule 1\n",
      "          there are collisional transition rates specified\n",
      "          for 2 collision partners.\n",
      "          However, in lines.inp for this line only 1\n",
      "          names of the collision partners are given.\n",
      "          We will therefore use not all possible partners.\n",
      "\n",
      " In the molecular data file for molecule 2\n",
      "          there are collisional transition rates specified\n",
      "          for 2 collision partners.\n",
      "          However, in lines.inp for this line only 1\n",
      "          names of the collision partners are given.\n",
      "          We will therefore use not all possible partners.\n",
      "\n"
     ]
    },
    {
     "name": "stdout",
     "output_type": "stream",
     "text": [
      "Reading fit2/fit_xdc00cb_/radmc_gas/HCN J=3-2_image.out\n"
     ]
    },
    {
     "name": "stderr",
     "output_type": "stream",
     "text": [
      "WARNING: PossiblySlowWarning: This function (<function BaseSpectralCube._apply_everywhere at 0x7f8eb335d5e0>) requires loading the entire cube into memory and may therefore be slow. [spectral_cube.utils]\n",
      "WARNING: PossiblySlowWarning: This function (<function BaseSpectralCube.to at 0x7f8eb33619d0>) requires loading the entire cube into memory and may therefore be slow. [spectral_cube.utils]\n",
      "WARNING: PossiblySlowWarning: This function (<function BaseSpectralCube.sum at 0x7f8eb335c670>) requires loading the entire cube into memory and may therefore be slow. [spectral_cube.utils]\n"
     ]
    },
    {
     "name": "stdout",
     "output_type": "stream",
     "text": [
      "Reading fit2/fit_xdc00cb_/radmc_gas/HCO+ J=3-2_image.out\n"
     ]
    },
    {
     "name": "stderr",
     "output_type": "stream",
     "text": [
      "WARNING: PossiblySlowWarning: This function (<function BaseSpectralCube._apply_everywhere at 0x7f8eb335d5e0>) requires loading the entire cube into memory and may therefore be slow. [spectral_cube.utils]\n",
      "WARNING: PossiblySlowWarning: This function (<function BaseSpectralCube.to at 0x7f8eb33619d0>) requires loading the entire cube into memory and may therefore be slow. [spectral_cube.utils]\n",
      "WARNING: PossiblySlowWarning: This function (<function BaseSpectralCube.sum at 0x7f8eb335c670>) requires loading the entire cube into memory and may therefore be slow. [spectral_cube.utils]\n",
      "WARNING: PossiblySlowWarning: This function (<function BaseSpectralCube._apply_everywhere at 0x7f8eb335d5e0>) requires loading the entire cube into memory and may therefore be slow. [spectral_cube.utils]\n"
     ]
    },
    {
     "name": "stdout",
     "output_type": "stream",
     "text": [
      "Reading fit2/fit_xdc00cb_/radmc_gas/N2H+ J=3-2_image.out\n"
     ]
    },
    {
     "name": "stderr",
     "output_type": "stream",
     "text": [
      "WARNING: PossiblySlowWarning: This function (<function BaseSpectralCube.to at 0x7f8eb33619d0>) requires loading the entire cube into memory and may therefore be slow. [spectral_cube.utils]\n",
      "WARNING: PossiblySlowWarning: This function (<function BaseSpectralCube.sum at 0x7f8eb335c670>) requires loading the entire cube into memory and may therefore be slow. [spectral_cube.utils]\n"
     ]
    },
    {
     "name": "stdout",
     "output_type": "stream",
     "text": [
      "Reading fit2/fit_6gc6vffy/radmc_gas/CO J=2-1_image.out\n"
     ]
    },
    {
     "name": "stderr",
     "output_type": "stream",
     "text": [
      "WARNING: PossiblySlowWarning: This function (<function BaseSpectralCube._apply_everywhere at 0x7f8eb335d5e0>) requires loading the entire cube into memory and may therefore be slow. [spectral_cube.utils]\n",
      "WARNING: PossiblySlowWarning: This function (<function BaseSpectralCube.to at 0x7f8eb33619d0>) requires loading the entire cube into memory and may therefore be slow. [spectral_cube.utils]\n",
      "WARNING: PossiblySlowWarning: This function (<function BaseSpectralCube.sum at 0x7f8eb335c670>) requires loading the entire cube into memory and may therefore be slow. [spectral_cube.utils]\n",
      "WARNING: PossiblySlowWarning: This function (<function BaseSpectralCube._apply_everywhere at 0x7f8eb335d5e0>) requires loading the entire cube into memory and may therefore be slow. [spectral_cube.utils]\n",
      "WARNING: PossiblySlowWarning: This function (<function BaseSpectralCube.to at 0x7f8eb33619d0>) requires loading the entire cube into memory and may therefore be slow. [spectral_cube.utils]\n",
      "WARNING: PossiblySlowWarning: This function (<function BaseSpectralCube.sum at 0x7f8eb335c670>) requires loading the entire cube into memory and may therefore be slow. [spectral_cube.utils]\n"
     ]
    },
    {
     "name": "stdout",
     "output_type": "stream",
     "text": [
      "Reading fit2/fit_6gc6vffy/radmc_gas/HCN J=3-2_image.out\n"
     ]
    },
    {
     "name": "stderr",
     "output_type": "stream",
     "text": [
      "WARNING: PossiblySlowWarning: This function (<function BaseSpectralCube._apply_everywhere at 0x7f8eb335d5e0>) requires loading the entire cube into memory and may therefore be slow. [spectral_cube.utils]\n",
      "WARNING: PossiblySlowWarning: This function (<function BaseSpectralCube.to at 0x7f8eb33619d0>) requires loading the entire cube into memory and may therefore be slow. [spectral_cube.utils]\n",
      "WARNING: PossiblySlowWarning: This function (<function BaseSpectralCube.sum at 0x7f8eb335c670>) requires loading the entire cube into memory and may therefore be slow. [spectral_cube.utils]\n",
      "WARNING: PossiblySlowWarning: This function (<function BaseSpectralCube._apply_everywhere at 0x7f8eb335d5e0>) requires loading the entire cube into memory and may therefore be slow. [spectral_cube.utils]\n"
     ]
    },
    {
     "name": "stdout",
     "output_type": "stream",
     "text": [
      "Reading fit2/fit_6gc6vffy/radmc_gas/HCO+ J=3-2_image.out\n"
     ]
    },
    {
     "name": "stderr",
     "output_type": "stream",
     "text": [
      "WARNING: PossiblySlowWarning: This function (<function BaseSpectralCube.to at 0x7f8eb33619d0>) requires loading the entire cube into memory and may therefore be slow. [spectral_cube.utils]\n",
      "WARNING: PossiblySlowWarning: This function (<function BaseSpectralCube.sum at 0x7f8eb335c670>) requires loading the entire cube into memory and may therefore be slow. [spectral_cube.utils]\n",
      "WARNING: PossiblySlowWarning: This function (<function BaseSpectralCube._apply_everywhere at 0x7f8eb335d5e0>) requires loading the entire cube into memory and may therefore be slow. [spectral_cube.utils]\n"
     ]
    },
    {
     "name": "stdout",
     "output_type": "stream",
     "text": [
      "Reading fit2/fit_6gc6vffy/radmc_gas/N2H+ J=3-2_image.out\n"
     ]
    },
    {
     "name": "stderr",
     "output_type": "stream",
     "text": [
      "WARNING: PossiblySlowWarning: This function (<function BaseSpectralCube.to at 0x7f8eb33619d0>) requires loading the entire cube into memory and may therefore be slow. [spectral_cube.utils]\n",
      "WARNING: PossiblySlowWarning: This function (<function BaseSpectralCube.sum at 0x7f8eb335c670>) requires loading the entire cube into memory and may therefore be slow. [spectral_cube.utils]\n",
      "WARNING: PossiblySlowWarning: This function (<function BaseSpectralCube._apply_everywhere at 0x7f8eb335d5e0>) requires loading the entire cube into memory and may therefore be slow. [spectral_cube.utils]\n",
      "WARNING: PossiblySlowWarning: This function (<function BaseSpectralCube.to at 0x7f8eb33619d0>) requires loading the entire cube into memory and may therefore be slow. [spectral_cube.utils]\n",
      "WARNING: PossiblySlowWarning: This function (<function BaseSpectralCube.sum at 0x7f8eb335c670>) requires loading the entire cube into memory and may therefore be slow. [spectral_cube.utils]\n",
      "WARNING: PossiblySlowWarning: This function (<function BaseSpectralCube._apply_everywhere at 0x7f8eb335d5e0>) requires loading the entire cube into memory and may therefore be slow. [spectral_cube.utils]\n",
      "WARNING: PossiblySlowWarning: This function (<function BaseSpectralCube.to at 0x7f8eb33619d0>) requires loading the entire cube into memory and may therefore be slow. [spectral_cube.utils]\n",
      "WARNING: PossiblySlowWarning: This function (<function BaseSpectralCube.sum at 0x7f8eb335c670>) requires loading the entire cube into memory and may therefore be slow. [spectral_cube.utils]\n",
      "WARNING: PossiblySlowWarning: This function (<function BaseSpectralCube._apply_everywhere at 0x7f8eb335d5e0>) requires loading the entire cube into memory and may therefore be slow. [spectral_cube.utils]\n",
      "WARNING: PossiblySlowWarning: This function (<function BaseSpectralCube.to at 0x7f8eb33619d0>) requires loading the entire cube into memory and may therefore be slow. [spectral_cube.utils]\n",
      "WARNING: PossiblySlowWarning: This function (<function BaseSpectralCube.sum at 0x7f8eb335c670>) requires loading the entire cube into memory and may therefore be slow. [spectral_cube.utils]\n",
      "WARNING: PossiblySlowWarning: This function (<function BaseSpectralCube._apply_everywhere at 0x7f8eb335d5e0>) requires loading the entire cube into memory and may therefore be slow. [spectral_cube.utils]\n",
      "WARNING: PossiblySlowWarning: This function (<function BaseSpectralCube.to at 0x7f8eb33619d0>) requires loading the entire cube into memory and may therefore be slow. [spectral_cube.utils]\n",
      "WARNING: PossiblySlowWarning: This function (<function BaseSpectralCube.sum at 0x7f8eb335c670>) requires loading the entire cube into memory and may therefore be slow. [spectral_cube.utils]\n",
      " In the molecular data file for molecule 1\n",
      "          there are collisional transition rates specified\n",
      "          for 2 collision partners.\n",
      "          However, in lines.inp for this line only 1\n",
      "          names of the collision partners are given.\n",
      "          We will therefore use not all possible partners.\n",
      "\n",
      " In the molecular data file for molecule 2\n",
      "          there are collisional transition rates specified\n",
      "          for 2 collision partners.\n",
      "          However, in lines.inp for this line only 1\n",
      "          names of the collision partners are given.\n",
      "          We will therefore use not all possible partners.\n",
      "\n"
     ]
    },
    {
     "name": "stdout",
     "output_type": "stream",
     "text": [
      "Reading fit2/fit__5u9j2dk/radmc_gas/CO J=2-1_image.out\n",
      "Reading fit2/fit__5u9j2dk/radmc_gas/HCN J=3-2_image.out\n",
      "Reading fit2/fit__5u9j2dk/radmc_gas/HCO+ J=3-2_image.out\n",
      "Reading fit2/fit__5u9j2dk/radmc_gas/N2H+ J=3-2_image.out\n"
     ]
    },
    {
     "name": "stderr",
     "output_type": "stream",
     "text": [
      "WARNING: PossiblySlowWarning: This function (<function BaseSpectralCube._apply_everywhere at 0x7f8eb335d5e0>) requires loading the entire cube into memory and may therefore be slow. [spectral_cube.utils]\n",
      "WARNING: PossiblySlowWarning: This function (<function BaseSpectralCube.to at 0x7f8eb33619d0>) requires loading the entire cube into memory and may therefore be slow. [spectral_cube.utils]\n",
      "WARNING: PossiblySlowWarning: This function (<function BaseSpectralCube.sum at 0x7f8eb335c670>) requires loading the entire cube into memory and may therefore be slow. [spectral_cube.utils]\n",
      "WARNING: PossiblySlowWarning: This function (<function BaseSpectralCube._apply_everywhere at 0x7f8eb335d5e0>) requires loading the entire cube into memory and may therefore be slow. [spectral_cube.utils]\n",
      "WARNING: PossiblySlowWarning: This function (<function BaseSpectralCube.to at 0x7f8eb33619d0>) requires loading the entire cube into memory and may therefore be slow. [spectral_cube.utils]\n",
      "WARNING: PossiblySlowWarning: This function (<function BaseSpectralCube.sum at 0x7f8eb335c670>) requires loading the entire cube into memory and may therefore be slow. [spectral_cube.utils]\n",
      "WARNING: PossiblySlowWarning: This function (<function BaseSpectralCube._apply_everywhere at 0x7f8eb335d5e0>) requires loading the entire cube into memory and may therefore be slow. [spectral_cube.utils]\n",
      "WARNING: PossiblySlowWarning: This function (<function BaseSpectralCube.to at 0x7f8eb33619d0>) requires loading the entire cube into memory and may therefore be slow. [spectral_cube.utils]\n",
      "WARNING: PossiblySlowWarning: This function (<function BaseSpectralCube.sum at 0x7f8eb335c670>) requires loading the entire cube into memory and may therefore be slow. [spectral_cube.utils]\n",
      "WARNING: PossiblySlowWarning: This function (<function BaseSpectralCube._apply_everywhere at 0x7f8eb335d5e0>) requires loading the entire cube into memory and may therefore be slow. [spectral_cube.utils]\n",
      "WARNING: PossiblySlowWarning: This function (<function BaseSpectralCube.to at 0x7f8eb33619d0>) requires loading the entire cube into memory and may therefore be slow. [spectral_cube.utils]\n",
      "WARNING: PossiblySlowWarning: This function (<function BaseSpectralCube.sum at 0x7f8eb335c670>) requires loading the entire cube into memory and may therefore be slow. [spectral_cube.utils]\n",
      " 75%|███████▌  | 3/4 [26:40<08:50, 530.13s/it] In the molecular data file for molecule 1\n",
      "          there are collisional transition rates specified\n",
      "          for 2 collision partners.\n",
      "          However, in lines.inp for this line only 1\n",
      "          names of the collision partners are given.\n",
      "          We will therefore use not all possible partners.\n",
      "\n",
      " In the molecular data file for molecule 2\n",
      "          there are collisional transition rates specified\n",
      "          for 2 collision partners.\n",
      "          However, in lines.inp for this line only 1\n",
      "          names of the collision partners are given.\n",
      "          We will therefore use not all possible partners.\n",
      "\n"
     ]
    },
    {
     "name": "stdout",
     "output_type": "stream",
     "text": [
      "Reading fit2/fit_6mmt48ow/radmc_gas/CO J=2-1_image.out\n"
     ]
    },
    {
     "name": "stderr",
     "output_type": "stream",
     "text": [
      " In the molecular data file for molecule 1\n",
      "          there are collisional transition rates specified\n",
      "          for 2 collision partners.\n",
      "          However, in lines.inp for this line only 1\n",
      "          names of the collision partners are given.\n",
      "          We will therefore use not all possible partners.\n",
      "\n",
      " In the molecular data file for molecule 2\n",
      "          there are collisional transition rates specified\n",
      "          for 2 collision partners.\n",
      "          However, in lines.inp for this line only 1\n",
      "          names of the collision partners are given.\n",
      "          We will therefore use not all possible partners.\n",
      "\n"
     ]
    },
    {
     "name": "stdout",
     "output_type": "stream",
     "text": [
      "Reading fit2/fit_6mmt48ow/radmc_gas/HCN J=3-2_image.out\n",
      "Reading fit2/fit_6mmt48ow/radmc_gas/HCO+ J=3-2_image.out\n",
      "Reading fit2/fit_6mmt48ow/radmc_gas/N2H+ J=3-2_image.out\n",
      "Reading fit2/fit_037sr90z/radmc_gas/CO J=2-1_image.out\n",
      "Reading fit2/fit_037sr90z/radmc_gas/HCN J=3-2_image.out\n"
     ]
    },
    {
     "name": "stderr",
     "output_type": "stream",
     "text": [
      "WARNING: PossiblySlowWarning: This function (<function BaseSpectralCube._apply_everywhere at 0x7f8eb335d5e0>) requires loading the entire cube into memory and may therefore be slow. [spectral_cube.utils]\n",
      "WARNING: PossiblySlowWarning: This function (<function BaseSpectralCube.to at 0x7f8eb33619d0>) requires loading the entire cube into memory and may therefore be slow. [spectral_cube.utils]\n",
      "WARNING: PossiblySlowWarning: This function (<function BaseSpectralCube.sum at 0x7f8eb335c670>) requires loading the entire cube into memory and may therefore be slow. [spectral_cube.utils]\n",
      "WARNING: PossiblySlowWarning: This function (<function BaseSpectralCube._apply_everywhere at 0x7f8eb335d5e0>) requires loading the entire cube into memory and may therefore be slow. [spectral_cube.utils]\n"
     ]
    },
    {
     "name": "stdout",
     "output_type": "stream",
     "text": [
      "Reading fit2/fit_037sr90z/radmc_gas/HCO+ J=3-2_image.out\n"
     ]
    },
    {
     "name": "stderr",
     "output_type": "stream",
     "text": [
      "WARNING: PossiblySlowWarning: This function (<function BaseSpectralCube.to at 0x7f8eb33619d0>) requires loading the entire cube into memory and may therefore be slow. [spectral_cube.utils]\n",
      "WARNING: PossiblySlowWarning: This function (<function BaseSpectralCube.sum at 0x7f8eb335c670>) requires loading the entire cube into memory and may therefore be slow. [spectral_cube.utils]\n",
      "WARNING: PossiblySlowWarning: This function (<function BaseSpectralCube._apply_everywhere at 0x7f8eb335d5e0>) requires loading the entire cube into memory and may therefore be slow. [spectral_cube.utils]\n",
      "WARNING: PossiblySlowWarning: This function (<function BaseSpectralCube.to at 0x7f8eb33619d0>) requires loading the entire cube into memory and may therefore be slow. [spectral_cube.utils]\n",
      "WARNING: PossiblySlowWarning: This function (<function BaseSpectralCube.sum at 0x7f8eb335c670>) requires loading the entire cube into memory and may therefore be slow. [spectral_cube.utils]\n"
     ]
    },
    {
     "name": "stdout",
     "output_type": "stream",
     "text": [
      "Reading fit2/fit_037sr90z/radmc_gas/N2H+ J=3-2_image.out\n"
     ]
    },
    {
     "name": "stderr",
     "output_type": "stream",
     "text": [
      "WARNING: PossiblySlowWarning: This function (<function BaseSpectralCube._apply_everywhere at 0x7f8eb335d5e0>) requires loading the entire cube into memory and may therefore be slow. [spectral_cube.utils]\n",
      "WARNING: PossiblySlowWarning: This function (<function BaseSpectralCube.to at 0x7f8eb33619d0>) requires loading the entire cube into memory and may therefore be slow. [spectral_cube.utils]\n",
      "WARNING: PossiblySlowWarning: This function (<function BaseSpectralCube.sum at 0x7f8eb335c670>) requires loading the entire cube into memory and may therefore be slow. [spectral_cube.utils]\n",
      "WARNING: PossiblySlowWarning: This function (<function BaseSpectralCube._apply_everywhere at 0x7f8eb335d5e0>) requires loading the entire cube into memory and may therefore be slow. [spectral_cube.utils]\n",
      "WARNING: PossiblySlowWarning: This function (<function BaseSpectralCube.to at 0x7f8eb33619d0>) requires loading the entire cube into memory and may therefore be slow. [spectral_cube.utils]\n",
      "WARNING: PossiblySlowWarning: This function (<function BaseSpectralCube.sum at 0x7f8eb335c670>) requires loading the entire cube into memory and may therefore be slow. [spectral_cube.utils]\n",
      "WARNING: PossiblySlowWarning: This function (<function BaseSpectralCube._apply_everywhere at 0x7f8eb335d5e0>) requires loading the entire cube into memory and may therefore be slow. [spectral_cube.utils]\n",
      "WARNING: PossiblySlowWarning: This function (<function BaseSpectralCube.to at 0x7f8eb33619d0>) requires loading the entire cube into memory and may therefore be slow. [spectral_cube.utils]\n",
      "WARNING: PossiblySlowWarning: This function (<function BaseSpectralCube.sum at 0x7f8eb335c670>) requires loading the entire cube into memory and may therefore be slow. [spectral_cube.utils]\n",
      "WARNING: PossiblySlowWarning: This function (<function BaseSpectralCube._apply_everywhere at 0x7f8eb335d5e0>) requires loading the entire cube into memory and may therefore be slow. [spectral_cube.utils]\n",
      "WARNING: PossiblySlowWarning: This function (<function BaseSpectralCube.to at 0x7f8eb33619d0>) requires loading the entire cube into memory and may therefore be slow. [spectral_cube.utils]\n",
      "WARNING: PossiblySlowWarning: This function (<function BaseSpectralCube.sum at 0x7f8eb335c670>) requires loading the entire cube into memory and may therefore be slow. [spectral_cube.utils]\n",
      "WARNING: PossiblySlowWarning: This function (<function BaseSpectralCube._apply_everywhere at 0x7f8eb335d5e0>) requires loading the entire cube into memory and may therefore be slow. [spectral_cube.utils]\n",
      "WARNING: PossiblySlowWarning: This function (<function BaseSpectralCube.to at 0x7f8eb33619d0>) requires loading the entire cube into memory and may therefore be slow. [spectral_cube.utils]\n",
      "WARNING: PossiblySlowWarning: This function (<function BaseSpectralCube.sum at 0x7f8eb335c670>) requires loading the entire cube into memory and may therefore be slow. [spectral_cube.utils]\n",
      " In the molecular data file for molecule 1\n",
      "          there are collisional transition rates specified\n",
      "          for 2 collision partners.\n",
      "          However, in lines.inp for this line only 1\n",
      "          names of the collision partners are given.\n",
      "          We will therefore use not all possible partners.\n",
      "\n",
      " In the molecular data file for molecule 2\n",
      "          there are collisional transition rates specified\n",
      "          for 2 collision partners.\n",
      "          However, in lines.inp for this line only 1\n",
      "          names of the collision partners are given.\n",
      "          We will therefore use not all possible partners.\n",
      "\n"
     ]
    },
    {
     "name": "stdout",
     "output_type": "stream",
     "text": [
      "Reading fit2/fit_z_1kh8mt/radmc_gas/CO J=2-1_image.out\n",
      "Reading fit2/fit_z_1kh8mt/radmc_gas/HCN J=3-2_image.out\n",
      "Reading fit2/fit_z_1kh8mt/radmc_gas/HCO+ J=3-2_image.out\n",
      "Reading fit2/fit_z_1kh8mt/radmc_gas/N2H+ J=3-2_image.out\n"
     ]
    },
    {
     "name": "stderr",
     "output_type": "stream",
     "text": [
      "WARNING: PossiblySlowWarning: This function (<function BaseSpectralCube._apply_everywhere at 0x7f8eb335d5e0>) requires loading the entire cube into memory and may therefore be slow. [spectral_cube.utils]\n",
      "WARNING: PossiblySlowWarning: This function (<function BaseSpectralCube.to at 0x7f8eb33619d0>) requires loading the entire cube into memory and may therefore be slow. [spectral_cube.utils]\n",
      "WARNING: PossiblySlowWarning: This function (<function BaseSpectralCube.sum at 0x7f8eb335c670>) requires loading the entire cube into memory and may therefore be slow. [spectral_cube.utils]\n",
      "WARNING: PossiblySlowWarning: This function (<function BaseSpectralCube._apply_everywhere at 0x7f8eb335d5e0>) requires loading the entire cube into memory and may therefore be slow. [spectral_cube.utils]\n",
      "WARNING: PossiblySlowWarning: This function (<function BaseSpectralCube.to at 0x7f8eb33619d0>) requires loading the entire cube into memory and may therefore be slow. [spectral_cube.utils]\n",
      "WARNING: PossiblySlowWarning: This function (<function BaseSpectralCube.sum at 0x7f8eb335c670>) requires loading the entire cube into memory and may therefore be slow. [spectral_cube.utils]\n",
      "WARNING: PossiblySlowWarning: This function (<function BaseSpectralCube._apply_everywhere at 0x7f8eb335d5e0>) requires loading the entire cube into memory and may therefore be slow. [spectral_cube.utils]\n",
      "WARNING: PossiblySlowWarning: This function (<function BaseSpectralCube.to at 0x7f8eb33619d0>) requires loading the entire cube into memory and may therefore be slow. [spectral_cube.utils]\n",
      "WARNING: PossiblySlowWarning: This function (<function BaseSpectralCube.sum at 0x7f8eb335c670>) requires loading the entire cube into memory and may therefore be slow. [spectral_cube.utils]\n",
      "WARNING: PossiblySlowWarning: This function (<function BaseSpectralCube._apply_everywhere at 0x7f8eb335d5e0>) requires loading the entire cube into memory and may therefore be slow. [spectral_cube.utils]\n",
      "WARNING: PossiblySlowWarning: This function (<function BaseSpectralCube.to at 0x7f8eb33619d0>) requires loading the entire cube into memory and may therefore be slow. [spectral_cube.utils]\n",
      "WARNING: PossiblySlowWarning: This function (<function BaseSpectralCube.sum at 0x7f8eb335c670>) requires loading the entire cube into memory and may therefore be slow. [spectral_cube.utils]\n",
      " In the molecular data file for molecule 1\n",
      "          there are collisional transition rates specified\n",
      "          for 2 collision partners.\n",
      "          However, in lines.inp for this line only 1\n",
      "          names of the collision partners are given.\n",
      "          We will therefore use not all possible partners.\n",
      "\n",
      " In the molecular data file for molecule 2\n",
      "          there are collisional transition rates specified\n",
      "          for 2 collision partners.\n",
      "          However, in lines.inp for this line only 1\n",
      "          names of the collision partners are given.\n",
      "          We will therefore use not all possible partners.\n",
      "\n"
     ]
    },
    {
     "name": "stdout",
     "output_type": "stream",
     "text": [
      "Reading fit2/fit_z3cory4n/radmc_gas/CO J=2-1_image.out\n",
      "Reading fit2/fit_z3cory4n/radmc_gas/HCN J=3-2_image.out\n"
     ]
    },
    {
     "name": "stderr",
     "output_type": "stream",
     "text": [
      " In the molecular data file for molecule 1\n",
      "          there are collisional transition rates specified\n",
      "          for 2 collision partners.\n",
      "          However, in lines.inp for this line only 1\n",
      "          names of the collision partners are given.\n",
      "          We will therefore use not all possible partners.\n",
      "\n",
      " In the molecular data file for molecule 2\n",
      "          there are collisional transition rates specified\n",
      "          for 2 collision partners.\n",
      "          However, in lines.inp for this line only 1\n",
      "          names of the collision partners are given.\n",
      "          We will therefore use not all possible partners.\n",
      "\n"
     ]
    },
    {
     "name": "stdout",
     "output_type": "stream",
     "text": [
      "Reading fit2/fit_z3cory4n/radmc_gas/HCO+ J=3-2_image.out\n",
      "Reading fit2/fit_z3cory4n/radmc_gas/N2H+ J=3-2_image.out\n"
     ]
    },
    {
     "name": "stderr",
     "output_type": "stream",
     "text": [
      "WARNING: PossiblySlowWarning: This function (<function BaseSpectralCube._apply_everywhere at 0x7f8eb335d5e0>) requires loading the entire cube into memory and may therefore be slow. [spectral_cube.utils]\n"
     ]
    },
    {
     "name": "stdout",
     "output_type": "stream",
     "text": [
      "Reading fit2/fit__6mz107p/radmc_gas/CO J=2-1_image.out\n"
     ]
    },
    {
     "name": "stderr",
     "output_type": "stream",
     "text": [
      "WARNING: PossiblySlowWarning: This function (<function BaseSpectralCube.to at 0x7f8eb33619d0>) requires loading the entire cube into memory and may therefore be slow. [spectral_cube.utils]\n",
      "WARNING: PossiblySlowWarning: This function (<function BaseSpectralCube.sum at 0x7f8eb335c670>) requires loading the entire cube into memory and may therefore be slow. [spectral_cube.utils]\n",
      "WARNING: PossiblySlowWarning: This function (<function BaseSpectralCube._apply_everywhere at 0x7f8eb335d5e0>) requires loading the entire cube into memory and may therefore be slow. [spectral_cube.utils]\n",
      "WARNING: PossiblySlowWarning: This function (<function BaseSpectralCube.to at 0x7f8eb33619d0>) requires loading the entire cube into memory and may therefore be slow. [spectral_cube.utils]\n",
      "WARNING: PossiblySlowWarning: This function (<function BaseSpectralCube.sum at 0x7f8eb335c670>) requires loading the entire cube into memory and may therefore be slow. [spectral_cube.utils]\n"
     ]
    },
    {
     "name": "stdout",
     "output_type": "stream",
     "text": [
      "Reading fit2/fit__6mz107p/radmc_gas/HCN J=3-2_image.out\n"
     ]
    },
    {
     "name": "stderr",
     "output_type": "stream",
     "text": [
      "WARNING: PossiblySlowWarning: This function (<function BaseSpectralCube._apply_everywhere at 0x7f8eb335d5e0>) requires loading the entire cube into memory and may therefore be slow. [spectral_cube.utils]\n",
      "WARNING: PossiblySlowWarning: This function (<function BaseSpectralCube.to at 0x7f8eb33619d0>) requires loading the entire cube into memory and may therefore be slow. [spectral_cube.utils]\n",
      "WARNING: PossiblySlowWarning: This function (<function BaseSpectralCube.sum at 0x7f8eb335c670>) requires loading the entire cube into memory and may therefore be slow. [spectral_cube.utils]\n"
     ]
    },
    {
     "name": "stdout",
     "output_type": "stream",
     "text": [
      "Reading fit2/fit__6mz107p/radmc_gas/HCO+ J=3-2_image.out\n"
     ]
    },
    {
     "name": "stderr",
     "output_type": "stream",
     "text": [
      "WARNING: PossiblySlowWarning: This function (<function BaseSpectralCube._apply_everywhere at 0x7f8eb335d5e0>) requires loading the entire cube into memory and may therefore be slow. [spectral_cube.utils]\n",
      "WARNING: PossiblySlowWarning: This function (<function BaseSpectralCube.to at 0x7f8eb33619d0>) requires loading the entire cube into memory and may therefore be slow. [spectral_cube.utils]\n",
      "WARNING: PossiblySlowWarning: This function (<function BaseSpectralCube.sum at 0x7f8eb335c670>) requires loading the entire cube into memory and may therefore be slow. [spectral_cube.utils]\n"
     ]
    },
    {
     "name": "stdout",
     "output_type": "stream",
     "text": [
      "Reading fit2/fit__6mz107p/radmc_gas/N2H+ J=3-2_image.out\n"
     ]
    },
    {
     "name": "stderr",
     "output_type": "stream",
     "text": [
      "WARNING: PossiblySlowWarning: This function (<function BaseSpectralCube._apply_everywhere at 0x7f8eb335d5e0>) requires loading the entire cube into memory and may therefore be slow. [spectral_cube.utils]\n",
      "WARNING: PossiblySlowWarning: This function (<function BaseSpectralCube.to at 0x7f8eb33619d0>) requires loading the entire cube into memory and may therefore be slow. [spectral_cube.utils]\n",
      "WARNING: PossiblySlowWarning: This function (<function BaseSpectralCube.sum at 0x7f8eb335c670>) requires loading the entire cube into memory and may therefore be slow. [spectral_cube.utils]\n",
      "WARNING: PossiblySlowWarning: This function (<function BaseSpectralCube._apply_everywhere at 0x7f8eb335d5e0>) requires loading the entire cube into memory and may therefore be slow. [spectral_cube.utils]\n",
      "WARNING: PossiblySlowWarning: This function (<function BaseSpectralCube.to at 0x7f8eb33619d0>) requires loading the entire cube into memory and may therefore be slow. [spectral_cube.utils]\n",
      "WARNING: PossiblySlowWarning: This function (<function BaseSpectralCube.sum at 0x7f8eb335c670>) requires loading the entire cube into memory and may therefore be slow. [spectral_cube.utils]\n",
      "WARNING: PossiblySlowWarning: This function (<function BaseSpectralCube._apply_everywhere at 0x7f8eb335d5e0>) requires loading the entire cube into memory and may therefore be slow. [spectral_cube.utils]\n",
      "WARNING: PossiblySlowWarning: This function (<function BaseSpectralCube.to at 0x7f8eb33619d0>) requires loading the entire cube into memory and may therefore be slow. [spectral_cube.utils]\n",
      "WARNING: PossiblySlowWarning: This function (<function BaseSpectralCube.sum at 0x7f8eb335c670>) requires loading the entire cube into memory and may therefore be slow. [spectral_cube.utils]\n",
      "WARNING: PossiblySlowWarning: This function (<function BaseSpectralCube._apply_everywhere at 0x7f8eb335d5e0>) requires loading the entire cube into memory and may therefore be slow. [spectral_cube.utils]\n",
      "WARNING: PossiblySlowWarning: This function (<function BaseSpectralCube.to at 0x7f8eb33619d0>) requires loading the entire cube into memory and may therefore be slow. [spectral_cube.utils]\n",
      "WARNING: PossiblySlowWarning: This function (<function BaseSpectralCube.sum at 0x7f8eb335c670>) requires loading the entire cube into memory and may therefore be slow. [spectral_cube.utils]\n",
      " In the molecular data file for molecule 1\n",
      "          there are collisional transition rates specified\n",
      "          for 2 collision partners.\n",
      "          However, in lines.inp for this line only 1\n",
      "          names of the collision partners are given.\n",
      "          We will therefore use not all possible partners.\n",
      "\n",
      " In the molecular data file for molecule 2\n",
      "          there are collisional transition rates specified\n",
      "          for 2 collision partners.\n",
      "          However, in lines.inp for this line only 1\n",
      "          names of the collision partners are given.\n",
      "          We will therefore use not all possible partners.\n",
      "\n"
     ]
    },
    {
     "name": "stdout",
     "output_type": "stream",
     "text": [
      "Reading fit2/fit_syl6a9o0/radmc_gas/CO J=2-1_image.out\n",
      "Reading fit2/fit_syl6a9o0/radmc_gas/HCN J=3-2_image.out\n",
      "Reading fit2/fit_syl6a9o0/radmc_gas/HCO+ J=3-2_image.out\n",
      "Reading fit2/fit_syl6a9o0/radmc_gas/N2H+ J=3-2_image.out\n"
     ]
    },
    {
     "name": "stderr",
     "output_type": "stream",
     "text": [
      "WARNING: PossiblySlowWarning: This function (<function BaseSpectralCube._apply_everywhere at 0x7f8eb335d5e0>) requires loading the entire cube into memory and may therefore be slow. [spectral_cube.utils]\n",
      "WARNING: PossiblySlowWarning: This function (<function BaseSpectralCube.to at 0x7f8eb33619d0>) requires loading the entire cube into memory and may therefore be slow. [spectral_cube.utils]\n",
      "WARNING: PossiblySlowWarning: This function (<function BaseSpectralCube.sum at 0x7f8eb335c670>) requires loading the entire cube into memory and may therefore be slow. [spectral_cube.utils]\n",
      "WARNING: PossiblySlowWarning: This function (<function BaseSpectralCube._apply_everywhere at 0x7f8eb335d5e0>) requires loading the entire cube into memory and may therefore be slow. [spectral_cube.utils]\n",
      "WARNING: PossiblySlowWarning: This function (<function BaseSpectralCube.to at 0x7f8eb33619d0>) requires loading the entire cube into memory and may therefore be slow. [spectral_cube.utils]\n",
      "WARNING: PossiblySlowWarning: This function (<function BaseSpectralCube.sum at 0x7f8eb335c670>) requires loading the entire cube into memory and may therefore be slow. [spectral_cube.utils]\n",
      "WARNING: PossiblySlowWarning: This function (<function BaseSpectralCube._apply_everywhere at 0x7f8eb335d5e0>) requires loading the entire cube into memory and may therefore be slow. [spectral_cube.utils]\n",
      "WARNING: PossiblySlowWarning: This function (<function BaseSpectralCube.to at 0x7f8eb33619d0>) requires loading the entire cube into memory and may therefore be slow. [spectral_cube.utils]\n",
      "WARNING: PossiblySlowWarning: This function (<function BaseSpectralCube.sum at 0x7f8eb335c670>) requires loading the entire cube into memory and may therefore be slow. [spectral_cube.utils]\n",
      "WARNING: PossiblySlowWarning: This function (<function BaseSpectralCube._apply_everywhere at 0x7f8eb335d5e0>) requires loading the entire cube into memory and may therefore be slow. [spectral_cube.utils]\n",
      "WARNING: PossiblySlowWarning: This function (<function BaseSpectralCube.to at 0x7f8eb33619d0>) requires loading the entire cube into memory and may therefore be slow. [spectral_cube.utils]\n",
      "WARNING: PossiblySlowWarning: This function (<function BaseSpectralCube.sum at 0x7f8eb335c670>) requires loading the entire cube into memory and may therefore be slow. [spectral_cube.utils]\n",
      " In the molecular data file for molecule 1\n",
      "          there are collisional transition rates specified\n",
      "          for 2 collision partners.\n",
      "          However, in lines.inp for this line only 1\n",
      "          names of the collision partners are given.\n",
      "          We will therefore use not all possible partners.\n",
      "\n",
      " In the molecular data file for molecule 2\n",
      "          there are collisional transition rates specified\n",
      "          for 2 collision partners.\n",
      "          However, in lines.inp for this line only 1\n",
      "          names of the collision partners are given.\n",
      "          We will therefore use not all possible partners.\n",
      "\n"
     ]
    },
    {
     "name": "stdout",
     "output_type": "stream",
     "text": [
      "Reading fit2/fit_l75m9a86/radmc_gas/CO J=2-1_image.out\n",
      "Reading fit2/fit_l75m9a86/radmc_gas/HCN J=3-2_image.out\n",
      "Reading fit2/fit_l75m9a86/radmc_gas/HCO+ J=3-2_image.out\n",
      "Reading fit2/fit_l75m9a86/radmc_gas/N2H+ J=3-2_image.out\n"
     ]
    },
    {
     "name": "stderr",
     "output_type": "stream",
     "text": [
      "WARNING: PossiblySlowWarning: This function (<function BaseSpectralCube._apply_everywhere at 0x7f8eb335d5e0>) requires loading the entire cube into memory and may therefore be slow. [spectral_cube.utils]\n",
      "WARNING: PossiblySlowWarning: This function (<function BaseSpectralCube.to at 0x7f8eb33619d0>) requires loading the entire cube into memory and may therefore be slow. [spectral_cube.utils]\n",
      "WARNING: PossiblySlowWarning: This function (<function BaseSpectralCube.sum at 0x7f8eb335c670>) requires loading the entire cube into memory and may therefore be slow. [spectral_cube.utils]\n",
      "WARNING: PossiblySlowWarning: This function (<function BaseSpectralCube._apply_everywhere at 0x7f8eb335d5e0>) requires loading the entire cube into memory and may therefore be slow. [spectral_cube.utils]\n",
      "WARNING: PossiblySlowWarning: This function (<function BaseSpectralCube.to at 0x7f8eb33619d0>) requires loading the entire cube into memory and may therefore be slow. [spectral_cube.utils]\n",
      "WARNING: PossiblySlowWarning: This function (<function BaseSpectralCube.sum at 0x7f8eb335c670>) requires loading the entire cube into memory and may therefore be slow. [spectral_cube.utils]\n",
      "WARNING: PossiblySlowWarning: This function (<function BaseSpectralCube._apply_everywhere at 0x7f8eb335d5e0>) requires loading the entire cube into memory and may therefore be slow. [spectral_cube.utils]\n",
      "WARNING: PossiblySlowWarning: This function (<function BaseSpectralCube.to at 0x7f8eb33619d0>) requires loading the entire cube into memory and may therefore be slow. [spectral_cube.utils]\n",
      "WARNING: PossiblySlowWarning: This function (<function BaseSpectralCube.sum at 0x7f8eb335c670>) requires loading the entire cube into memory and may therefore be slow. [spectral_cube.utils]\n",
      "WARNING: PossiblySlowWarning: This function (<function BaseSpectralCube._apply_everywhere at 0x7f8eb335d5e0>) requires loading the entire cube into memory and may therefore be slow. [spectral_cube.utils]\n",
      "WARNING: PossiblySlowWarning: This function (<function BaseSpectralCube.to at 0x7f8eb33619d0>) requires loading the entire cube into memory and may therefore be slow. [spectral_cube.utils]\n",
      "WARNING: PossiblySlowWarning: This function (<function BaseSpectralCube.sum at 0x7f8eb335c670>) requires loading the entire cube into memory and may therefore be slow. [spectral_cube.utils]\n",
      "100%|██████████| 4/4 [35:53<00:00, 538.30s/it]\n"
     ]
    }
   ],
   "source": [
    "with Pool() as pool:\n",
    "    sampler = emcee.EnsembleSampler(nwalkers, ndims, lnprob, pool=pool)\n",
    "    start = time.time()\n",
    "    sampler.run_mcmc(initials, nsteps, progress=True)\n",
    "    end = time.time()"
   ],
   "metadata": {
    "collapsed": false,
    "pycharm": {
     "name": "#%%\n"
    }
   }
  },
  {
   "cell_type": "code",
   "execution_count": 11,
   "outputs": [
    {
     "data": {
      "text/plain": "array([[  0.96173534,  78.70009593,  47.92776511, 142.60588138],\n       [  0.52528881,  20.15078227,  14.82040559, 207.89336829],\n       [  0.6361321 ,  34.3267742 ,  21.58227746, 136.61669071],\n       [  1.61981197,  27.5494455 ,  29.36589308,  75.43650495],\n       [  0.74224058,  35.4095918 ,  34.0134012 , 250.36009161],\n       [  1.36189501,  18.40709814,  12.67457327, 245.38689523],\n       [  0.94466917,  25.84039962,  37.29857532, 275.60843021],\n       [  1.32075203,  16.60623677,  15.69059741, 289.52673691],\n       [  0.91998605,  73.52291374,  44.67712607, 146.55951582],\n       [  0.44280682,  14.34959955,   7.52350118, 191.74812308],\n       [  0.6361321 ,  34.3267742 ,  21.58227746, 136.61669071],\n       [  1.61981197,  27.5494455 ,  29.36589308,  75.43650495],\n       [  0.74224058,  35.4095918 ,  34.0134012 , 250.36009161],\n       [  1.35849635,  18.91918184,  12.97398756, 244.51395003],\n       [  0.88939554,  27.19756253,  40.47434196, 273.56282953],\n       [  1.32075203,  16.60623677,  15.69059741, 289.52673691],\n       [  0.91998605,  73.52291374,  44.67712607, 146.55951582],\n       [  0.44280682,  14.34959955,   7.52350118, 191.74812308],\n       [  0.6361321 ,  34.3267742 ,  21.58227746, 136.61669071],\n       [  1.4319017 ,  25.44207441,  25.87872926,  94.005793  ],\n       [  0.74224058,  35.4095918 ,  34.0134012 , 250.36009161],\n       [  1.35849635,  18.91918184,  12.97398756, 244.51395003],\n       [  1.09252467,  23.6128742 ,  28.56619191, 260.98414015],\n       [  1.33589054,  17.16018554,  16.38284531, 278.68941993],\n       [  0.91998605,  73.52291374,  44.67712607, 146.55951582],\n       [  0.44280682,  14.34959955,   7.52350118, 191.74812308],\n       [  0.52937999,  32.78334669,  19.61374792, 140.70961759],\n       [  1.24377001,  43.11203496,  32.78723865, 113.31956169],\n       [  0.65571012,  29.32366855,  26.35834148, 233.42238632],\n       [  1.31956196,  27.12945115,  19.69796206, 199.99083179],\n       [  1.09252467,  23.6128742 ,  28.56619191, 260.98414015],\n       [  1.33589054,  17.16018554,  16.38284531, 278.68941993]])"
     },
     "execution_count": 11,
     "metadata": {},
     "output_type": "execute_result"
    }
   ],
   "source": [
    "sampler.flatchain"
   ],
   "metadata": {
    "collapsed": false,
    "pycharm": {
     "name": "#%%\n"
    }
   }
  },
  {
   "cell_type": "code",
   "execution_count": 12,
   "outputs": [],
   "source": [
    "from matplotlib import pyplot as plt\n",
    "import pickle"
   ],
   "metadata": {
    "collapsed": false,
    "pycharm": {
     "name": "#%%\n"
    }
   }
  },
  {
   "cell_type": "code",
   "execution_count": 13,
   "outputs": [],
   "source": [
    "with open(\"fit2/sampler.pkl\", \"wb\") as pkl:\n",
    "    pickle.dump(sampler, pkl)"
   ],
   "metadata": {
    "collapsed": false,
    "pycharm": {
     "name": "#%%\n"
    }
   }
  },
  {
   "cell_type": "code",
   "execution_count": 35,
   "outputs": [],
   "source": [
    "import corner\n",
    "import matplotlib.colors, matplotlib.cm"
   ],
   "metadata": {
    "collapsed": false,
    "pycharm": {
     "name": "#%%\n"
    }
   }
  },
  {
   "cell_type": "code",
   "execution_count": 38,
   "outputs": [
    {
     "data": {
      "text/plain": "<Figure size 698.4x698.4 with 16 Axes>",
      "image/png": "[encoded data removed]"
     },
     "metadata": {
      "needs_background": "light"
     },
     "output_type": "display_data"
    }
   ],
   "source": [
    "fig = corner.corner(sampler.flatchain, labels=[\"mass\", \"inclination\", \"PA\", \"distance\"], truths=trues,\n",
    "                    plot_contours=False, plot_density=False)\n",
    "for point, color in zip(\n",
    "        sampler.flatchain,\n",
    "        matplotlib.cm.get_cmap(\"viridis\")(\n",
    "            matplotlib.colors.Normalize()(sampler.flatlnprobability)\n",
    "        )\n",
    "):\n",
    "    corner.overplot_points(\n",
    "        fig, [point], color=color\n",
    "    )"
   ],
   "metadata": {
    "collapsed": false,
    "pycharm": {
     "name": "#%%\n"
    }
   }
  },
  {
   "cell_type": "code",
   "execution_count": 33,
   "outputs": [
    {
     "data": {
      "text/plain": "masked_array(data=[0.99973794, 0.97724924, 0.99571857, 0.        ,\n                   0.95568334, 0.95956426, 0.94679346, 0.94324862,\n                   1.        , 0.9851177 , 0.99571857, 0.        ,\n                   0.95568334, 0.95990774, 0.94756137, 0.94324862,\n                   1.        , 0.9851177 , 0.99571857, 0.72594774,\n                   0.95568334, 0.95990774, 0.95209115, 0.94684331,\n                   1.        , 0.9851177 , 0.99829558, 0.93449796,\n                   0.96364335, 0.98042699, 0.95209115, 0.94684331],\n             mask=False,\n       fill_value=1e+20)"
     },
     "execution_count": 33,
     "metadata": {},
     "output_type": "execute_result"
    }
   ],
   "source": [
    "matplotlib.colors.Normalize()(sampler.flatlnprobability)"
   ],
   "metadata": {
    "collapsed": false,
    "pycharm": {
     "name": "#%%\n"
    }
   }
  }
 ],
 "metadata": {
  "kernelspec": {
   "display_name": "Python 3",
   "language": "python",
   "name": "python3"
  },
  "language_info": {
   "codemirror_mode": {
    "name": "ipython",
    "version": 3
   },
   "file_extension": ".py",
   "mimetype": "text/x-python",
   "name": "python",
   "nbconvert_exporter": "python",
   "pygments_lexer": "ipython3",
   "version": "3.8.5"
  }
 },
 "nbformat": 4,
 "nbformat_minor": 1
}